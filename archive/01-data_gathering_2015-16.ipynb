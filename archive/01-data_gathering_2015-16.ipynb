{
 "cells": [
  {
   "cell_type": "markdown",
   "id": "5441dbf6-065a-4372-8118-b756d1f9a590",
   "metadata": {
    "tags": []
   },
   "source": [
    "# Data-Gathering"
   ]
  },
  {
   "cell_type": "markdown",
   "id": "5d20fea8-0588-4e66-9672-19ca2fbd3832",
   "metadata": {
    "tags": []
   },
   "source": [
    "## imports"
   ]
  },
  {
   "cell_type": "code",
   "execution_count": null,
   "id": "4018516d-fa22-49d6-b7b8-51da85ce01f1",
   "metadata": {},
   "outputs": [],
   "source": [
    "import pandas as pd\n",
    "import wmfdata as wmf\n",
    "\n",
    "pd.options.display.max_columns = None"
   ]
  },
  {
   "cell_type": "code",
   "execution_count": null,
   "id": "853f4765-f0fa-4861-ab23-4e2dcccd5112",
   "metadata": {},
   "outputs": [],
   "source": [
    "import numpy as np"
   ]
  },
  {
   "cell_type": "code",
   "execution_count": null,
   "id": "bcbbb075-bd0f-42bf-a055-df599fdc3431",
   "metadata": {},
   "outputs": [],
   "source": [
    "import warnings\n",
    "import re"
   ]
  },
  {
   "cell_type": "code",
   "execution_count": null,
   "id": "20daf3cb-b395-492c-9dc0-94b7b50551b2",
   "metadata": {},
   "outputs": [],
   "source": [
    "from bs4 import BeautifulSoup"
   ]
  },
  {
   "cell_type": "code",
   "execution_count": null,
   "id": "2feb50b8-deab-43c1-a9cb-245b5cdcab37",
   "metadata": {},
   "outputs": [],
   "source": [
    "import os\n",
    "\n",
    "os.environ.pop('HTTP_PROXY', None)\n",
    "os.environ.pop('HTTPS_PROXY', None)\n",
    "os.environ.pop('http_proxy', None)\n",
    "os.environ.pop('https_proxy', None)"
   ]
  },
  {
   "cell_type": "code",
   "execution_count": null,
   "id": "feff3e48-953c-4608-a133-2fcc4fcccb12",
   "metadata": {},
   "outputs": [],
   "source": [
    "import requests"
   ]
  },
  {
   "cell_type": "markdown",
   "id": "8fbac308-5d1f-4d11-9558-946a9a2fbac4",
   "metadata": {
    "tags": []
   },
   "source": [
    "## spark_session"
   ]
  },
  {
   "cell_type": "code",
   "execution_count": null,
   "id": "81c0706a-60a3-4636-b0aa-e4bfac33150c",
   "metadata": {},
   "outputs": [],
   "source": [
    "spark_session = wmf.spark.get_active_session()\n",
    "\n",
    "if type(spark_session) != type(None):\n",
    "    spark_session.stop()\n",
    "else:\n",
    "    print('no active session')"
   ]
  },
  {
   "cell_type": "code",
   "execution_count": null,
   "id": "ba67c99f-c4bf-4d87-82c8-92bf7db15d15",
   "metadata": {},
   "outputs": [],
   "source": [
    "spark_session = wmf.spark.create_custom_session(\n",
    "    master=\"yarn\",\n",
    "    app_name='cws-data',\n",
    "    spark_config={\n",
    "        \"spark.driver.memory\": \"4g\",\n",
    "        \"spark.dynamicAllocation.maxExecutors\": 64,\n",
    "        \"spark.executor.memory\": \"16g\",\n",
    "        \"spark.executor.cores\": 4,\n",
    "        \"spark.sql.shuffle.partitions\": 256,\n",
    "        \"spark.driver.maxResultSize\": \"2g\"\n",
    "        \n",
    "    }\n",
    ")"
   ]
  },
  {
   "cell_type": "code",
   "execution_count": null,
   "id": "191bf28c-2009-4c1b-a775-838b7f675a0a",
   "metadata": {},
   "outputs": [],
   "source": [
    "spark_session"
   ]
  },
  {
   "cell_type": "code",
   "execution_count": null,
   "id": "32198688-e186-47f6-a0f1-a7637e2db866",
   "metadata": {},
   "outputs": [],
   "source": [
    "spark_session.sparkContext.setLogLevel(\"ERROR\")"
   ]
  },
  {
   "cell_type": "markdown",
   "id": "fed03f92-1abd-41a4-ad0f-08af4cdba9df",
   "metadata": {
    "tags": []
   },
   "source": [
    "## query"
   ]
  },
  {
   "cell_type": "code",
   "execution_count": null,
   "id": "48f22fbb-bfc0-493a-b635-bfebfb67548b",
   "metadata": {},
   "outputs": [],
   "source": [
    "\n",
    "cws_links"
   ]
  },
  {
   "cell_type": "code",
   "execution_count": null,
   "id": "8a9d5a92-737b-45e0-a4cf-91f3b5950a97",
   "metadata": {},
   "outputs": [],
   "source": [
    "mediawiki_snapshot = '2023-07'"
   ]
  },
  {
   "cell_type": "markdown",
   "id": "dc6170f9-e3e4-4dd8-a4d7-abd8f534df4f",
   "metadata": {},
   "source": [
    "# 2015"
   ]
  },
  {
   "cell_type": "code",
   "execution_count": null,
   "id": "8726ca57-a476-4d3f-8765-0fa7d4b7007d",
   "metadata": {},
   "outputs": [],
   "source": [
    "warnings.filterwarnings('ignore')\n",
    "\n",
    "categories_2015_query = \"\"\"\n",
    "WITH base AS (\n",
    "    SELECT\n",
    "        REPLACE(page_title, '{SURVEY_TITLE}/', '') AS category,\n",
    "        page_title AS category_title\n",
    "    FROM \n",
    "        categorylinks cl\n",
    "        JOIN page p\n",
    "        ON cl.cl_from = p.page_id\n",
    "    WHERE\n",
    "        cl_to = '{CATEGORY_TITLE}'\n",
    "        AND cl_type = 'page'\n",
    "        AND page_title LIKE '{SURVEY_TITLE}/%'\n",
    "        AND NOT page_title LIKE '{SURVEY_TITLE}/%/%'\n",
    ")\n",
    "    \n",
    "SELECT \n",
    "    *\n",
    "FROM \n",
    "    base\n",
    "WHERE \n",
    "    NOT (\n",
    "        category LIKE '%report%'\n",
    "        OR category LIKE '%Result%'\n",
    "        OR category LIKE '%Archive%'\n",
    "    )\n",
    "\"\"\"\n",
    "\n",
    "categories_2015 = wmf.mariadb.run(categories_2015_query.format(CATEGORY_TITLE=get_title(2015, 'category_subpages'), SURVEY_TITLE=get_title(2015, 'main_page')), 'metawiki')\n",
    "categories_2015"
   ]
  },
  {
   "cell_type": "code",
   "execution_count": null,
   "id": "949a151d-082e-4e7d-abb3-c61197bbe732",
   "metadata": {},
   "outputs": [],
   "source": [
    "api_endpoint = 'https://api-ro.discovery.wmnet/w/api.php'\n",
    "host_wiki = {'Host': 'meta.wikimedia.org'}"
   ]
  },
  {
   "cell_type": "code",
   "execution_count": null,
   "id": "027ca0b1-5786-4d36-ae8d-86fe6b60a2be",
   "metadata": {},
   "outputs": [],
   "source": [
    "%%time\n",
    "\n",
    "data = {}\n",
    "\n",
    "for i in categories_2015.index:\n",
    "    category_name = categories_2015.loc[i, 'category']\n",
    "    category_title = categories_2015.loc[i, 'category_title']\n",
    "\n",
    "    wishes = process_wishes(category_title)\n",
    "    data[category_name] = {}\n",
    "    \n",
    "    for wish_index, wish in wishes.items():\n",
    "        \n",
    "        wish_text = get_section_text(category_title, wish_index)\n",
    "        break"
   ]
  },
  {
   "cell_type": "code",
   "execution_count": null,
   "id": "6294621d-8652-4944-8fa9-681d54a97e1c",
   "metadata": {},
   "outputs": [],
   "source": [
    "%%time\n",
    "\n",
    "data = {}\n",
    "\n",
    "for i in categories_2015.index:\n",
    "    category_name = categories_2015.loc[i, 'category']\n",
    "    category_title = categories_2015.loc[i, 'category_title']\n",
    "\n",
    "    wishes = process_wishes(category_title, year=2015)\n",
    "\n",
    "    data[category_name] = {}\n",
    "\n",
    "    for wish_index, wish in wishes.items():\n",
    "        wish_text = get_section_text(category_title, wish_index)['parse']['wikitext']['*']\n",
    "        votes = get_voters_api(category_title, wish)\n",
    "\n",
    "        proposal, discussion = split_proposal_parts(wish_text)\n",
    "\n",
    "        data[category_name][wish['title']] = {\n",
    "            'proposers': extract_usernames(proposal),\n",
    "            'phab_tickets': extract_phab_tickets(proposal),\n",
    "            'discussion_participants': extract_usernames(discussion),\n",
    "            'voters': usernames_from_parser(votes)\n",
    "        }"
   ]
  },
  {
   "cell_type": "markdown",
   "id": "4373788b-a891-4d75-aab4-e29f1462da59",
   "metadata": {},
   "source": [
    "# 2016"
   ]
  },
  {
   "cell_type": "code",
   "execution_count": null,
   "id": "157cb199-868a-4ed3-9c25-ddce06142dda",
   "metadata": {},
   "outputs": [],
   "source": [
    "warnings.filterwarnings('ignore')\n",
    "\n",
    "categories_2016_query = \"\"\"\n",
    "SELECT\n",
    "    REPLACE(page_title, '{SURVEY_TITLE}/Categories/', '') AS category,\n",
    "    page_title AS category_title\n",
    "FROM\n",
    "    categorylinks cl\n",
    "    JOIN page p\n",
    "    ON cl.cl_from = p.page_id\n",
    "WHERE\n",
    "    cl_to = '{CATEGORY_TITLE}' \n",
    "    AND page_title LIKE '{SURVEY_TITLE}/Categories/%'\n",
    "\"\"\"\n",
    "\n",
    "categories_2016 = wmf.mariadb.run(categories_2016_query.format(CATEGORY_TITLE=get_title(2016, 'category_subpages'), SURVEY_TITLE=get_title(2016, 'main_page')), 'metawiki')\n",
    "categories_2016"
   ]
  },
  {
   "cell_type": "code",
   "execution_count": null,
   "id": "e26d4c55-f0df-49ca-8d04-5d0c1f716903",
   "metadata": {},
   "outputs": [],
   "source": []
  }
 ],
 "metadata": {
  "kernelspec": {
   "display_name": "Python 3 (ipykernel)",
   "language": "python",
   "name": "python3"
  },
  "language_info": {
   "codemirror_mode": {
    "name": "ipython",
    "version": 3
   },
   "file_extension": ".py",
   "mimetype": "text/x-python",
   "name": "python",
   "nbconvert_exporter": "python",
   "pygments_lexer": "ipython3",
   "version": "3.10.8"
  }
 },
 "nbformat": 4,
 "nbformat_minor": 5
}
