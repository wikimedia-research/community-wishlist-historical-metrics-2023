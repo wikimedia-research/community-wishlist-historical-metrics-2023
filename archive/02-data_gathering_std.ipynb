{
 "cells": [
  {
   "cell_type": "markdown",
   "id": "b6a78b4b-761f-420c-a0e6-5d6daab3b588",
   "metadata": {
    "tags": []
   },
   "source": [
    "# Data-Gathering"
   ]
  },
  {
   "cell_type": "markdown",
   "id": "c649dcbf-3101-486e-b94e-cebb12ad5b9d",
   "metadata": {
    "tags": []
   },
   "source": [
    "## imports"
   ]
  },
  {
   "cell_type": "code",
   "execution_count": null,
   "id": "d35207b2-b52b-4e79-9f41-0c78667ac085",
   "metadata": {},
   "outputs": [],
   "source": [
    "import pandas as pd\n",
    "import wmfdata as wmf\n",
    "\n",
    "pd.options.display.max_columns = None\n",
    "\n",
    "import numpy as np\n",
    "\n",
    "import warnings\n",
    "import re\n",
    "\n",
    "import os\n",
    "import requests\n",
    "os.environ.pop('HTTP_PROXY', None)\n",
    "os.environ.pop('HTTPS_PROXY', None)\n",
    "os.environ.pop('http_proxy', None)\n",
    "os.environ.pop('https_proxy', None)"
   ]
  },
  {
   "cell_type": "code",
   "execution_count": null,
   "id": "9746ead1-c6e0-48d9-b378-5a83650eda48",
   "metadata": {},
   "outputs": [],
   "source": [
    "mediawiki_snapshot = '2023-08'"
   ]
  },
  {
   "cell_type": "markdown",
   "id": "27bf889b-9316-4c57-941f-0a4b18da6840",
   "metadata": {
    "tags": []
   },
   "source": [
    "## spark_session"
   ]
  },
  {
   "cell_type": "code",
   "execution_count": null,
   "id": "178c91fe-d60a-4d11-8142-0f1940e34e88",
   "metadata": {},
   "outputs": [],
   "source": [
    "spark_session = wmf.spark.get_active_session()\n",
    "\n",
    "if type(spark_session) != type(None):\n",
    "    spark_session.stop()\n",
    "else:\n",
    "    print('no active session')"
   ]
  },
  {
   "cell_type": "code",
   "execution_count": null,
   "id": "4ed63474-063f-493c-9f6a-f88ef2b2b06d",
   "metadata": {},
   "outputs": [],
   "source": [
    "spark_session = wmf.spark.create_custom_session(\n",
    "    master=\"yarn\",\n",
    "    app_name='cws-data',\n",
    "    spark_config={\n",
    "        \"spark.driver.memory\": \"4g\",\n",
    "        \"spark.dynamicAllocation.maxExecutors\": 64,\n",
    "        \"spark.executor.memory\": \"16g\",\n",
    "        \"spark.executor.cores\": 4,\n",
    "        \"spark.sql.shuffle.partitions\": 256,\n",
    "        \"spark.driver.maxResultSize\": \"2g\"\n",
    "        \n",
    "    }\n",
    ")"
   ]
  },
  {
   "cell_type": "code",
   "execution_count": null,
   "id": "d048e4b1-1b65-4428-8628-9bce09679975",
   "metadata": {},
   "outputs": [],
   "source": [
    "spark_session"
   ]
  },
  {
   "cell_type": "code",
   "execution_count": null,
   "id": "2a38302b-f151-4c3b-9b6e-70da096f61de",
   "metadata": {},
   "outputs": [],
   "source": [
    "spark_session.sparkContext.setLogLevel(\"ERROR\")"
   ]
  },
  {
   "cell_type": "code",
   "execution_count": null,
   "id": "76f7bbe4-610f-4fa7-b2d2-16848643373f",
   "metadata": {},
   "outputs": [],
   "source": [
    "api_endpoint = 'https://api-ro.discovery.wmnet/w/api.php'\n",
    "host_wiki = {'Host': 'meta.wikimedia.org'}"
   ]
  },
  {
   "cell_type": "markdown",
   "id": "9b6d3430-ce2f-41b5-8f40-6a484bcc9b85",
   "metadata": {
    "tags": []
   },
   "source": [
    "## query"
   ]
  },
  {
   "cell_type": "code",
   "execution_count": null,
   "id": "2c2045bc-3cf4-43b4-abcc-09ecf0b02582",
   "metadata": {},
   "outputs": [],
   "source": [
    "cws_links = pd.read_csv('cws_page_links.tsv', sep='\\t')\n",
    "cws_links"
   ]
  },
  {
   "cell_type": "code",
   "execution_count": null,
   "id": "8db19f7a-7b00-453a-9016-4ddc23f30272",
   "metadata": {},
   "outputs": [],
   "source": [
    "def get_title(year, page, replace_space=True, df=cws_links):\n",
    "    title = df.query(\"year == @year\")[page].values[0]\n",
    "    \n",
    "    if replace_space:\n",
    "        return title.replace(' ', '_')\n",
    "    else:\n",
    "        return title"
   ]
  },
  {
   "cell_type": "code",
   "execution_count": null,
   "id": "6ca4ea0f-9bcb-42f4-8479-7f1c9d071652",
   "metadata": {},
   "outputs": [],
   "source": [
    "def get_cateogries(category_subpages, survey_title):\n",
    "    query = \"\"\"\n",
    "    SELECT\n",
    "        REPLACE(page_title, '{SURVEY_TITLE}/', '') AS category,\n",
    "        page_title AS category_title\n",
    "    FROM\n",
    "        categorylinks cl\n",
    "        JOIN page p\n",
    "        ON cl.cl_from = p.page_id\n",
    "    WHERE\n",
    "        cl_to = '{CATEGORY_TITLE}' \n",
    "        AND page_title LIKE '{SURVEY_TITLE}/%'\n",
    "    ORDER BY\n",
    "        category_title\n",
    "    \"\"\"\n",
    "    \n",
    "    return wmf.mariadb.run(query.format(CATEGORY_TITLE=category_subpages, SURVEY_TITLE=survey_title), dbs='metawiki')"
   ]
  },
  {
   "cell_type": "code",
   "execution_count": null,
   "id": "4c864c96-9932-4c6d-a74e-736038a78009",
   "metadata": {},
   "outputs": [],
   "source": [
    "proposal_categories = get_cateogries(category_subpages, survey_title)\n",
    "proposal_categories"
   ]
  },
  {
   "cell_type": "code",
   "execution_count": null,
   "id": "6aec5f24-5203-4088-ae12-8339d12c2950",
   "metadata": {},
   "outputs": [],
   "source": [
    "archive_category = pd.DataFrame({\n",
    "    'category': 'Archive',\n",
    "    'category_title': get_title(year, 'archive_page')\n",
    "}, index=pd.Index([0]))"
   ]
  },
  {
   "cell_type": "code",
   "execution_count": null,
   "id": "7ef5dedc-72c8-4bef-a21a-0a58c2d241da",
   "metadata": {},
   "outputs": [],
   "source": [
    "proposal_categories = pd.concat([proposal_categories, archive_category], ignore_index=True)"
   ]
  },
  {
   "cell_type": "code",
   "execution_count": null,
   "id": "50c3b0b6-fc6f-42f1-8037-0a99e2d73c93",
   "metadata": {},
   "outputs": [],
   "source": [
    "proposal_categories"
   ]
  },
  {
   "cell_type": "code",
   "execution_count": null,
   "id": "44ff1b58-f195-42b3-9334-e8861535806e",
   "metadata": {},
   "outputs": [],
   "source": [
    "warnings.filterwarnings('ignore')\n",
    "data = {}\n",
    "\n",
    "for i in proposal_categories.index:\n",
    "    i = 15\n",
    "    category = proposal_categories.loc[i, 'category']\n",
    "    category_title = proposal_categories.loc[i, 'category_title']\n",
    "    proposals_list = extract_proposals(get_wikitext(category_title)['parse']['wikitext']['*'])\n",
    "    \n",
    "    for proposal in proposals_list:\n",
    "        \n",
    "        proposal_name = proposal.replace(category_title.replace('_', ' '), '').strip('/')\n",
    "        \n",
    "        page_wikitext = get_wikitext(proposal)['parse']['wikitext']['*']\n",
    "        page_sections = get_page_sections(proposal)['parse']['sections']\n",
    "        \n",
    "        data[category][proposal_name] = {\n",
    "            'proposer': extract_proposer(page_wikitext),\n",
    "            'phab_tickets': extract_phab_tickets(page_wikitext),\n",
    "            'discussion_participants': usernames_from_parser(get_iwlinks(proposal, get_section_index('discussion'))),\n",
    "            'voters': usernames_from_parser(get_iwlinks(proposal, get_section_index('voting')))\n",
    "        }        \n",
    "        \n",
    "    "
   ]
  }
 ],
 "metadata": {
  "kernelspec": {
   "display_name": "Python 3 (ipykernel)",
   "language": "python",
   "name": "python3"
  },
  "language_info": {
   "codemirror_mode": {
    "name": "ipython",
    "version": 3
   },
   "file_extension": ".py",
   "mimetype": "text/x-python",
   "name": "python",
   "nbconvert_exporter": "python",
   "pygments_lexer": "ipython3",
   "version": "3.10.8"
  }
 },
 "nbformat": 4,
 "nbformat_minor": 5
}
