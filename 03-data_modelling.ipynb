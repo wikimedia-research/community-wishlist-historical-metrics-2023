{
 "cells": [
  {
   "cell_type": "code",
   "execution_count": 2,
   "id": "a4032915-e960-4de7-b5bf-9f5bca51acad",
   "metadata": {},
   "outputs": [],
   "source": [
    "import pandas as pd\n",
    "import duckdb\n",
    "import json\n",
    "import warnings"
   ]
  },
  {
   "cell_type": "code",
   "execution_count": 3,
   "id": "f36451a0-7720-4de5-889a-d87b0d69462a",
   "metadata": {},
   "outputs": [],
   "source": [
    "proposals_data_path = 'data/01-cws_proposals_data.json'\n",
    "with open(proposals_data_path) as data:\n",
    "    proposals = json.load(data)\n",
    "    \n",
    "error_log_path = 'data/02-cws_proposals_error_log.json'\n",
    "with open(error_log_path) as data:\n",
    "    errors = json.load(data)\n",
    "    \n",
    "user_data = pd.read_csv('secrets/cws_user_data_merged.tsv', sep='\\t', index_col=0)"
   ]
  },
  {
   "cell_type": "markdown",
   "id": "c7064427-0391-4119-93ad-1b895e43273a",
   "metadata": {},
   "source": [
    "# Processing functions"
   ]
  },
  {
   "cell_type": "code",
   "execution_count": 4,
   "id": "03bda609-8a0c-448f-92d2-275dd24b6499",
   "metadata": {},
   "outputs": [],
   "source": [
    "def process_proposals(data):\n",
    "    rows = []\n",
    "    \n",
    "    for year, categories in data.items():\n",
    "        for category, proposals in categories.items():\n",
    "            for proposal in proposals:\n",
    "                rows.append({'year': year, 'category': category, 'proposal': proposal})\n",
    "    \n",
    "    return pd.DataFrame(rows)\n",
    "\n",
    "def process_participant_roles(data):\n",
    "    rows = []\n",
    "    \n",
    "    roles_mapping = {\n",
    "        'proposer': 'proposer',\n",
    "        'discussion_participants': 'discussant',\n",
    "        'voters': 'voter'\n",
    "    }\n",
    "    \n",
    "    for year, categories in data.items():\n",
    "        for category, proposals in categories.items():\n",
    "            for proposal, details in proposals.items():\n",
    "                for role_key, role_singular in roles_mapping.items():\n",
    "                    rows.append({\n",
    "                        'year': year,\n",
    "                        'wish': proposal,\n",
    "                        'role': role_singular,\n",
    "                        'username': details[role_key] if role_key in details else []\n",
    "                    })\n",
    "    \n",
    "    df = pd.DataFrame(rows)\n",
    "\n",
    "    df = df.explode('username', ignore_index=True)\n",
    "    \n",
    "    return df\n",
    "\n",
    "def process_phab_tickets(data):\n",
    "    rows = []\n",
    "    \n",
    "    for year, categories in data.items():\n",
    "        for category, proposals in categories.items():\n",
    "            for proposal, details in proposals.items():\n",
    "                rows.append({\n",
    "                    'year': year,\n",
    "                    'proposal': proposal,\n",
    "                    'phab_tickets': details.get('phab_tickets', [])\n",
    "                })\n",
    "    \n",
    "    return pd.DataFrame(rows)\n",
    "\n",
    "def process_user_data(df):\n",
    "    df['edit_count'] = df.apply(lambda row: {'hw': row['hw_edit_count'], 'mw': row['mw_edit_count']}, axis=1)\n",
    "    df['edit_bucket'] = df.apply(lambda row: {'hw': row['hw_edit_bucket'], 'mw': row['mw_bucket']}, axis=1)\n",
    "    df['account_age'] = df.apply(lambda row: {'months': row['account_age_months'], 'years': row['account_age_years']}, axis=1)\n",
    "\n",
    "    df = df.drop(columns=['hw_edit_count', 'mw_edit_count', 'hw_edit_bucket', 'mw_bucket', 'account_age_months', 'account_age_years'])\n",
    "    \n",
    "    return df\n",
    "\n",
    "def process_rejects(data):\n",
    "    rows = []\n",
    "    \n",
    "    for year, categories in data.items():\n",
    "        for category, proposals in categories.items():\n",
    "            for proposal, details in proposals.items():\n",
    "                try:\n",
    "                    rows.append({\n",
    "                        'year': year,\n",
    "                        'proposal': proposal,\n",
    "                        'reason': details.get('reject_reason', 0)\n",
    "                    })\n",
    "                except:\n",
    "                    pass\n",
    "    \n",
    "    return pd.DataFrame(rows).query(\"\"\"reason != 0\"\"\").reset_index(drop=True)\n",
    "\n",
    "def process_error_log(data):\n",
    "    rows = []\n",
    "\n",
    "    for year, proposals in data.items():\n",
    "        for proposal_name, details in proposals.items():\n",
    "            category = details['category']\n",
    "            error = details['error']\n",
    "            rows.append({'year': year, \n",
    "                         'proposal_name': proposal_name, \n",
    "                         'category': category, \n",
    "                         'error': error})\n",
    "                \n",
    "    return pd.DataFrame(rows)"
   ]
  },
  {
   "cell_type": "markdown",
   "id": "a5be372c-0c12-429a-8a52-8fdfe8464b6d",
   "metadata": {},
   "source": [
    "# Write to DB"
   ]
  },
  {
   "cell_type": "code",
   "execution_count": 24,
   "id": "8a466583-bff4-45f0-96a0-3685ed695c9f",
   "metadata": {},
   "outputs": [],
   "source": [
    "conn = duckdb.connect('secrets/cws_data.db')"
   ]
  },
  {
   "cell_type": "code",
   "execution_count": 12,
   "id": "c4402946-7dd1-4eb9-bddd-e137363edda0",
   "metadata": {},
   "outputs": [],
   "source": [
    "categories_mapping = {\n",
    "    'Admins_and_stewards': 'Moderation_tools', \n",
    "    'Admins_and_patrollers': 'Moderation_tools',\n",
    "    'Moderation_and_admin_tools': 'Moderation_tools',\n",
    "    'Commons': 'Multimedia_and_Commons',\n",
    "    'Multimedia': 'Multimedia_and_Commons',\n",
    "    'Notifications,_Watchlists_and_Talk_Pages': 'Communication_tools',\n",
    "    'Notifications': 'Communication_tools',\n",
    "    'Talk_pages': 'Communication_tools',\n",
    "    'Special_pages': 'Communication_tools',\n",
    "    'Search_and_Categories': 'Navigation_tools',\n",
    "    'Search': 'Navigation_tools',\n",
    "    'Categories': 'Navigation_tools'\n",
    "    }"
   ]
  },
  {
   "cell_type": "code",
   "execution_count": 13,
   "id": "63eba4b8-d1b8-4994-b0f2-7a695607d513",
   "metadata": {},
   "outputs": [
    {
     "data": {
      "text/plain": [
       "<duckdb.DuckDBPyConnection at 0x7f1091b06f30>"
      ]
     },
     "execution_count": 13,
     "metadata": {},
     "output_type": "execute_result"
    }
   ],
   "source": [
    "proposals_by_year = process_proposals(proposals).replace(dict(category = categories_mapping))\n",
    "\n",
    "conn.execute(\"\"\"\n",
    "CREATE OR REPLACE TABLE proposals AS \n",
    "SELECT\n",
    "    year::INTEGER AS year,\n",
    "    category,\n",
    "    proposal\n",
    "FROM\n",
    "    proposals_by_year\n",
    "\"\"\")"
   ]
  },
  {
   "cell_type": "code",
   "execution_count": 11,
   "id": "b7dafe9a-89ad-4976-87a7-558f3bb65494",
   "metadata": {},
   "outputs": [
    {
     "data": {
      "text/plain": [
       "<duckdb.DuckDBPyConnection at 0x7f17457481b0>"
      ]
     },
     "execution_count": 11,
     "metadata": {},
     "output_type": "execute_result"
    }
   ],
   "source": [
    "participant_roles = process_participant_roles(proposals)\n",
    "\n",
    "conn.execute(\"\"\"\n",
    "CREATE OR REPLACE TABLE roles AS \n",
    "SELECT\n",
    "    year::INTEGER AS year,\n",
    "    wish AS proposal,\n",
    "    role,\n",
    "    username\n",
    "FROM\n",
    "    participant_roles\n",
    "\"\"\")"
   ]
  },
  {
   "cell_type": "code",
   "execution_count": 7,
   "id": "56b6bc29-ba26-446b-aa61-dd7441e4d3fc",
   "metadata": {},
   "outputs": [
    {
     "data": {
      "text/plain": [
       "<duckdb.DuckDBPyConnection at 0x7f17457481b0>"
      ]
     },
     "execution_count": 7,
     "metadata": {},
     "output_type": "execute_result"
    }
   ],
   "source": [
    "phab_tickets = process_phab_tickets(proposals)\n",
    "\n",
    "conn.execute(\"\"\"\n",
    "CREATE OR REPLACE TABLE phab_tickets AS \n",
    "SELECT\n",
    "    year::INTEGER AS year,\n",
    "    proposal,\n",
    "    phab_tickets\n",
    "FROM\n",
    "    phab_tickets\n",
    "\"\"\")"
   ]
  },
  {
   "cell_type": "code",
   "execution_count": 17,
   "id": "33bc2afe-3183-41c0-86d3-4caf030323d1",
   "metadata": {},
   "outputs": [
    {
     "data": {
      "text/plain": [
       "<duckdb.DuckDBPyConnection at 0x7f17457481b0>"
      ]
     },
     "execution_count": 17,
     "metadata": {},
     "output_type": "execute_result"
    }
   ],
   "source": [
    "user_data_processed = process_user_data(user_data)\n",
    "\n",
    "conn.execute(\"\"\"\n",
    "CREATE OR REPLACE TABLE user_data AS \n",
    "SELECT\n",
    "    survey_year::INTEGER AS year,\n",
    "    username,\n",
    "    home_wiki,\n",
    "    hw_user_groups,\n",
    "    edit_count,\n",
    "    edit_bucket,\n",
    "    account_age\n",
    "FROM\n",
    "    user_data_processed\n",
    "\"\"\")"
   ]
  },
  {
   "cell_type": "code",
   "execution_count": 58,
   "id": "5261e3a8-899f-48b1-8be9-f3637952dbfc",
   "metadata": {},
   "outputs": [
    {
     "data": {
      "text/plain": [
       "<duckdb.DuckDBPyConnection at 0x7f170cbd9bb0>"
      ]
     },
     "execution_count": 58,
     "metadata": {},
     "output_type": "execute_result"
    }
   ],
   "source": [
    "rejected_proposals = process_rejects(proposals)\n",
    "\n",
    "conn.execute(\"\"\"\n",
    "CREATE OR REPLACE TABLE rejects AS \n",
    "SELECT\n",
    "    year::INTEGER AS year,\n",
    "    proposal,\n",
    "    reason\n",
    "FROM\n",
    "    rejected_proposals\n",
    "\"\"\")"
   ]
  },
  {
   "cell_type": "code",
   "execution_count": 21,
   "id": "46803fb3-7229-4d61-8e45-70d5991060c7",
   "metadata": {},
   "outputs": [
    {
     "data": {
      "text/plain": [
       "<duckdb.DuckDBPyConnection at 0x7f10886d00b0>"
      ]
     },
     "execution_count": 21,
     "metadata": {},
     "output_type": "execute_result"
    }
   ],
   "source": [
    "error_log = process_error_log(errors).replace(dict(category = categories_mapping))\n",
    "\n",
    "conn.execute(\"\"\"\n",
    "CREATE OR REPLACE TABLE errors AS \n",
    "SELECT\n",
    "    year::INTEGER AS year,\n",
    "    category,\n",
    "    proposal_name AS proposal,\n",
    "    error\n",
    "FROM\n",
    "    error_log\n",
    "\"\"\")"
   ]
  },
  {
   "cell_type": "code",
   "execution_count": 29,
   "id": "23b3dbc4-4974-4d5e-85c6-8fd6d2b02e25",
   "metadata": {},
   "outputs": [
    {
     "data": {
      "text/html": [
       "<div>\n",
       "<style scoped>\n",
       "    .dataframe tbody tr th:only-of-type {\n",
       "        vertical-align: middle;\n",
       "    }\n",
       "\n",
       "    .dataframe tbody tr th {\n",
       "        vertical-align: top;\n",
       "    }\n",
       "\n",
       "    .dataframe thead th {\n",
       "        text-align: right;\n",
       "    }\n",
       "</style>\n",
       "<table border=\"1\" class=\"dataframe\">\n",
       "  <thead>\n",
       "    <tr style=\"text-align: right;\">\n",
       "      <th></th>\n",
       "      <th>overall size rank</th>\n",
       "      <th>monthly unique devices</th>\n",
       "      <th>mobile unique devices</th>\n",
       "      <th>monthly pageviews</th>\n",
       "      <th>mobile web pageviews</th>\n",
       "      <th>mobile app pageviews</th>\n",
       "      <th>unique devices per editor</th>\n",
       "      <th>monthly editors</th>\n",
       "      <th>majority mobile editors</th>\n",
       "      <th>monthly active editors</th>\n",
       "      <th>...</th>\n",
       "      <th>content pages</th>\n",
       "      <th>all time content edits</th>\n",
       "      <th>all time edits per content page</th>\n",
       "      <th>script direction</th>\n",
       "      <th>wiki_db</th>\n",
       "      <th>project code</th>\n",
       "      <th>language code</th>\n",
       "      <th>language name</th>\n",
       "      <th>domain name</th>\n",
       "      <th>wiki name</th>\n",
       "    </tr>\n",
       "  </thead>\n",
       "  <tbody>\n",
       "    <tr>\n",
       "      <th>0</th>\n",
       "      <td>1</td>\n",
       "      <td>8.069060e+08</td>\n",
       "      <td>0.7015</td>\n",
       "      <td>7.244414e+09</td>\n",
       "      <td>0.6150</td>\n",
       "      <td>0.0230</td>\n",
       "      <td>6377.9096</td>\n",
       "      <td>126515.7500</td>\n",
       "      <td>0.2669</td>\n",
       "      <td>31491.7500</td>\n",
       "      <td>...</td>\n",
       "      <td>6614510</td>\n",
       "      <td>696533897</td>\n",
       "      <td>105.3039</td>\n",
       "      <td>left-to-right</td>\n",
       "      <td>enwiki</td>\n",
       "      <td>wikipedia</td>\n",
       "      <td>en</td>\n",
       "      <td>English</td>\n",
       "      <td>en.wikipedia.org</td>\n",
       "      <td>English Wikipedia</td>\n",
       "    </tr>\n",
       "    <tr>\n",
       "      <th>1</th>\n",
       "      <td>2</td>\n",
       "      <td>1.454586e+08</td>\n",
       "      <td>0.7365</td>\n",
       "      <td>8.425080e+08</td>\n",
       "      <td>0.6895</td>\n",
       "      <td>0.0074</td>\n",
       "      <td>9270.8329</td>\n",
       "      <td>15689.9167</td>\n",
       "      <td>0.3233</td>\n",
       "      <td>4319.1667</td>\n",
       "      <td>...</td>\n",
       "      <td>1837386</td>\n",
       "      <td>101324297</td>\n",
       "      <td>55.1459</td>\n",
       "      <td>left-to-right</td>\n",
       "      <td>eswiki</td>\n",
       "      <td>wikipedia</td>\n",
       "      <td>es</td>\n",
       "      <td>Spanish</td>\n",
       "      <td>es.wikipedia.org</td>\n",
       "      <td>Spanish Wikipedia</td>\n",
       "    </tr>\n",
       "    <tr>\n",
       "      <th>2</th>\n",
       "      <td>3</td>\n",
       "      <td>1.023815e+08</td>\n",
       "      <td>0.7442</td>\n",
       "      <td>9.944083e+08</td>\n",
       "      <td>0.6627</td>\n",
       "      <td>0.0101</td>\n",
       "      <td>6680.9011</td>\n",
       "      <td>15324.5000</td>\n",
       "      <td>0.3004</td>\n",
       "      <td>5330.2500</td>\n",
       "      <td>...</td>\n",
       "      <td>1361481</td>\n",
       "      <td>71951024</td>\n",
       "      <td>52.8476</td>\n",
       "      <td>left-to-right</td>\n",
       "      <td>jawiki</td>\n",
       "      <td>wikipedia</td>\n",
       "      <td>ja</td>\n",
       "      <td>Japanese</td>\n",
       "      <td>ja.wikipedia.org</td>\n",
       "      <td>Japanese Wikipedia</td>\n",
       "    </tr>\n",
       "    <tr>\n",
       "      <th>3</th>\n",
       "      <td>4</td>\n",
       "      <td>9.708916e+07</td>\n",
       "      <td>0.6266</td>\n",
       "      <td>8.161037e+08</td>\n",
       "      <td>0.5496</td>\n",
       "      <td>0.0491</td>\n",
       "      <td>5272.5254</td>\n",
       "      <td>18414.1667</td>\n",
       "      <td>0.1619</td>\n",
       "      <td>5134.9167</td>\n",
       "      <td>...</td>\n",
       "      <td>2769985</td>\n",
       "      <td>141779143</td>\n",
       "      <td>51.1841</td>\n",
       "      <td>left-to-right</td>\n",
       "      <td>dewiki</td>\n",
       "      <td>wikipedia</td>\n",
       "      <td>de</td>\n",
       "      <td>German</td>\n",
       "      <td>de.wikipedia.org</td>\n",
       "      <td>German Wikipedia</td>\n",
       "    </tr>\n",
       "    <tr>\n",
       "      <th>4</th>\n",
       "      <td>5</td>\n",
       "      <td>9.349382e+07</td>\n",
       "      <td>0.6784</td>\n",
       "      <td>7.546241e+08</td>\n",
       "      <td>0.5366</td>\n",
       "      <td>0.0156</td>\n",
       "      <td>5045.4700</td>\n",
       "      <td>18530.2500</td>\n",
       "      <td>0.2023</td>\n",
       "      <td>4933.5000</td>\n",
       "      <td>...</td>\n",
       "      <td>2492047</td>\n",
       "      <td>117511241</td>\n",
       "      <td>47.1545</td>\n",
       "      <td>left-to-right</td>\n",
       "      <td>frwiki</td>\n",
       "      <td>wikipedia</td>\n",
       "      <td>fr</td>\n",
       "      <td>French</td>\n",
       "      <td>fr.wikipedia.org</td>\n",
       "      <td>French Wikipedia</td>\n",
       "    </tr>\n",
       "  </tbody>\n",
       "</table>\n",
       "<p>5 rows × 30 columns</p>\n",
       "</div>"
      ],
      "text/plain": [
       "   overall size rank  monthly unique devices  mobile unique devices  \\\n",
       "0                  1            8.069060e+08                 0.7015   \n",
       "1                  2            1.454586e+08                 0.7365   \n",
       "2                  3            1.023815e+08                 0.7442   \n",
       "3                  4            9.708916e+07                 0.6266   \n",
       "4                  5            9.349382e+07                 0.6784   \n",
       "\n",
       "   monthly pageviews  mobile web pageviews  mobile app pageviews  \\\n",
       "0       7.244414e+09                0.6150                0.0230   \n",
       "1       8.425080e+08                0.6895                0.0074   \n",
       "2       9.944083e+08                0.6627                0.0101   \n",
       "3       8.161037e+08                0.5496                0.0491   \n",
       "4       7.546241e+08                0.5366                0.0156   \n",
       "\n",
       "   unique devices per editor  monthly editors  majority mobile editors  \\\n",
       "0                  6377.9096      126515.7500                   0.2669   \n",
       "1                  9270.8329       15689.9167                   0.3233   \n",
       "2                  6680.9011       15324.5000                   0.3004   \n",
       "3                  5272.5254       18414.1667                   0.1619   \n",
       "4                  5045.4700       18530.2500                   0.2023   \n",
       "\n",
       "   monthly active editors  ...  content pages  all time content edits  \\\n",
       "0              31491.7500  ...        6614510               696533897   \n",
       "1               4319.1667  ...        1837386               101324297   \n",
       "2               5330.2500  ...        1361481                71951024   \n",
       "3               5134.9167  ...        2769985               141779143   \n",
       "4               4933.5000  ...        2492047               117511241   \n",
       "\n",
       "   all time edits per content page  script direction  wiki_db  project code  \\\n",
       "0                         105.3039     left-to-right   enwiki     wikipedia   \n",
       "1                          55.1459     left-to-right   eswiki     wikipedia   \n",
       "2                          52.8476     left-to-right   jawiki     wikipedia   \n",
       "3                          51.1841     left-to-right   dewiki     wikipedia   \n",
       "4                          47.1545     left-to-right   frwiki     wikipedia   \n",
       "\n",
       "   language code  language name       domain name           wiki name  \n",
       "0             en        English  en.wikipedia.org   English Wikipedia  \n",
       "1             es        Spanish  es.wikipedia.org   Spanish Wikipedia  \n",
       "2             ja       Japanese  ja.wikipedia.org  Japanese Wikipedia  \n",
       "3             de         German  de.wikipedia.org    German Wikipedia  \n",
       "4             fr         French  fr.wikipedia.org    French Wikipedia  \n",
       "\n",
       "[5 rows x 30 columns]"
      ]
     },
     "execution_count": 29,
     "metadata": {},
     "output_type": "execute_result"
    }
   ],
   "source": [
    "wiki_comparision.head()"
   ]
  },
  {
   "cell_type": "code",
   "execution_count": 41,
   "id": "49ed3450-776f-4f8d-b577-f28a6ce8a30d",
   "metadata": {},
   "outputs": [
    {
     "data": {
      "text/plain": [
       "<duckdb.DuckDBPyConnection at 0x7f0f0f6facf0>"
      ]
     },
     "execution_count": 41,
     "metadata": {},
     "output_type": "execute_result"
    }
   ],
   "source": [
    "cd_wikis = pd.read_csv('https://raw.githubusercontent.com/wikimedia-research/canonical-data/master/wiki/wikis.tsv', sep='\\t')\n",
    "wiki_comparision = (pd\n",
    "                    .read_csv('https://raw.githubusercontent.com/wikimedia-research/wiki-comparison/main/data-collection/snapshots/Jan_2023.tsv', sep='\\t')\n",
    "                    .rename({'database code': 'wiki_db'}, axis=1))\n",
    "\n",
    "conn.execute(\"\"\"\n",
    "CREATE OR REPLACE TABLE cdw AS \n",
    "SELECT\n",
    "    cd_wikis.database_code AS wiki_db,\n",
    "    database_group AS db_group,\n",
    "    language_name AS lang_name,\n",
    "    english_name AS wiki_name,\n",
    "    \"overall size rank\" AS size_rank\n",
    "FROM\n",
    "    cd_wikis \n",
    "    LEFT JOIN wiki_comparision wc ON cd_wikis.database_code = wc.wiki_db\n",
    "\"\"\")"
   ]
  },
  {
   "cell_type": "markdown",
   "id": "5b6d28d0-2827-42b6-a48c-0d39b577dfb8",
   "metadata": {},
   "source": [
    "# Check data types"
   ]
  },
  {
   "cell_type": "code",
   "execution_count": 42,
   "id": "87e53ae4-3b2e-4551-a8c4-edca53f592a9",
   "metadata": {},
   "outputs": [
    {
     "name": "stdout",
     "output_type": "stream",
     "text": [
      "┌─────────────┬─────────────┬─────────┬─────────┬─────────┬───────┐\n",
      "│ column_name │ column_type │  null   │   key   │ default │ extra │\n",
      "│   varchar   │   varchar   │ varchar │ varchar │ varchar │ int32 │\n",
      "├─────────────┼─────────────┼─────────┼─────────┼─────────┼───────┤\n",
      "│ year        │ INTEGER     │ YES     │ NULL    │ NULL    │  NULL │\n",
      "│ category    │ VARCHAR     │ YES     │ NULL    │ NULL    │  NULL │\n",
      "│ proposal    │ VARCHAR     │ YES     │ NULL    │ NULL    │  NULL │\n",
      "└─────────────┴─────────────┴─────────┴─────────┴─────────┴───────┘\n",
      "\n",
      "┌─────────────┬─────────────┬─────────┬─────────┬─────────┬───────┐\n",
      "│ column_name │ column_type │  null   │   key   │ default │ extra │\n",
      "│   varchar   │   varchar   │ varchar │ varchar │ varchar │ int32 │\n",
      "├─────────────┼─────────────┼─────────┼─────────┼─────────┼───────┤\n",
      "│ year        │ INTEGER     │ YES     │ NULL    │ NULL    │  NULL │\n",
      "│ proposal    │ VARCHAR     │ YES     │ NULL    │ NULL    │  NULL │\n",
      "│ role        │ VARCHAR     │ YES     │ NULL    │ NULL    │  NULL │\n",
      "│ username    │ VARCHAR     │ YES     │ NULL    │ NULL    │  NULL │\n",
      "└─────────────┴─────────────┴─────────┴─────────┴─────────┴───────┘\n",
      "\n",
      "┌──────────────┬─────────────┬─────────┬─────────┬─────────┬───────┐\n",
      "│ column_name  │ column_type │  null   │   key   │ default │ extra │\n",
      "│   varchar    │   varchar   │ varchar │ varchar │ varchar │ int32 │\n",
      "├──────────────┼─────────────┼─────────┼─────────┼─────────┼───────┤\n",
      "│ year         │ INTEGER     │ YES     │ NULL    │ NULL    │  NULL │\n",
      "│ proposal     │ VARCHAR     │ YES     │ NULL    │ NULL    │  NULL │\n",
      "│ phab_tickets │ VARCHAR[]   │ YES     │ NULL    │ NULL    │  NULL │\n",
      "└──────────────┴─────────────┴─────────┴─────────┴─────────┴───────┘\n",
      "\n",
      "┌────────────────┬─────────────────────────────────────────┬─────────┬─────────┬─────────┬───────┐\n",
      "│  column_name   │               column_type               │  null   │   key   │ default │ extra │\n",
      "│    varchar     │                 varchar                 │ varchar │ varchar │ varchar │ int32 │\n",
      "├────────────────┼─────────────────────────────────────────┼─────────┼─────────┼─────────┼───────┤\n",
      "│ year           │ INTEGER                                 │ YES     │ NULL    │ NULL    │  NULL │\n",
      "│ username       │ VARCHAR                                 │ YES     │ NULL    │ NULL    │  NULL │\n",
      "│ home_wiki      │ VARCHAR                                 │ YES     │ NULL    │ NULL    │  NULL │\n",
      "│ hw_user_groups │ VARCHAR                                 │ YES     │ NULL    │ NULL    │  NULL │\n",
      "│ edit_count     │ STRUCT(hw DOUBLE, mw DOUBLE)            │ YES     │ NULL    │ NULL    │  NULL │\n",
      "│ edit_bucket    │ STRUCT(hw VARCHAR, mw VARCHAR)          │ YES     │ NULL    │ NULL    │  NULL │\n",
      "│ account_age    │ STRUCT(\"months\" DOUBLE, \"years\" DOUBLE) │ YES     │ NULL    │ NULL    │  NULL │\n",
      "└────────────────┴─────────────────────────────────────────┴─────────┴─────────┴─────────┴───────┘\n",
      "\n",
      "┌─────────────┬─────────────┬─────────┬─────────┬─────────┬───────┐\n",
      "│ column_name │ column_type │  null   │   key   │ default │ extra │\n",
      "│   varchar   │   varchar   │ varchar │ varchar │ varchar │ int32 │\n",
      "├─────────────┼─────────────┼─────────┼─────────┼─────────┼───────┤\n",
      "│ year        │ INTEGER     │ YES     │ NULL    │ NULL    │  NULL │\n",
      "│ proposal    │ VARCHAR     │ YES     │ NULL    │ NULL    │  NULL │\n",
      "│ reason      │ VARCHAR     │ YES     │ NULL    │ NULL    │  NULL │\n",
      "└─────────────┴─────────────┴─────────┴─────────┴─────────┴───────┘\n",
      "\n",
      "┌─────────────┬─────────────┬─────────┬─────────┬─────────┬───────┐\n",
      "│ column_name │ column_type │  null   │   key   │ default │ extra │\n",
      "│   varchar   │   varchar   │ varchar │ varchar │ varchar │ int32 │\n",
      "├─────────────┼─────────────┼─────────┼─────────┼─────────┼───────┤\n",
      "│ year        │ INTEGER     │ YES     │ NULL    │ NULL    │  NULL │\n",
      "│ category    │ VARCHAR     │ YES     │ NULL    │ NULL    │  NULL │\n",
      "│ proposal    │ VARCHAR     │ YES     │ NULL    │ NULL    │  NULL │\n",
      "│ error       │ VARCHAR     │ YES     │ NULL    │ NULL    │  NULL │\n",
      "└─────────────┴─────────────┴─────────┴─────────┴─────────┴───────┘\n",
      "\n",
      "┌─────────────┬─────────────┬─────────┬─────────┬─────────┬───────┐\n",
      "│ column_name │ column_type │  null   │   key   │ default │ extra │\n",
      "│   varchar   │   varchar   │ varchar │ varchar │ varchar │ int32 │\n",
      "├─────────────┼─────────────┼─────────┼─────────┼─────────┼───────┤\n",
      "│ wiki_db     │ VARCHAR     │ YES     │ NULL    │ NULL    │  NULL │\n",
      "│ db_group    │ VARCHAR     │ YES     │ NULL    │ NULL    │  NULL │\n",
      "│ lang_name   │ VARCHAR     │ YES     │ NULL    │ NULL    │  NULL │\n",
      "│ wiki_name   │ VARCHAR     │ YES     │ NULL    │ NULL    │  NULL │\n",
      "│ size_rank   │ BIGINT      │ YES     │ NULL    │ NULL    │  NULL │\n",
      "└─────────────┴─────────────┴─────────┴─────────┴─────────┴───────┘\n",
      "\n"
     ]
    }
   ],
   "source": [
    "conn.sql(\"\"\"DESCRIBE proposals\"\"\").show()\n",
    "conn.sql(\"\"\"DESCRIBE roles\"\"\").show()\n",
    "conn.sql(\"\"\"DESCRIBE phab_tickets\"\"\").show()\n",
    "conn.sql(\"\"\"DESCRIBE user_data\"\"\").show()\n",
    "conn.sql(\"\"\"DESCRIBE rejects\"\"\").show()\n",
    "conn.sql(\"\"\"DESCRIBE errors\"\"\").show()\n",
    "conn.sql(\"\"\"DESCRIBE cdw\"\"\").show()"
   ]
  },
  {
   "cell_type": "code",
   "execution_count": 23,
   "id": "4a4c2f46-c04b-4efd-b3ac-7a686014067d",
   "metadata": {},
   "outputs": [],
   "source": [
    "conn.close()"
   ]
  },
  {
   "cell_type": "code",
   "execution_count": null,
   "id": "1189bf8e-7ddb-464a-8d8f-b564ab296f21",
   "metadata": {},
   "outputs": [],
   "source": []
  }
 ],
 "metadata": {
  "kernelspec": {
   "display_name": "Python 3 (ipykernel)",
   "language": "python",
   "name": "python3"
  },
  "language_info": {
   "codemirror_mode": {
    "name": "ipython",
    "version": 3
   },
   "file_extension": ".py",
   "mimetype": "text/x-python",
   "name": "python",
   "nbconvert_exporter": "python",
   "pygments_lexer": "ipython3",
   "version": "3.10.8"
  }
 },
 "nbformat": 4,
 "nbformat_minor": 5
}
