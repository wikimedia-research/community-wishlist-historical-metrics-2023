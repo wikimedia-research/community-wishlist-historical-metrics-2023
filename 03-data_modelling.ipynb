{
 "cells": [
  {
   "cell_type": "code",
   "execution_count": 1,
   "id": "a4032915-e960-4de7-b5bf-9f5bca51acad",
   "metadata": {},
   "outputs": [],
   "source": [
    "import pandas as pd\n",
    "import duckdb\n",
    "import json\n",
    "import warnings\n",
    "import ast"
   ]
  },
  {
   "cell_type": "code",
   "execution_count": 2,
   "id": "f36451a0-7720-4de5-889a-d87b0d69462a",
   "metadata": {},
   "outputs": [],
   "source": [
    "proposals_data_path = 'data/01-cws_proposals_data.json'\n",
    "with open(proposals_data_path) as data:\n",
    "    proposals = json.load(data)\n",
    "    \n",
    "error_log_path = 'data/02-cws_proposals_error_log.json'\n",
    "with open(error_log_path) as data:\n",
    "    errors = json.load(data)\n",
    "    \n",
    "user_data = pd.read_csv('secrets/cws_user_data_merged.tsv', sep='\\t', index_col=0)"
   ]
  },
  {
   "cell_type": "markdown",
   "id": "c7064427-0391-4119-93ad-1b895e43273a",
   "metadata": {},
   "source": [
    "# Processing functions"
   ]
  },
  {
   "cell_type": "code",
   "execution_count": 3,
   "id": "03bda609-8a0c-448f-92d2-275dd24b6499",
   "metadata": {},
   "outputs": [],
   "source": [
    "def process_proposals(data):\n",
    "    rows = []\n",
    "    \n",
    "    for year, categories in data.items():\n",
    "        for category, proposals in categories.items():\n",
    "            for proposal in proposals:\n",
    "                rows.append({'year': year, 'category': category, 'proposal': proposal})\n",
    "    \n",
    "    return pd.DataFrame(rows)\n",
    "\n",
    "def process_participant_roles(data):\n",
    "    rows = []\n",
    "    \n",
    "    roles_mapping = {\n",
    "        'proposer': 'proposer',\n",
    "        'discussion_participants': 'discussant',\n",
    "        'voters': 'voter'\n",
    "    }\n",
    "    \n",
    "    for year, categories in data.items():\n",
    "        for category, proposals in categories.items():\n",
    "            for proposal, details in proposals.items():\n",
    "                for role_key, role_singular in roles_mapping.items():\n",
    "                    if role_key in details and details[role_key]:\n",
    "                        rows.append({\n",
    "                            'year': year,\n",
    "                            'wish': proposal,\n",
    "                            'role': role_singular,\n",
    "                            'username': details[role_key]\n",
    "                        })\n",
    "    \n",
    "    df = pd.DataFrame(rows)\n",
    "    df = df.explode('username', ignore_index=True)\n",
    "    \n",
    "    return df\n",
    "\n",
    "def process_phab_tickets(data):\n",
    "    rows = []\n",
    "    \n",
    "    for year, categories in data.items():\n",
    "        for category, proposals in categories.items():\n",
    "            for proposal, details in proposals.items():\n",
    "                rows.append({\n",
    "                    'year': year,\n",
    "                    'proposal': proposal,\n",
    "                    'phab_tickets': details.get('phab_tickets', [])\n",
    "                })\n",
    "    \n",
    "    return pd.DataFrame(rows)\n",
    "\n",
    "def process_user_data(df):\n",
    "    df['edit_count'] = df.apply(lambda row: {'hw': row['hw_edit_count'], 'mw': row['mw_edit_count']}, axis=1)\n",
    "    df['edit_bucket'] = df.apply(lambda row: {'hw': row['hw_edit_bucket'], 'mw': row['mw_bucket']}, axis=1)\n",
    "    df['account_age'] = df.apply(lambda row: {'months': row['account_age_months'], 'years': row['account_age_years']}, axis=1)\n",
    "\n",
    "    df = df.drop(columns=['hw_edit_count', 'mw_edit_count', 'hw_edit_bucket', 'mw_bucket', 'account_age_months', 'account_age_years'])\n",
    "    \n",
    "    return df\n",
    "\n",
    "def process_rejects(data):\n",
    "    rows = []\n",
    "    \n",
    "    for year, categories in data.items():\n",
    "        for category, proposals in categories.items():\n",
    "            for proposal, details in proposals.items():\n",
    "                try:\n",
    "                    rows.append({\n",
    "                        'year': year,\n",
    "                        'proposal': proposal,\n",
    "                        'reason': details.get('reject_reason', 0)\n",
    "                    })\n",
    "                except:\n",
    "                    pass\n",
    "    \n",
    "    return pd.DataFrame(rows).query(\"\"\"reason != 0\"\"\").reset_index(drop=True)\n",
    "\n",
    "def process_error_log(data):\n",
    "    rows = []\n",
    "\n",
    "    for year, proposals in data.items():\n",
    "        for proposal_name, details in proposals.items():\n",
    "            category = details['category']\n",
    "            error = details['error']\n",
    "            rows.append({'year': year, \n",
    "                         'proposal_name': proposal_name, \n",
    "                         'category': category, \n",
    "                         'error': error})\n",
    "                \n",
    "    return pd.DataFrame(rows)"
   ]
  },
  {
   "cell_type": "markdown",
   "id": "a5be372c-0c12-429a-8a52-8fdfe8464b6d",
   "metadata": {},
   "source": [
    "# Write to DB"
   ]
  },
  {
   "cell_type": "code",
   "execution_count": 4,
   "id": "8a466583-bff4-45f0-96a0-3685ed695c9f",
   "metadata": {},
   "outputs": [],
   "source": [
    "conn = duckdb.connect('secrets/cws_data.db')"
   ]
  },
  {
   "cell_type": "code",
   "execution_count": 5,
   "id": "c4402946-7dd1-4eb9-bddd-e137363edda0",
   "metadata": {},
   "outputs": [],
   "source": [
    "categories_mapping = {\n",
    "    'Admins_and_stewards': 'Moderation_tools', \n",
    "    'Admins_and_patrollers': 'Moderation_tools',\n",
    "    'Moderation_and_admin_tools': 'Moderation_tools',\n",
    "    'Commons': 'Multimedia_and_Commons',\n",
    "    'Multimedia': 'Multimedia_and_Commons',\n",
    "    'Notifications,_Watchlists_and_Talk_Pages': 'Communication_tools',\n",
    "    'Notifications': 'Communication_tools',\n",
    "    'Talk_pages': 'Communication_tools',\n",
    "    'Special_pages': 'Communication_tools',\n",
    "    'Search_and_Categories': 'Navigation_tools',\n",
    "    'Search': 'Navigation_tools',\n",
    "    'Categories': 'Navigation_tools'\n",
    "    }"
   ]
  },
  {
   "cell_type": "code",
   "execution_count": 6,
   "id": "63eba4b8-d1b8-4994-b0f2-7a695607d513",
   "metadata": {},
   "outputs": [
    {
     "data": {
      "text/plain": [
       "<duckdb.DuckDBPyConnection at 0x7f4c622b8a70>"
      ]
     },
     "execution_count": 6,
     "metadata": {},
     "output_type": "execute_result"
    }
   ],
   "source": [
    "proposals_by_year = process_proposals(proposals).replace(dict(category = categories_mapping))\n",
    "\n",
    "conn.execute(\"\"\"\n",
    "CREATE OR REPLACE TABLE proposals AS \n",
    "SELECT\n",
    "    year::INTEGER AS year,\n",
    "    category,\n",
    "    proposal\n",
    "FROM\n",
    "    proposals_by_year\n",
    "\"\"\")"
   ]
  },
  {
   "cell_type": "code",
   "execution_count": 7,
   "id": "b7dafe9a-89ad-4976-87a7-558f3bb65494",
   "metadata": {},
   "outputs": [
    {
     "data": {
      "text/plain": [
       "<duckdb.DuckDBPyConnection at 0x7f4c622b8a70>"
      ]
     },
     "execution_count": 7,
     "metadata": {},
     "output_type": "execute_result"
    }
   ],
   "source": [
    "participant_roles = process_participant_roles(proposals)\n",
    "\n",
    "conn.execute(\"\"\"\n",
    "CREATE OR REPLACE TABLE roles AS \n",
    "SELECT\n",
    "    year::INTEGER AS year,\n",
    "    wish AS proposal,\n",
    "    role,\n",
    "    username\n",
    "FROM\n",
    "    participant_roles\n",
    "\"\"\")"
   ]
  },
  {
   "cell_type": "code",
   "execution_count": 8,
   "id": "56b6bc29-ba26-446b-aa61-dd7441e4d3fc",
   "metadata": {},
   "outputs": [
    {
     "data": {
      "text/plain": [
       "<duckdb.DuckDBPyConnection at 0x7f4c622b8a70>"
      ]
     },
     "execution_count": 8,
     "metadata": {},
     "output_type": "execute_result"
    }
   ],
   "source": [
    "phab_tickets = process_phab_tickets(proposals)\n",
    "\n",
    "conn.execute(\"\"\"\n",
    "CREATE OR REPLACE TABLE phab_tickets AS \n",
    "SELECT\n",
    "    year::INTEGER AS year,\n",
    "    proposal,\n",
    "    phab_tickets\n",
    "FROM\n",
    "    phab_tickets\n",
    "\"\"\")"
   ]
  },
  {
   "cell_type": "code",
   "execution_count": 9,
   "id": "c838a915-f991-426d-b5a1-8ea3f26d4729",
   "metadata": {},
   "outputs": [],
   "source": [
    "def convert_to_list(s):\n",
    "    if pd.isna(s) or s == 'None':\n",
    "        return []\n",
    "    try:\n",
    "        return ast.literal_eval(s)\n",
    "    except (SyntaxError, ValueError):\n",
    "        return []"
   ]
  },
  {
   "cell_type": "code",
   "execution_count": 10,
   "id": "33bc2afe-3183-41c0-86d3-4caf030323d1",
   "metadata": {},
   "outputs": [
    {
     "data": {
      "text/plain": [
       "<duckdb.DuckDBPyConnection at 0x7f4c622b8a70>"
      ]
     },
     "execution_count": 10,
     "metadata": {},
     "output_type": "execute_result"
    }
   ],
   "source": [
    "user_data['hw_user_groups'] = user_data['hw_user_groups'].apply(convert_to_list)\n",
    "user_data_processed = process_user_data(user_data)\n",
    "\n",
    "conn.execute(\"\"\"\n",
    "CREATE OR REPLACE TABLE user_data AS \n",
    "SELECT\n",
    "    survey_year::INTEGER AS year,\n",
    "    username,\n",
    "    home_wiki,\n",
    "    hw_user_groups,\n",
    "    edit_count,\n",
    "    edit_bucket,\n",
    "    account_age\n",
    "FROM\n",
    "    user_data_processed\n",
    "\"\"\")"
   ]
  },
  {
   "cell_type": "code",
   "execution_count": 11,
   "id": "5261e3a8-899f-48b1-8be9-f3637952dbfc",
   "metadata": {},
   "outputs": [
    {
     "data": {
      "text/plain": [
       "<duckdb.DuckDBPyConnection at 0x7f4c622b8a70>"
      ]
     },
     "execution_count": 11,
     "metadata": {},
     "output_type": "execute_result"
    }
   ],
   "source": [
    "rejected_proposals = process_rejects(proposals)\n",
    "\n",
    "conn.execute(\"\"\"\n",
    "CREATE OR REPLACE TABLE rejects AS \n",
    "SELECT\n",
    "    year::INTEGER AS year,\n",
    "    proposal,\n",
    "    reason\n",
    "FROM\n",
    "    rejected_proposals\n",
    "\"\"\")"
   ]
  },
  {
   "cell_type": "code",
   "execution_count": 12,
   "id": "46803fb3-7229-4d61-8e45-70d5991060c7",
   "metadata": {},
   "outputs": [
    {
     "data": {
      "text/plain": [
       "<duckdb.DuckDBPyConnection at 0x7f4c622b8a70>"
      ]
     },
     "execution_count": 12,
     "metadata": {},
     "output_type": "execute_result"
    }
   ],
   "source": [
    "error_log = process_error_log(errors).replace(dict(category = categories_mapping))\n",
    "\n",
    "conn.execute(\"\"\"\n",
    "CREATE OR REPLACE TABLE errors AS \n",
    "SELECT\n",
    "    year::INTEGER AS year,\n",
    "    category,\n",
    "    proposal_name AS proposal,\n",
    "    error\n",
    "FROM\n",
    "    error_log\n",
    "\"\"\")"
   ]
  },
  {
   "cell_type": "code",
   "execution_count": 13,
   "id": "49ed3450-776f-4f8d-b577-f28a6ce8a30d",
   "metadata": {},
   "outputs": [
    {
     "data": {
      "text/plain": [
       "<duckdb.DuckDBPyConnection at 0x7f4c622b8a70>"
      ]
     },
     "execution_count": 13,
     "metadata": {},
     "output_type": "execute_result"
    }
   ],
   "source": [
    "cd_wikis = pd.read_csv('https://raw.githubusercontent.com/wikimedia-research/canonical-data/master/wiki/wikis.tsv', sep='\\t')\n",
    "wiki_comparision = (pd\n",
    "                    .read_csv('https://raw.githubusercontent.com/wikimedia-research/wiki-comparison/main/data-collection/snapshots/Jan_2023.tsv', sep='\\t')\n",
    "                    .rename({'database code': 'wiki_db'}, axis=1))\n",
    "\n",
    "conn.execute(\"\"\"\n",
    "CREATE OR REPLACE TABLE cdw AS \n",
    "SELECT\n",
    "    cd_wikis.database_code AS wiki_db,\n",
    "    database_group AS db_group,\n",
    "    language_name AS lang_name,\n",
    "    english_name AS wiki_name,\n",
    "    \"overall size rank\" AS size_rank\n",
    "FROM\n",
    "    cd_wikis \n",
    "    LEFT JOIN wiki_comparision wc ON cd_wikis.database_code = wc.wiki_db\n",
    "\"\"\")"
   ]
  },
  {
   "cell_type": "markdown",
   "id": "5b6d28d0-2827-42b6-a48c-0d39b577dfb8",
   "metadata": {},
   "source": [
    "# Check data types"
   ]
  },
  {
   "cell_type": "code",
   "execution_count": 14,
   "id": "87e53ae4-3b2e-4551-a8c4-edca53f592a9",
   "metadata": {},
   "outputs": [
    {
     "name": "stdout",
     "output_type": "stream",
     "text": [
      "┌─────────────┬─────────────┬─────────┬─────────┬─────────┬───────┐\n",
      "│ column_name │ column_type │  null   │   key   │ default │ extra │\n",
      "│   varchar   │   varchar   │ varchar │ varchar │ varchar │ int32 │\n",
      "├─────────────┼─────────────┼─────────┼─────────┼─────────┼───────┤\n",
      "│ year        │ INTEGER     │ YES     │ NULL    │ NULL    │  NULL │\n",
      "│ category    │ VARCHAR     │ YES     │ NULL    │ NULL    │  NULL │\n",
      "│ proposal    │ VARCHAR     │ YES     │ NULL    │ NULL    │  NULL │\n",
      "└─────────────┴─────────────┴─────────┴─────────┴─────────┴───────┘\n",
      "\n",
      "┌─────────────┬─────────────┬─────────┬─────────┬─────────┬───────┐\n",
      "│ column_name │ column_type │  null   │   key   │ default │ extra │\n",
      "│   varchar   │   varchar   │ varchar │ varchar │ varchar │ int32 │\n",
      "├─────────────┼─────────────┼─────────┼─────────┼─────────┼───────┤\n",
      "│ year        │ INTEGER     │ YES     │ NULL    │ NULL    │  NULL │\n",
      "│ proposal    │ VARCHAR     │ YES     │ NULL    │ NULL    │  NULL │\n",
      "│ role        │ VARCHAR     │ YES     │ NULL    │ NULL    │  NULL │\n",
      "│ username    │ VARCHAR     │ YES     │ NULL    │ NULL    │  NULL │\n",
      "└─────────────┴─────────────┴─────────┴─────────┴─────────┴───────┘\n",
      "\n",
      "┌──────────────┬─────────────┬─────────┬─────────┬─────────┬───────┐\n",
      "│ column_name  │ column_type │  null   │   key   │ default │ extra │\n",
      "│   varchar    │   varchar   │ varchar │ varchar │ varchar │ int32 │\n",
      "├──────────────┼─────────────┼─────────┼─────────┼─────────┼───────┤\n",
      "│ year         │ INTEGER     │ YES     │ NULL    │ NULL    │  NULL │\n",
      "│ proposal     │ VARCHAR     │ YES     │ NULL    │ NULL    │  NULL │\n",
      "│ phab_tickets │ VARCHAR[]   │ YES     │ NULL    │ NULL    │  NULL │\n",
      "└──────────────┴─────────────┴─────────┴─────────┴─────────┴───────┘\n",
      "\n",
      "┌────────────────┬───────────────────────────────────────────┬─────────┬─────────┬─────────┬───────┐\n",
      "│  column_name   │                column_type                │  null   │   key   │ default │ extra │\n",
      "│    varchar     │                  varchar                  │ varchar │ varchar │ varchar │ int32 │\n",
      "├────────────────┼───────────────────────────────────────────┼─────────┼─────────┼─────────┼───────┤\n",
      "│ year           │ INTEGER                                   │ YES     │ NULL    │ NULL    │  NULL │\n",
      "│ username       │ VARCHAR                                   │ YES     │ NULL    │ NULL    │  NULL │\n",
      "│ home_wiki      │ VARCHAR                                   │ YES     │ NULL    │ NULL    │  NULL │\n",
      "│ hw_user_groups │ VARCHAR[]                                 │ YES     │ NULL    │ NULL    │  NULL │\n",
      "│ edit_count     │ STRUCT(hw DOUBLE, mw DOUBLE)              │ YES     │ NULL    │ NULL    │  NULL │\n",
      "│ edit_bucket    │ STRUCT(hw VARCHAR, mw VARCHAR)            │ YES     │ NULL    │ NULL    │  NULL │\n",
      "│ account_age    │ STRUCT(\"months\" SMALLINT, \"years\" DOUBLE) │ YES     │ NULL    │ NULL    │  NULL │\n",
      "└────────────────┴───────────────────────────────────────────┴─────────┴─────────┴─────────┴───────┘\n",
      "\n",
      "┌─────────────┬─────────────┬─────────┬─────────┬─────────┬───────┐\n",
      "│ column_name │ column_type │  null   │   key   │ default │ extra │\n",
      "│   varchar   │   varchar   │ varchar │ varchar │ varchar │ int32 │\n",
      "├─────────────┼─────────────┼─────────┼─────────┼─────────┼───────┤\n",
      "│ year        │ INTEGER     │ YES     │ NULL    │ NULL    │  NULL │\n",
      "│ proposal    │ VARCHAR     │ YES     │ NULL    │ NULL    │  NULL │\n",
      "│ reason      │ VARCHAR     │ YES     │ NULL    │ NULL    │  NULL │\n",
      "└─────────────┴─────────────┴─────────┴─────────┴─────────┴───────┘\n",
      "\n",
      "┌─────────────┬─────────────┬─────────┬─────────┬─────────┬───────┐\n",
      "│ column_name │ column_type │  null   │   key   │ default │ extra │\n",
      "│   varchar   │   varchar   │ varchar │ varchar │ varchar │ int32 │\n",
      "├─────────────┼─────────────┼─────────┼─────────┼─────────┼───────┤\n",
      "│ year        │ INTEGER     │ YES     │ NULL    │ NULL    │  NULL │\n",
      "│ category    │ VARCHAR     │ YES     │ NULL    │ NULL    │  NULL │\n",
      "│ proposal    │ VARCHAR     │ YES     │ NULL    │ NULL    │  NULL │\n",
      "│ error       │ VARCHAR     │ YES     │ NULL    │ NULL    │  NULL │\n",
      "└─────────────┴─────────────┴─────────┴─────────┴─────────┴───────┘\n",
      "\n",
      "┌─────────────┬─────────────┬─────────┬─────────┬─────────┬───────┐\n",
      "│ column_name │ column_type │  null   │   key   │ default │ extra │\n",
      "│   varchar   │   varchar   │ varchar │ varchar │ varchar │ int32 │\n",
      "├─────────────┼─────────────┼─────────┼─────────┼─────────┼───────┤\n",
      "│ wiki_db     │ VARCHAR     │ YES     │ NULL    │ NULL    │  NULL │\n",
      "│ db_group    │ VARCHAR     │ YES     │ NULL    │ NULL    │  NULL │\n",
      "│ lang_name   │ VARCHAR     │ YES     │ NULL    │ NULL    │  NULL │\n",
      "│ wiki_name   │ VARCHAR     │ YES     │ NULL    │ NULL    │  NULL │\n",
      "│ size_rank   │ BIGINT      │ YES     │ NULL    │ NULL    │  NULL │\n",
      "└─────────────┴─────────────┴─────────┴─────────┴─────────┴───────┘\n",
      "\n"
     ]
    }
   ],
   "source": [
    "conn.sql(\"\"\"DESCRIBE proposals\"\"\").show()\n",
    "conn.sql(\"\"\"DESCRIBE roles\"\"\").show()\n",
    "conn.sql(\"\"\"DESCRIBE phab_tickets\"\"\").show()\n",
    "conn.sql(\"\"\"DESCRIBE user_data\"\"\").show()\n",
    "conn.sql(\"\"\"DESCRIBE rejects\"\"\").show()\n",
    "conn.sql(\"\"\"DESCRIBE errors\"\"\").show()\n",
    "conn.sql(\"\"\"DESCRIBE cdw\"\"\").show()"
   ]
  },
  {
   "cell_type": "code",
   "execution_count": 17,
   "id": "4a4c2f46-c04b-4efd-b3ac-7a686014067d",
   "metadata": {},
   "outputs": [],
   "source": [
    "conn.close()"
   ]
  }
 ],
 "metadata": {
  "kernelspec": {
   "display_name": "Python 3 (ipykernel)",
   "language": "python",
   "name": "python3"
  },
  "language_info": {
   "codemirror_mode": {
    "name": "ipython",
    "version": 3
   },
   "file_extension": ".py",
   "mimetype": "text/x-python",
   "name": "python",
   "nbconvert_exporter": "python",
   "pygments_lexer": "ipython3",
   "version": "3.10.8"
  }
 },
 "nbformat": 4,
 "nbformat_minor": 5
}
