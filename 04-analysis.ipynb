{
 "cells": [
  {
   "cell_type": "code",
   "execution_count": 173,
   "id": "9d7d84e5-844c-4369-a9c2-6c49f7910b87",
   "metadata": {},
   "outputs": [],
   "source": [
    "import pandas as pd\n",
    "import duckdb\n",
    "import json\n",
    "import warnings"
   ]
  },
  {
   "cell_type": "code",
   "execution_count": 172,
   "id": "6a25e90c-138d-4f17-9d7c-c25b27a2ab03",
   "metadata": {},
   "outputs": [],
   "source": [
    "pd.options.display.max_columns = None\n",
    "pd.options.display.max_rows = 100"
   ]
  },
  {
   "cell_type": "code",
   "execution_count": 174,
   "id": "817f1f08-6e1b-4317-a990-30f8617a6b62",
   "metadata": {},
   "outputs": [],
   "source": [
    "import plotly.graph_objects as go\n",
    "import plotly.express as px"
   ]
  },
  {
   "cell_type": "code",
   "execution_count": 162,
   "id": "70f62053-b5bf-4b56-907d-fa4a11512ddc",
   "metadata": {},
   "outputs": [],
   "source": [
    "conn = duckdb.connect('secrets/cws_data.db')"
   ]
  },
  {
   "cell_type": "code",
   "execution_count": 143,
   "id": "621dc64b-93c6-45af-9ea1-c8ea68cf09eb",
   "metadata": {},
   "outputs": [],
   "source": [
    "conn.close()"
   ]
  },
  {
   "cell_type": "code",
   "execution_count": 164,
   "id": "a17a5084-9fd3-48dc-8cbc-367129aee7f9",
   "metadata": {},
   "outputs": [],
   "source": [
    "def query(query_string, df=False, conn=conn):\n",
    "    if df==True:\n",
    "        return conn.sql(query_string).df()\n",
    "    else:\n",
    "        return conn.sql(query_string).show()"
   ]
  },
  {
   "cell_type": "markdown",
   "id": "ab2ac510-e1d3-44da-8b36-b10d529c71ba",
   "metadata": {
    "jp-MarkdownHeadingCollapsed": true,
    "tags": []
   },
   "source": [
    "## EDA"
   ]
  },
  {
   "cell_type": "code",
   "execution_count": 206,
   "id": "f6c77ffe-4477-4924-8be5-b1c90b36e0b4",
   "metadata": {},
   "outputs": [],
   "source": [
    "# accepted proposals\n",
    "\n",
    "conn.sql(\"\"\"\n",
    "CREATE OR REPLACE VIEW accepted_proposals AS\n",
    "SELECT\n",
    "    p.year,\n",
    "    p.category,\n",
    "    p.proposal\n",
    "FROM\n",
    "    proposals p\n",
    "    LEFT JOIN rejects r\n",
    "    ON p.year = r.year AND p.proposal = r.proposal\n",
    "WHERE \n",
    "    r.proposal IS NULL \n",
    "    AND category NOT IN ('Untranslated', 'Larger_suggestions')\n",
    "\"\"\")"
   ]
  },
  {
   "cell_type": "code",
   "execution_count": 213,
   "id": "4f81b014-793e-48f8-ba87-a7c2a120155a",
   "metadata": {},
   "outputs": [
    {
     "data": {
      "text/html": [
       "<div>\n",
       "<style scoped>\n",
       "    .dataframe tbody tr th:only-of-type {\n",
       "        vertical-align: middle;\n",
       "    }\n",
       "\n",
       "    .dataframe tbody tr th {\n",
       "        vertical-align: top;\n",
       "    }\n",
       "\n",
       "    .dataframe thead th {\n",
       "        text-align: right;\n",
       "    }\n",
       "</style>\n",
       "<table border=\"1\" class=\"dataframe\">\n",
       "  <thead>\n",
       "    <tr style=\"text-align: right;\">\n",
       "      <th></th>\n",
       "      <th>year</th>\n",
       "      <th>all_proposals</th>\n",
       "      <th>all_errors</th>\n",
       "      <th>perc_errors_all</th>\n",
       "    </tr>\n",
       "  </thead>\n",
       "  <tbody>\n",
       "    <tr>\n",
       "      <th>0</th>\n",
       "      <td>2015</td>\n",
       "      <td>107</td>\n",
       "      <td>0</td>\n",
       "      <td>0.00</td>\n",
       "    </tr>\n",
       "    <tr>\n",
       "      <th>1</th>\n",
       "      <td>2016</td>\n",
       "      <td>265</td>\n",
       "      <td>0</td>\n",
       "      <td>0.00</td>\n",
       "    </tr>\n",
       "    <tr>\n",
       "      <th>2</th>\n",
       "      <td>2017</td>\n",
       "      <td>329</td>\n",
       "      <td>6</td>\n",
       "      <td>1.82</td>\n",
       "    </tr>\n",
       "    <tr>\n",
       "      <th>3</th>\n",
       "      <td>2019</td>\n",
       "      <td>347</td>\n",
       "      <td>15</td>\n",
       "      <td>4.32</td>\n",
       "    </tr>\n",
       "    <tr>\n",
       "      <th>4</th>\n",
       "      <td>2020</td>\n",
       "      <td>122</td>\n",
       "      <td>4</td>\n",
       "      <td>3.28</td>\n",
       "    </tr>\n",
       "    <tr>\n",
       "      <th>5</th>\n",
       "      <td>2021</td>\n",
       "      <td>453</td>\n",
       "      <td>25</td>\n",
       "      <td>5.52</td>\n",
       "    </tr>\n",
       "    <tr>\n",
       "      <th>6</th>\n",
       "      <td>2022</td>\n",
       "      <td>467</td>\n",
       "      <td>16</td>\n",
       "      <td>3.43</td>\n",
       "    </tr>\n",
       "    <tr>\n",
       "      <th>7</th>\n",
       "      <td>2023</td>\n",
       "      <td>272</td>\n",
       "      <td>8</td>\n",
       "      <td>2.94</td>\n",
       "    </tr>\n",
       "  </tbody>\n",
       "</table>\n",
       "</div>"
      ],
      "text/plain": [
       "   year  all_proposals  all_errors  perc_errors_all\n",
       "0  2015            107           0             0.00\n",
       "1  2016            265           0             0.00\n",
       "2  2017            329           6             1.82\n",
       "3  2019            347          15             4.32\n",
       "4  2020            122           4             3.28\n",
       "5  2021            453          25             5.52\n",
       "6  2022            467          16             3.43\n",
       "7  2023            272           8             2.94"
      ]
     },
     "execution_count": 213,
     "metadata": {},
     "output_type": "execute_result"
    }
   ],
   "source": [
    "all_proposals = conn.sql(\"\"\"\n",
    "WITH\n",
    "    base AS (\n",
    "        SELECT\n",
    "            *,\n",
    "            'no_err' AS error\n",
    "        FROM\n",
    "            proposals\n",
    "        UNION ALL\n",
    "        SELECT\n",
    "            *\n",
    "        FROM\n",
    "            errors\n",
    "    )\n",
    "\n",
    "SELECT\n",
    "    year,\n",
    "    COUNT(DISTINCT proposal) AS all_proposals,\n",
    "    COUNT(DISTINCT CASE WHEN NOT error = 'no_err' THEN proposal END) AS all_errors\n",
    "FROM\n",
    "    base\n",
    "GROUP BY\n",
    "    year\n",
    "ORDER BY\n",
    "    year\n",
    "\"\"\").df()\n",
    "\n",
    "all_proposals['perc_errors_all'] = round(all_proposals['all_errors'] / all_proposals['all_proposals'] * 100, 2)\n",
    "all_proposals"
   ]
  },
  {
   "cell_type": "code",
   "execution_count": 205,
   "id": "c90735ac-8554-4354-ae42-89f79029b6df",
   "metadata": {},
   "outputs": [
    {
     "data": {
      "text/plain": [
       "3.13"
      ]
     },
     "execution_count": 205,
     "metadata": {},
     "output_type": "execute_result"
    }
   ],
   "source": [
    "round(all_proposals.all_errors.sum() / all_proposals.all_proposals.sum() * 100, 2)"
   ]
  },
  {
   "cell_type": "code",
   "execution_count": 214,
   "id": "1e541b36-4e0b-4e27-bd20-4018e8085406",
   "metadata": {},
   "outputs": [
    {
     "data": {
      "text/html": [
       "<div>\n",
       "<style scoped>\n",
       "    .dataframe tbody tr th:only-of-type {\n",
       "        vertical-align: middle;\n",
       "    }\n",
       "\n",
       "    .dataframe tbody tr th {\n",
       "        vertical-align: top;\n",
       "    }\n",
       "\n",
       "    .dataframe thead th {\n",
       "        text-align: right;\n",
       "    }\n",
       "</style>\n",
       "<table border=\"1\" class=\"dataframe\">\n",
       "  <thead>\n",
       "    <tr style=\"text-align: right;\">\n",
       "      <th></th>\n",
       "      <th>year</th>\n",
       "      <th>accepted_proposals</th>\n",
       "      <th>non_archive_errors</th>\n",
       "      <th>perc_errors_acc</th>\n",
       "    </tr>\n",
       "  </thead>\n",
       "  <tbody>\n",
       "    <tr>\n",
       "      <th>0</th>\n",
       "      <td>2015</td>\n",
       "      <td>107</td>\n",
       "      <td>0</td>\n",
       "      <td>0.00</td>\n",
       "    </tr>\n",
       "    <tr>\n",
       "      <th>1</th>\n",
       "      <td>2016</td>\n",
       "      <td>265</td>\n",
       "      <td>0</td>\n",
       "      <td>0.00</td>\n",
       "    </tr>\n",
       "    <tr>\n",
       "      <th>2</th>\n",
       "      <td>2017</td>\n",
       "      <td>219</td>\n",
       "      <td>1</td>\n",
       "      <td>0.46</td>\n",
       "    </tr>\n",
       "    <tr>\n",
       "      <th>3</th>\n",
       "      <td>2019</td>\n",
       "      <td>224</td>\n",
       "      <td>2</td>\n",
       "      <td>0.89</td>\n",
       "    </tr>\n",
       "    <tr>\n",
       "      <th>4</th>\n",
       "      <td>2020</td>\n",
       "      <td>76</td>\n",
       "      <td>0</td>\n",
       "      <td>0.00</td>\n",
       "    </tr>\n",
       "    <tr>\n",
       "      <th>5</th>\n",
       "      <td>2021</td>\n",
       "      <td>292</td>\n",
       "      <td>1</td>\n",
       "      <td>0.34</td>\n",
       "    </tr>\n",
       "    <tr>\n",
       "      <th>6</th>\n",
       "      <td>2022</td>\n",
       "      <td>279</td>\n",
       "      <td>8</td>\n",
       "      <td>2.87</td>\n",
       "    </tr>\n",
       "    <tr>\n",
       "      <th>7</th>\n",
       "      <td>2023</td>\n",
       "      <td>188</td>\n",
       "      <td>3</td>\n",
       "      <td>1.60</td>\n",
       "    </tr>\n",
       "  </tbody>\n",
       "</table>\n",
       "</div>"
      ],
      "text/plain": [
       "   year  accepted_proposals  non_archive_errors  perc_errors_acc\n",
       "0  2015                 107                   0             0.00\n",
       "1  2016                 265                   0             0.00\n",
       "2  2017                 219                   1             0.46\n",
       "3  2019                 224                   2             0.89\n",
       "4  2020                  76                   0             0.00\n",
       "5  2021                 292                   1             0.34\n",
       "6  2022                 279                   8             2.87\n",
       "7  2023                 188                   3             1.60"
      ]
     },
     "execution_count": 214,
     "metadata": {},
     "output_type": "execute_result"
    }
   ],
   "source": [
    "acc_proposals = conn.sql(\"\"\"\n",
    "WITH\n",
    "    base AS (\n",
    "        SELECT\n",
    "            *,\n",
    "            'no_err' AS error\n",
    "        FROM\n",
    "            accepted_proposals\n",
    "        UNION ALL\n",
    "        SELECT\n",
    "            *\n",
    "        FROM\n",
    "            errors\n",
    "    )\n",
    "\n",
    "SELECT\n",
    "    year,\n",
    "    COUNT(DISTINCT proposal) AS accepted_proposals,\n",
    "    COUNT(DISTINCT CASE WHEN NOT error = 'no_err' AND NOT category IN ('Archive', 'Large_suggestions') THEN proposal END) AS non_archive_errors\n",
    "FROM\n",
    "    base\n",
    "GROUP BY\n",
    "    year\n",
    "ORDER BY\n",
    "    year\n",
    "\"\"\").df()\n",
    "\n",
    "acc_proposals['perc_errors_acc'] = round(acc_proposals['non_archive_errors'] / acc_proposals['accepted_proposals'] * 100, 2)\n",
    "acc_proposals"
   ]
  },
  {
   "cell_type": "code",
   "execution_count": 209,
   "id": "58fc8de2-520a-4147-871c-e2a141159db7",
   "metadata": {},
   "outputs": [
    {
     "data": {
      "text/plain": [
       "0.91"
      ]
     },
     "execution_count": 209,
     "metadata": {},
     "output_type": "execute_result"
    }
   ],
   "source": [
    "round(acc_proposals.non_archive_errors.sum() / acc_proposals.accepted_proposals.sum() * 100, 2)"
   ]
  },
  {
   "cell_type": "markdown",
   "id": "64643a9b-5867-4a8b-92d8-2f73d330ebb2",
   "metadata": {},
   "source": [
    "## Wishlist Process\n",
    "- Overall Proposals\n",
    "- Categories Over Years\n",
    "    - Proposals\n",
    "    - Participation Trends"
   ]
  },
  {
   "cell_type": "code",
   "execution_count": 217,
   "id": "349bb528-e5d8-4bcb-96d4-4621c89197af",
   "metadata": {},
   "outputs": [
    {
     "data": {
      "text/html": [
       "<div>\n",
       "<style scoped>\n",
       "    .dataframe tbody tr th:only-of-type {\n",
       "        vertical-align: middle;\n",
       "    }\n",
       "\n",
       "    .dataframe tbody tr th {\n",
       "        vertical-align: top;\n",
       "    }\n",
       "\n",
       "    .dataframe thead th {\n",
       "        text-align: right;\n",
       "    }\n",
       "</style>\n",
       "<table border=\"1\" class=\"dataframe\">\n",
       "  <thead>\n",
       "    <tr style=\"text-align: right;\">\n",
       "      <th></th>\n",
       "      <th>year</th>\n",
       "      <th>all_proposals</th>\n",
       "      <th>all_errors</th>\n",
       "      <th>perc_errors_all</th>\n",
       "      <th>accepted_proposals</th>\n",
       "      <th>non_archive_errors</th>\n",
       "      <th>perc_errors_acc</th>\n",
       "      <th>rejection_rate</th>\n",
       "    </tr>\n",
       "  </thead>\n",
       "  <tbody>\n",
       "    <tr>\n",
       "      <th>0</th>\n",
       "      <td>2015</td>\n",
       "      <td>107</td>\n",
       "      <td>0</td>\n",
       "      <td>0.00</td>\n",
       "      <td>107</td>\n",
       "      <td>0</td>\n",
       "      <td>0.00</td>\n",
       "      <td>0.00</td>\n",
       "    </tr>\n",
       "    <tr>\n",
       "      <th>1</th>\n",
       "      <td>2016</td>\n",
       "      <td>265</td>\n",
       "      <td>0</td>\n",
       "      <td>0.00</td>\n",
       "      <td>265</td>\n",
       "      <td>0</td>\n",
       "      <td>0.00</td>\n",
       "      <td>0.00</td>\n",
       "    </tr>\n",
       "    <tr>\n",
       "      <th>2</th>\n",
       "      <td>2017</td>\n",
       "      <td>329</td>\n",
       "      <td>6</td>\n",
       "      <td>1.82</td>\n",
       "      <td>219</td>\n",
       "      <td>1</td>\n",
       "      <td>0.46</td>\n",
       "      <td>33.43</td>\n",
       "    </tr>\n",
       "    <tr>\n",
       "      <th>3</th>\n",
       "      <td>2019</td>\n",
       "      <td>347</td>\n",
       "      <td>15</td>\n",
       "      <td>4.32</td>\n",
       "      <td>224</td>\n",
       "      <td>2</td>\n",
       "      <td>0.89</td>\n",
       "      <td>35.45</td>\n",
       "    </tr>\n",
       "    <tr>\n",
       "      <th>4</th>\n",
       "      <td>2020</td>\n",
       "      <td>122</td>\n",
       "      <td>4</td>\n",
       "      <td>3.28</td>\n",
       "      <td>76</td>\n",
       "      <td>0</td>\n",
       "      <td>0.00</td>\n",
       "      <td>37.70</td>\n",
       "    </tr>\n",
       "    <tr>\n",
       "      <th>5</th>\n",
       "      <td>2021</td>\n",
       "      <td>453</td>\n",
       "      <td>25</td>\n",
       "      <td>5.52</td>\n",
       "      <td>292</td>\n",
       "      <td>1</td>\n",
       "      <td>0.34</td>\n",
       "      <td>35.54</td>\n",
       "    </tr>\n",
       "    <tr>\n",
       "      <th>6</th>\n",
       "      <td>2022</td>\n",
       "      <td>467</td>\n",
       "      <td>16</td>\n",
       "      <td>3.43</td>\n",
       "      <td>279</td>\n",
       "      <td>8</td>\n",
       "      <td>2.87</td>\n",
       "      <td>40.26</td>\n",
       "    </tr>\n",
       "    <tr>\n",
       "      <th>7</th>\n",
       "      <td>2023</td>\n",
       "      <td>272</td>\n",
       "      <td>8</td>\n",
       "      <td>2.94</td>\n",
       "      <td>188</td>\n",
       "      <td>3</td>\n",
       "      <td>1.60</td>\n",
       "      <td>30.88</td>\n",
       "    </tr>\n",
       "  </tbody>\n",
       "</table>\n",
       "</div>"
      ],
      "text/plain": [
       "   year  all_proposals  all_errors  perc_errors_all  accepted_proposals  \\\n",
       "0  2015            107           0             0.00                 107   \n",
       "1  2016            265           0             0.00                 265   \n",
       "2  2017            329           6             1.82                 219   \n",
       "3  2019            347          15             4.32                 224   \n",
       "4  2020            122           4             3.28                  76   \n",
       "5  2021            453          25             5.52                 292   \n",
       "6  2022            467          16             3.43                 279   \n",
       "7  2023            272           8             2.94                 188   \n",
       "\n",
       "   non_archive_errors  perc_errors_acc  rejection_rate  \n",
       "0                   0             0.00            0.00  \n",
       "1                   0             0.00            0.00  \n",
       "2                   1             0.46           33.43  \n",
       "3                   2             0.89           35.45  \n",
       "4                   0             0.00           37.70  \n",
       "5                   1             0.34           35.54  \n",
       "6                   8             2.87           40.26  \n",
       "7                   3             1.60           30.88  "
      ]
     },
     "execution_count": 217,
     "metadata": {},
     "output_type": "execute_result"
    }
   ],
   "source": [
    "proposals_summary = pd.merge(all_proposals, acc_proposals, on='year')\n",
    "proposals_summary['rejection_rate'] = round((1 - proposals_summary['accepted_proposals'] /  proposals_summary['all_proposals']) * 100, 2)\n",
    "proposals_summary"
   ]
  },
  {
   "cell_type": "code",
   "execution_count": 224,
   "id": "18d10d37-4a18-4c30-a989-f58771f6b079",
   "metadata": {},
   "outputs": [
    {
     "name": "stdout",
     "output_type": "stream",
     "text": [
      "rejection rate: 36%\n"
     ]
    }
   ],
   "source": [
    "print(f'rejection rate: {round(proposals_summary.query(\"\"\"year >= 2017\"\"\").rejection_rate.mean())}%')"
   ]
  },
  {
   "cell_type": "markdown",
   "id": "c30e0898-09dc-448d-b0c3-9e11f0c65105",
   "metadata": {
    "tags": []
   },
   "source": [
    "## categories by year"
   ]
  },
  {
   "cell_type": "code",
   "execution_count": 179,
   "id": "055a89b7-494e-4289-98a8-2668e8e20aec",
   "metadata": {},
   "outputs": [
    {
     "data": {
      "text/html": [
       "<div>\n",
       "<style scoped>\n",
       "    .dataframe tbody tr th:only-of-type {\n",
       "        vertical-align: middle;\n",
       "    }\n",
       "\n",
       "    .dataframe tbody tr th {\n",
       "        vertical-align: top;\n",
       "    }\n",
       "\n",
       "    .dataframe thead th {\n",
       "        text-align: right;\n",
       "    }\n",
       "</style>\n",
       "<table border=\"1\" class=\"dataframe\">\n",
       "  <thead>\n",
       "    <tr style=\"text-align: right;\">\n",
       "      <th></th>\n",
       "      <th>year</th>\n",
       "      <th>Anti-harassment</th>\n",
       "      <th>Bots_and_gadgets</th>\n",
       "      <th>Citations</th>\n",
       "      <th>Communication_tools</th>\n",
       "      <th>Editing</th>\n",
       "      <th>Maps</th>\n",
       "      <th>Miscellaneous</th>\n",
       "      <th>Mobile_and_apps</th>\n",
       "      <th>Moderation_tools</th>\n",
       "      <th>Multimedia_and_Commons</th>\n",
       "      <th>Navigation_tools</th>\n",
       "      <th>New_contributors</th>\n",
       "      <th>Programs_and_events</th>\n",
       "      <th>Reading</th>\n",
       "      <th>Templates</th>\n",
       "      <th>Translation</th>\n",
       "      <th>Watchlists</th>\n",
       "      <th>WikiProjects</th>\n",
       "      <th>Wikibooks</th>\n",
       "      <th>Wikidata</th>\n",
       "      <th>Wikinews</th>\n",
       "      <th>Wikiquote</th>\n",
       "      <th>Wikisource</th>\n",
       "      <th>Wikispecies</th>\n",
       "      <th>Wikiversity</th>\n",
       "      <th>Wikivoyage</th>\n",
       "      <th>Wiktionary</th>\n",
       "    </tr>\n",
       "  </thead>\n",
       "  <tbody>\n",
       "    <tr>\n",
       "      <th>0</th>\n",
       "      <td>2015</td>\n",
       "      <td>0</td>\n",
       "      <td>4</td>\n",
       "      <td>0</td>\n",
       "      <td>9</td>\n",
       "      <td>13</td>\n",
       "      <td>0</td>\n",
       "      <td>17</td>\n",
       "      <td>0</td>\n",
       "      <td>13</td>\n",
       "      <td>11</td>\n",
       "      <td>12</td>\n",
       "      <td>0</td>\n",
       "      <td>0</td>\n",
       "      <td>4</td>\n",
       "      <td>3</td>\n",
       "      <td>0</td>\n",
       "      <td>7</td>\n",
       "      <td>0</td>\n",
       "      <td>0</td>\n",
       "      <td>7</td>\n",
       "      <td>0</td>\n",
       "      <td>0</td>\n",
       "      <td>6</td>\n",
       "      <td>0</td>\n",
       "      <td>1</td>\n",
       "      <td>0</td>\n",
       "      <td>0</td>\n",
       "    </tr>\n",
       "    <tr>\n",
       "      <th>1</th>\n",
       "      <td>2016</td>\n",
       "      <td>0</td>\n",
       "      <td>13</td>\n",
       "      <td>6</td>\n",
       "      <td>0</td>\n",
       "      <td>34</td>\n",
       "      <td>0</td>\n",
       "      <td>34</td>\n",
       "      <td>10</td>\n",
       "      <td>22</td>\n",
       "      <td>44</td>\n",
       "      <td>11</td>\n",
       "      <td>0</td>\n",
       "      <td>7</td>\n",
       "      <td>10</td>\n",
       "      <td>0</td>\n",
       "      <td>0</td>\n",
       "      <td>24</td>\n",
       "      <td>2</td>\n",
       "      <td>0</td>\n",
       "      <td>26</td>\n",
       "      <td>0</td>\n",
       "      <td>0</td>\n",
       "      <td>18</td>\n",
       "      <td>0</td>\n",
       "      <td>0</td>\n",
       "      <td>0</td>\n",
       "      <td>4</td>\n",
       "    </tr>\n",
       "    <tr>\n",
       "      <th>2</th>\n",
       "      <td>2017</td>\n",
       "      <td>3</td>\n",
       "      <td>10</td>\n",
       "      <td>5</td>\n",
       "      <td>0</td>\n",
       "      <td>25</td>\n",
       "      <td>0</td>\n",
       "      <td>27</td>\n",
       "      <td>18</td>\n",
       "      <td>13</td>\n",
       "      <td>29</td>\n",
       "      <td>8</td>\n",
       "      <td>0</td>\n",
       "      <td>2</td>\n",
       "      <td>13</td>\n",
       "      <td>0</td>\n",
       "      <td>0</td>\n",
       "      <td>15</td>\n",
       "      <td>0</td>\n",
       "      <td>0</td>\n",
       "      <td>29</td>\n",
       "      <td>0</td>\n",
       "      <td>0</td>\n",
       "      <td>9</td>\n",
       "      <td>0</td>\n",
       "      <td>0</td>\n",
       "      <td>0</td>\n",
       "      <td>8</td>\n",
       "    </tr>\n",
       "    <tr>\n",
       "      <th>3</th>\n",
       "      <td>2019</td>\n",
       "      <td>4</td>\n",
       "      <td>10</td>\n",
       "      <td>13</td>\n",
       "      <td>4</td>\n",
       "      <td>27</td>\n",
       "      <td>13</td>\n",
       "      <td>17</td>\n",
       "      <td>12</td>\n",
       "      <td>15</td>\n",
       "      <td>20</td>\n",
       "      <td>18</td>\n",
       "      <td>0</td>\n",
       "      <td>2</td>\n",
       "      <td>8</td>\n",
       "      <td>0</td>\n",
       "      <td>0</td>\n",
       "      <td>12</td>\n",
       "      <td>0</td>\n",
       "      <td>0</td>\n",
       "      <td>19</td>\n",
       "      <td>0</td>\n",
       "      <td>0</td>\n",
       "      <td>11</td>\n",
       "      <td>0</td>\n",
       "      <td>0</td>\n",
       "      <td>0</td>\n",
       "      <td>7</td>\n",
       "    </tr>\n",
       "    <tr>\n",
       "      <th>4</th>\n",
       "      <td>2020</td>\n",
       "      <td>0</td>\n",
       "      <td>0</td>\n",
       "      <td>0</td>\n",
       "      <td>0</td>\n",
       "      <td>0</td>\n",
       "      <td>0</td>\n",
       "      <td>0</td>\n",
       "      <td>0</td>\n",
       "      <td>0</td>\n",
       "      <td>0</td>\n",
       "      <td>0</td>\n",
       "      <td>0</td>\n",
       "      <td>0</td>\n",
       "      <td>0</td>\n",
       "      <td>0</td>\n",
       "      <td>0</td>\n",
       "      <td>0</td>\n",
       "      <td>0</td>\n",
       "      <td>4</td>\n",
       "      <td>0</td>\n",
       "      <td>1</td>\n",
       "      <td>3</td>\n",
       "      <td>28</td>\n",
       "      <td>1</td>\n",
       "      <td>11</td>\n",
       "      <td>4</td>\n",
       "      <td>20</td>\n",
       "    </tr>\n",
       "    <tr>\n",
       "      <th>5</th>\n",
       "      <td>2021</td>\n",
       "      <td>3</td>\n",
       "      <td>15</td>\n",
       "      <td>12</td>\n",
       "      <td>7</td>\n",
       "      <td>39</td>\n",
       "      <td>0</td>\n",
       "      <td>27</td>\n",
       "      <td>18</td>\n",
       "      <td>25</td>\n",
       "      <td>31</td>\n",
       "      <td>21</td>\n",
       "      <td>0</td>\n",
       "      <td>0</td>\n",
       "      <td>13</td>\n",
       "      <td>0</td>\n",
       "      <td>10</td>\n",
       "      <td>17</td>\n",
       "      <td>0</td>\n",
       "      <td>0</td>\n",
       "      <td>21</td>\n",
       "      <td>0</td>\n",
       "      <td>0</td>\n",
       "      <td>5</td>\n",
       "      <td>0</td>\n",
       "      <td>0</td>\n",
       "      <td>0</td>\n",
       "      <td>4</td>\n",
       "    </tr>\n",
       "    <tr>\n",
       "      <th>6</th>\n",
       "      <td>2022</td>\n",
       "      <td>11</td>\n",
       "      <td>13</td>\n",
       "      <td>11</td>\n",
       "      <td>6</td>\n",
       "      <td>34</td>\n",
       "      <td>0</td>\n",
       "      <td>39</td>\n",
       "      <td>17</td>\n",
       "      <td>11</td>\n",
       "      <td>27</td>\n",
       "      <td>18</td>\n",
       "      <td>0</td>\n",
       "      <td>0</td>\n",
       "      <td>14</td>\n",
       "      <td>0</td>\n",
       "      <td>15</td>\n",
       "      <td>10</td>\n",
       "      <td>0</td>\n",
       "      <td>0</td>\n",
       "      <td>26</td>\n",
       "      <td>0</td>\n",
       "      <td>0</td>\n",
       "      <td>11</td>\n",
       "      <td>0</td>\n",
       "      <td>0</td>\n",
       "      <td>0</td>\n",
       "      <td>7</td>\n",
       "    </tr>\n",
       "    <tr>\n",
       "      <th>7</th>\n",
       "      <td>2023</td>\n",
       "      <td>9</td>\n",
       "      <td>10</td>\n",
       "      <td>5</td>\n",
       "      <td>15</td>\n",
       "      <td>21</td>\n",
       "      <td>0</td>\n",
       "      <td>20</td>\n",
       "      <td>3</td>\n",
       "      <td>16</td>\n",
       "      <td>27</td>\n",
       "      <td>8</td>\n",
       "      <td>3</td>\n",
       "      <td>0</td>\n",
       "      <td>11</td>\n",
       "      <td>0</td>\n",
       "      <td>8</td>\n",
       "      <td>0</td>\n",
       "      <td>0</td>\n",
       "      <td>0</td>\n",
       "      <td>14</td>\n",
       "      <td>0</td>\n",
       "      <td>0</td>\n",
       "      <td>6</td>\n",
       "      <td>0</td>\n",
       "      <td>0</td>\n",
       "      <td>0</td>\n",
       "      <td>6</td>\n",
       "    </tr>\n",
       "  </tbody>\n",
       "</table>\n",
       "</div>"
      ],
      "text/plain": [
       "   year  Anti-harassment  Bots_and_gadgets  Citations  Communication_tools  \\\n",
       "0  2015                0                 4          0                    9   \n",
       "1  2016                0                13          6                    0   \n",
       "2  2017                3                10          5                    0   \n",
       "3  2019                4                10         13                    4   \n",
       "4  2020                0                 0          0                    0   \n",
       "5  2021                3                15         12                    7   \n",
       "6  2022               11                13         11                    6   \n",
       "7  2023                9                10          5                   15   \n",
       "\n",
       "   Editing  Maps  Miscellaneous  Mobile_and_apps  Moderation_tools  \\\n",
       "0       13     0             17                0                13   \n",
       "1       34     0             34               10                22   \n",
       "2       25     0             27               18                13   \n",
       "3       27    13             17               12                15   \n",
       "4        0     0              0                0                 0   \n",
       "5       39     0             27               18                25   \n",
       "6       34     0             39               17                11   \n",
       "7       21     0             20                3                16   \n",
       "\n",
       "   Multimedia_and_Commons  Navigation_tools  New_contributors  \\\n",
       "0                      11                12                 0   \n",
       "1                      44                11                 0   \n",
       "2                      29                 8                 0   \n",
       "3                      20                18                 0   \n",
       "4                       0                 0                 0   \n",
       "5                      31                21                 0   \n",
       "6                      27                18                 0   \n",
       "7                      27                 8                 3   \n",
       "\n",
       "   Programs_and_events  Reading  Templates  Translation  Watchlists  \\\n",
       "0                    0        4          3            0           7   \n",
       "1                    7       10          0            0          24   \n",
       "2                    2       13          0            0          15   \n",
       "3                    2        8          0            0          12   \n",
       "4                    0        0          0            0           0   \n",
       "5                    0       13          0           10          17   \n",
       "6                    0       14          0           15          10   \n",
       "7                    0       11          0            8           0   \n",
       "\n",
       "   WikiProjects  Wikibooks  Wikidata  Wikinews  Wikiquote  Wikisource  \\\n",
       "0             0          0         7         0          0           6   \n",
       "1             2          0        26         0          0          18   \n",
       "2             0          0        29         0          0           9   \n",
       "3             0          0        19         0          0          11   \n",
       "4             0          4         0         1          3          28   \n",
       "5             0          0        21         0          0           5   \n",
       "6             0          0        26         0          0          11   \n",
       "7             0          0        14         0          0           6   \n",
       "\n",
       "   Wikispecies  Wikiversity  Wikivoyage  Wiktionary  \n",
       "0            0            1           0           0  \n",
       "1            0            0           0           4  \n",
       "2            0            0           0           8  \n",
       "3            0            0           0           7  \n",
       "4            1           11           4          20  \n",
       "5            0            0           0           4  \n",
       "6            0            0           0           7  \n",
       "7            0            0           0           6  "
      ]
     },
     "execution_count": 179,
     "metadata": {},
     "output_type": "execute_result"
    }
   ],
   "source": [
    "all_categories_by_year = query(\"\"\"\n",
    "WITH \n",
    "    base AS (\n",
    "        SELECT \n",
    "            *, \n",
    "            NULL AS error \n",
    "        FROM \n",
    "            accepted_proposals\n",
    "        UNION ALL\n",
    "        SELECT \n",
    "            * \n",
    "        FROM \n",
    "            errors),\n",
    "\n",
    "    yearly AS (\n",
    "        SELECT\n",
    "            year, \n",
    "            category, \n",
    "            COUNT(DISTINCT proposal) AS proposals \n",
    "        FROM \n",
    "            base\n",
    "        WHERE\n",
    "            NOT category IN ('Archive', 'Larger_suggestions', 'Untranslated')\n",
    "        GROUP BY \n",
    "            year, \n",
    "            category)\n",
    "\n",
    "PIVOT yearly\n",
    "ON category\n",
    "USING SUM(proposals)\n",
    "GROUP BY year\"\"\", True).fillna(0).astype(int)\n",
    "\n",
    "all_categories_by_year"
   ]
  },
  {
   "cell_type": "code",
   "execution_count": 148,
   "id": "1b5194bf-9465-4293-b15e-cfe2af42518e",
   "metadata": {},
   "outputs": [
    {
     "data": {
      "text/html": [
       "<div>\n",
       "<style scoped>\n",
       "    .dataframe tbody tr th:only-of-type {\n",
       "        vertical-align: middle;\n",
       "    }\n",
       "\n",
       "    .dataframe tbody tr th {\n",
       "        vertical-align: top;\n",
       "    }\n",
       "\n",
       "    .dataframe thead th {\n",
       "        text-align: right;\n",
       "    }\n",
       "</style>\n",
       "<table border=\"1\" class=\"dataframe\">\n",
       "  <thead>\n",
       "    <tr style=\"text-align: right;\">\n",
       "      <th></th>\n",
       "      <th>year</th>\n",
       "      <th>Anti-harassment</th>\n",
       "      <th>Bots_and_gadgets</th>\n",
       "      <th>Citations</th>\n",
       "      <th>Communication_tools</th>\n",
       "      <th>Editing</th>\n",
       "      <th>Larger_suggestions</th>\n",
       "      <th>Miscellaneous</th>\n",
       "      <th>Mobile_and_apps</th>\n",
       "      <th>Moderation_tools</th>\n",
       "      <th>Multimedia_and_Commons</th>\n",
       "      <th>Navigation_tools</th>\n",
       "      <th>Programs_and_events</th>\n",
       "      <th>Reading</th>\n",
       "      <th>Translation</th>\n",
       "      <th>Watchlists</th>\n",
       "      <th>Wikidata</th>\n",
       "      <th>Wikisource</th>\n",
       "      <th>Wiktionary</th>\n",
       "    </tr>\n",
       "  </thead>\n",
       "  <tbody>\n",
       "    <tr>\n",
       "      <th>0</th>\n",
       "      <td>2015</td>\n",
       "      <td>0</td>\n",
       "      <td>4</td>\n",
       "      <td>0</td>\n",
       "      <td>9</td>\n",
       "      <td>13</td>\n",
       "      <td>0</td>\n",
       "      <td>17</td>\n",
       "      <td>0</td>\n",
       "      <td>13</td>\n",
       "      <td>11</td>\n",
       "      <td>12</td>\n",
       "      <td>0</td>\n",
       "      <td>4</td>\n",
       "      <td>0</td>\n",
       "      <td>7</td>\n",
       "      <td>7</td>\n",
       "      <td>6</td>\n",
       "      <td>0</td>\n",
       "    </tr>\n",
       "    <tr>\n",
       "      <th>1</th>\n",
       "      <td>2016</td>\n",
       "      <td>0</td>\n",
       "      <td>13</td>\n",
       "      <td>6</td>\n",
       "      <td>0</td>\n",
       "      <td>34</td>\n",
       "      <td>0</td>\n",
       "      <td>34</td>\n",
       "      <td>10</td>\n",
       "      <td>22</td>\n",
       "      <td>44</td>\n",
       "      <td>11</td>\n",
       "      <td>7</td>\n",
       "      <td>10</td>\n",
       "      <td>0</td>\n",
       "      <td>24</td>\n",
       "      <td>26</td>\n",
       "      <td>18</td>\n",
       "      <td>4</td>\n",
       "    </tr>\n",
       "    <tr>\n",
       "      <th>2</th>\n",
       "      <td>2017</td>\n",
       "      <td>4</td>\n",
       "      <td>15</td>\n",
       "      <td>8</td>\n",
       "      <td>0</td>\n",
       "      <td>48</td>\n",
       "      <td>0</td>\n",
       "      <td>47</td>\n",
       "      <td>21</td>\n",
       "      <td>22</td>\n",
       "      <td>45</td>\n",
       "      <td>9</td>\n",
       "      <td>4</td>\n",
       "      <td>16</td>\n",
       "      <td>0</td>\n",
       "      <td>23</td>\n",
       "      <td>40</td>\n",
       "      <td>11</td>\n",
       "      <td>9</td>\n",
       "    </tr>\n",
       "    <tr>\n",
       "      <th>3</th>\n",
       "      <td>2019</td>\n",
       "      <td>5</td>\n",
       "      <td>13</td>\n",
       "      <td>15</td>\n",
       "      <td>4</td>\n",
       "      <td>46</td>\n",
       "      <td>0</td>\n",
       "      <td>49</td>\n",
       "      <td>19</td>\n",
       "      <td>20</td>\n",
       "      <td>31</td>\n",
       "      <td>22</td>\n",
       "      <td>4</td>\n",
       "      <td>12</td>\n",
       "      <td>0</td>\n",
       "      <td>14</td>\n",
       "      <td>32</td>\n",
       "      <td>14</td>\n",
       "      <td>10</td>\n",
       "    </tr>\n",
       "    <tr>\n",
       "      <th>4</th>\n",
       "      <td>2021</td>\n",
       "      <td>10</td>\n",
       "      <td>24</td>\n",
       "      <td>14</td>\n",
       "      <td>9</td>\n",
       "      <td>75</td>\n",
       "      <td>0</td>\n",
       "      <td>44</td>\n",
       "      <td>30</td>\n",
       "      <td>31</td>\n",
       "      <td>45</td>\n",
       "      <td>33</td>\n",
       "      <td>6</td>\n",
       "      <td>28</td>\n",
       "      <td>10</td>\n",
       "      <td>22</td>\n",
       "      <td>26</td>\n",
       "      <td>6</td>\n",
       "      <td>6</td>\n",
       "    </tr>\n",
       "    <tr>\n",
       "      <th>5</th>\n",
       "      <td>2022</td>\n",
       "      <td>14</td>\n",
       "      <td>23</td>\n",
       "      <td>19</td>\n",
       "      <td>9</td>\n",
       "      <td>52</td>\n",
       "      <td>57</td>\n",
       "      <td>54</td>\n",
       "      <td>24</td>\n",
       "      <td>17</td>\n",
       "      <td>36</td>\n",
       "      <td>31</td>\n",
       "      <td>0</td>\n",
       "      <td>24</td>\n",
       "      <td>17</td>\n",
       "      <td>13</td>\n",
       "      <td>29</td>\n",
       "      <td>14</td>\n",
       "      <td>9</td>\n",
       "    </tr>\n",
       "    <tr>\n",
       "      <th>6</th>\n",
       "      <td>2023</td>\n",
       "      <td>9</td>\n",
       "      <td>13</td>\n",
       "      <td>6</td>\n",
       "      <td>17</td>\n",
       "      <td>31</td>\n",
       "      <td>30</td>\n",
       "      <td>28</td>\n",
       "      <td>4</td>\n",
       "      <td>18</td>\n",
       "      <td>33</td>\n",
       "      <td>12</td>\n",
       "      <td>0</td>\n",
       "      <td>12</td>\n",
       "      <td>9</td>\n",
       "      <td>0</td>\n",
       "      <td>17</td>\n",
       "      <td>7</td>\n",
       "      <td>7</td>\n",
       "    </tr>\n",
       "  </tbody>\n",
       "</table>\n",
       "</div>"
      ],
      "text/plain": [
       "   year  Anti-harassment  Bots_and_gadgets  Citations  Communication_tools  \\\n",
       "0  2015                0                 4          0                    9   \n",
       "1  2016                0                13          6                    0   \n",
       "2  2017                4                15          8                    0   \n",
       "3  2019                5                13         15                    4   \n",
       "4  2021               10                24         14                    9   \n",
       "5  2022               14                23         19                    9   \n",
       "6  2023                9                13          6                   17   \n",
       "\n",
       "   Editing  Larger_suggestions  Miscellaneous  Mobile_and_apps  \\\n",
       "0       13                   0             17                0   \n",
       "1       34                   0             34               10   \n",
       "2       48                   0             47               21   \n",
       "3       46                   0             49               19   \n",
       "4       75                   0             44               30   \n",
       "5       52                  57             54               24   \n",
       "6       31                  30             28                4   \n",
       "\n",
       "   Moderation_tools  Multimedia_and_Commons  Navigation_tools  \\\n",
       "0                13                      11                12   \n",
       "1                22                      44                11   \n",
       "2                22                      45                 9   \n",
       "3                20                      31                22   \n",
       "4                31                      45                33   \n",
       "5                17                      36                31   \n",
       "6                18                      33                12   \n",
       "\n",
       "   Programs_and_events  Reading  Translation  Watchlists  Wikidata  \\\n",
       "0                    0        4            0           7         7   \n",
       "1                    7       10            0          24        26   \n",
       "2                    4       16            0          23        40   \n",
       "3                    4       12            0          14        32   \n",
       "4                    6       28           10          22        26   \n",
       "5                    0       24           17          13        29   \n",
       "6                    0       12            9           0        17   \n",
       "\n",
       "   Wikisource  Wiktionary  \n",
       "0           6           0  \n",
       "1          18           4  \n",
       "2          11           9  \n",
       "3          14          10  \n",
       "4           6           6  \n",
       "5          14           9  \n",
       "6           7           7  "
      ]
     },
     "execution_count": 148,
     "metadata": {},
     "output_type": "execute_result"
    }
   ],
   "source": [
    "viz_categories = pd.DataFrame(all_categories_by_year.sum(axis=0, min_count=2)).dropna().index.values\n",
    "categories_by_year = all_categories_by_year[viz_categories]\n",
    "categories_by_year = categories_by_year.fillna(0).astype(int)\n",
    "categories_by_year"
   ]
  },
  {
   "cell_type": "code",
   "execution_count": 75,
   "id": "a7ad5386-7462-4525-8760-2f50b74036b4",
   "metadata": {},
   "outputs": [],
   "source": [
    "# voting and participation by category"
   ]
  },
  {
   "cell_type": "code",
   "execution_count": null,
   "id": "faad72ff-215b-4b61-b158-a4e8ffdacf4c",
   "metadata": {},
   "outputs": [],
   "source": [
    "categories_by_year"
   ]
  },
  {
   "cell_type": "markdown",
   "id": "e9931361-27f0-4540-8891-466c558f3bd0",
   "metadata": {
    "tags": []
   },
   "source": [
    "## roles by year"
   ]
  },
  {
   "cell_type": "code",
   "execution_count": 149,
   "id": "7dbde3fc-adf2-425e-859a-5137b1d7a526",
   "metadata": {},
   "outputs": [],
   "source": [
    "roles_by_year = conn.sql(\"\"\"\n",
    "SELECT\n",
    "    ap.year,\n",
    "    role,\n",
    "    COUNT(DISTINCT username) AS users\n",
    "FROM\n",
    "    accepted_proposals ap\n",
    "    JOIN roles rl ON ap.year = rl.year AND ap.proposal = rl.proposal\n",
    "GROUP BY\n",
    "    ap.year,\n",
    "    role\n",
    "ORDER BY\n",
    "    ap.year,\n",
    "    role\n",
    "\n",
    "\"\"\").df()"
   ]
  },
  {
   "cell_type": "code",
   "execution_count": 150,
   "id": "3089d8c6-bead-4dcf-aa29-1cbcfcbea5dd",
   "metadata": {},
   "outputs": [
    {
     "data": {
      "text/html": [
       "<div>\n",
       "<style scoped>\n",
       "    .dataframe tbody tr th:only-of-type {\n",
       "        vertical-align: middle;\n",
       "    }\n",
       "\n",
       "    .dataframe tbody tr th {\n",
       "        vertical-align: top;\n",
       "    }\n",
       "\n",
       "    .dataframe thead th {\n",
       "        text-align: right;\n",
       "    }\n",
       "</style>\n",
       "<table border=\"1\" class=\"dataframe\">\n",
       "  <thead>\n",
       "    <tr style=\"text-align: right;\">\n",
       "      <th></th>\n",
       "      <th>year</th>\n",
       "      <th>role</th>\n",
       "      <th>users</th>\n",
       "    </tr>\n",
       "  </thead>\n",
       "  <tbody>\n",
       "    <tr>\n",
       "      <th>0</th>\n",
       "      <td>2015</td>\n",
       "      <td>discussant</td>\n",
       "      <td>195</td>\n",
       "    </tr>\n",
       "    <tr>\n",
       "      <th>1</th>\n",
       "      <td>2015</td>\n",
       "      <td>proposer</td>\n",
       "      <td>79</td>\n",
       "    </tr>\n",
       "    <tr>\n",
       "      <th>2</th>\n",
       "      <td>2015</td>\n",
       "      <td>voter</td>\n",
       "      <td>534</td>\n",
       "    </tr>\n",
       "    <tr>\n",
       "      <th>3</th>\n",
       "      <td>2016</td>\n",
       "      <td>discussant</td>\n",
       "      <td>370</td>\n",
       "    </tr>\n",
       "    <tr>\n",
       "      <th>4</th>\n",
       "      <td>2016</td>\n",
       "      <td>proposer</td>\n",
       "      <td>163</td>\n",
       "    </tr>\n",
       "    <tr>\n",
       "      <th>5</th>\n",
       "      <td>2016</td>\n",
       "      <td>voter</td>\n",
       "      <td>891</td>\n",
       "    </tr>\n",
       "    <tr>\n",
       "      <th>6</th>\n",
       "      <td>2017</td>\n",
       "      <td>discussant</td>\n",
       "      <td>362</td>\n",
       "    </tr>\n",
       "    <tr>\n",
       "      <th>7</th>\n",
       "      <td>2017</td>\n",
       "      <td>proposer</td>\n",
       "      <td>147</td>\n",
       "    </tr>\n",
       "    <tr>\n",
       "      <th>8</th>\n",
       "      <td>2017</td>\n",
       "      <td>voter</td>\n",
       "      <td>975</td>\n",
       "    </tr>\n",
       "    <tr>\n",
       "      <th>9</th>\n",
       "      <td>2019</td>\n",
       "      <td>discussant</td>\n",
       "      <td>480</td>\n",
       "    </tr>\n",
       "    <tr>\n",
       "      <th>10</th>\n",
       "      <td>2019</td>\n",
       "      <td>proposer</td>\n",
       "      <td>152</td>\n",
       "    </tr>\n",
       "    <tr>\n",
       "      <th>11</th>\n",
       "      <td>2019</td>\n",
       "      <td>voter</td>\n",
       "      <td>1243</td>\n",
       "    </tr>\n",
       "    <tr>\n",
       "      <th>12</th>\n",
       "      <td>2020</td>\n",
       "      <td>discussant</td>\n",
       "      <td>88</td>\n",
       "    </tr>\n",
       "    <tr>\n",
       "      <th>13</th>\n",
       "      <td>2020</td>\n",
       "      <td>proposer</td>\n",
       "      <td>50</td>\n",
       "    </tr>\n",
       "    <tr>\n",
       "      <th>14</th>\n",
       "      <td>2020</td>\n",
       "      <td>voter</td>\n",
       "      <td>369</td>\n",
       "    </tr>\n",
       "    <tr>\n",
       "      <th>15</th>\n",
       "      <td>2021</td>\n",
       "      <td>discussant</td>\n",
       "      <td>543</td>\n",
       "    </tr>\n",
       "    <tr>\n",
       "      <th>16</th>\n",
       "      <td>2021</td>\n",
       "      <td>proposer</td>\n",
       "      <td>202</td>\n",
       "    </tr>\n",
       "    <tr>\n",
       "      <th>17</th>\n",
       "      <td>2021</td>\n",
       "      <td>voter</td>\n",
       "      <td>1529</td>\n",
       "    </tr>\n",
       "    <tr>\n",
       "      <th>18</th>\n",
       "      <td>2022</td>\n",
       "      <td>discussant</td>\n",
       "      <td>443</td>\n",
       "    </tr>\n",
       "    <tr>\n",
       "      <th>19</th>\n",
       "      <td>2022</td>\n",
       "      <td>proposer</td>\n",
       "      <td>183</td>\n",
       "    </tr>\n",
       "    <tr>\n",
       "      <th>20</th>\n",
       "      <td>2022</td>\n",
       "      <td>voter</td>\n",
       "      <td>1260</td>\n",
       "    </tr>\n",
       "    <tr>\n",
       "      <th>21</th>\n",
       "      <td>2023</td>\n",
       "      <td>discussant</td>\n",
       "      <td>313</td>\n",
       "    </tr>\n",
       "    <tr>\n",
       "      <th>22</th>\n",
       "      <td>2023</td>\n",
       "      <td>proposer</td>\n",
       "      <td>116</td>\n",
       "    </tr>\n",
       "    <tr>\n",
       "      <th>23</th>\n",
       "      <td>2023</td>\n",
       "      <td>voter</td>\n",
       "      <td>1195</td>\n",
       "    </tr>\n",
       "  </tbody>\n",
       "</table>\n",
       "</div>"
      ],
      "text/plain": [
       "    year        role  users\n",
       "0   2015  discussant    195\n",
       "1   2015    proposer     79\n",
       "2   2015       voter    534\n",
       "3   2016  discussant    370\n",
       "4   2016    proposer    163\n",
       "5   2016       voter    891\n",
       "6   2017  discussant    362\n",
       "7   2017    proposer    147\n",
       "8   2017       voter    975\n",
       "9   2019  discussant    480\n",
       "10  2019    proposer    152\n",
       "11  2019       voter   1243\n",
       "12  2020  discussant     88\n",
       "13  2020    proposer     50\n",
       "14  2020       voter    369\n",
       "15  2021  discussant    543\n",
       "16  2021    proposer    202\n",
       "17  2021       voter   1529\n",
       "18  2022  discussant    443\n",
       "19  2022    proposer    183\n",
       "20  2022       voter   1260\n",
       "21  2023  discussant    313\n",
       "22  2023    proposer    116\n",
       "23  2023       voter   1195"
      ]
     },
     "execution_count": 150,
     "metadata": {},
     "output_type": "execute_result"
    }
   ],
   "source": [
    "roles_by_year"
   ]
  },
  {
   "cell_type": "code",
   "execution_count": 151,
   "id": "e983519f-f565-457c-b9e7-0197c5448f33",
   "metadata": {},
   "outputs": [
    {
     "data": {
      "application/vnd.plotly.v1+json": {
       "config": {
        "plotlyServerURL": "https://plot.ly"
       },
       "data": [
        {
         "alignmentgroup": "True",
         "hovertemplate": "role=discussant<br>year=%{x}<br>users=%{y}<extra></extra>",
         "legendgroup": "discussant",
         "marker": {
          "color": "#636efa",
          "pattern": {
           "shape": ""
          }
         },
         "name": "discussant",
         "offsetgroup": "discussant",
         "orientation": "v",
         "showlegend": true,
         "textposition": "auto",
         "type": "bar",
         "x": [
          2015,
          2016,
          2017,
          2019,
          2020,
          2021,
          2022,
          2023
         ],
         "xaxis": "x",
         "y": [
          195,
          370,
          362,
          480,
          88,
          543,
          443,
          313
         ],
         "yaxis": "y"
        },
        {
         "alignmentgroup": "True",
         "hovertemplate": "role=proposer<br>year=%{x}<br>users=%{y}<extra></extra>",
         "legendgroup": "proposer",
         "marker": {
          "color": "#EF553B",
          "pattern": {
           "shape": ""
          }
         },
         "name": "proposer",
         "offsetgroup": "proposer",
         "orientation": "v",
         "showlegend": true,
         "textposition": "auto",
         "type": "bar",
         "x": [
          2015,
          2016,
          2017,
          2019,
          2020,
          2021,
          2022,
          2023
         ],
         "xaxis": "x",
         "y": [
          79,
          163,
          147,
          152,
          50,
          202,
          183,
          116
         ],
         "yaxis": "y"
        },
        {
         "alignmentgroup": "True",
         "hovertemplate": "role=voter<br>year=%{x}<br>users=%{y}<extra></extra>",
         "legendgroup": "voter",
         "marker": {
          "color": "#00cc96",
          "pattern": {
           "shape": ""
          }
         },
         "name": "voter",
         "offsetgroup": "voter",
         "orientation": "v",
         "showlegend": true,
         "textposition": "auto",
         "type": "bar",
         "x": [
          2015,
          2016,
          2017,
          2019,
          2020,
          2021,
          2022,
          2023
         ],
         "xaxis": "x",
         "y": [
          534,
          891,
          975,
          1243,
          369,
          1529,
          1260,
          1195
         ],
         "yaxis": "y"
        }
       ],
       "layout": {
        "autosize": true,
        "barmode": "relative",
        "legend": {
         "title": {
          "text": "role"
         },
         "tracegroupgap": 0
        },
        "margin": {
         "t": 60
        },
        "template": {
         "data": {
          "bar": [
           {
            "error_x": {
             "color": "#2a3f5f"
            },
            "error_y": {
             "color": "#2a3f5f"
            },
            "marker": {
             "line": {
              "color": "#E5ECF6",
              "width": 0.5
             },
             "pattern": {
              "fillmode": "overlay",
              "size": 10,
              "solidity": 0.2
             }
            },
            "type": "bar"
           }
          ],
          "barpolar": [
           {
            "marker": {
             "line": {
              "color": "#E5ECF6",
              "width": 0.5
             },
             "pattern": {
              "fillmode": "overlay",
              "size": 10,
              "solidity": 0.2
             }
            },
            "type": "barpolar"
           }
          ],
          "carpet": [
           {
            "aaxis": {
             "endlinecolor": "#2a3f5f",
             "gridcolor": "white",
             "linecolor": "white",
             "minorgridcolor": "white",
             "startlinecolor": "#2a3f5f"
            },
            "baxis": {
             "endlinecolor": "#2a3f5f",
             "gridcolor": "white",
             "linecolor": "white",
             "minorgridcolor": "white",
             "startlinecolor": "#2a3f5f"
            },
            "type": "carpet"
           }
          ],
          "choropleth": [
           {
            "colorbar": {
             "outlinewidth": 0,
             "ticks": ""
            },
            "type": "choropleth"
           }
          ],
          "contour": [
           {
            "colorbar": {
             "outlinewidth": 0,
             "ticks": ""
            },
            "colorscale": [
             [
              0,
              "#0d0887"
             ],
             [
              0.1111111111111111,
              "#46039f"
             ],
             [
              0.2222222222222222,
              "#7201a8"
             ],
             [
              0.3333333333333333,
              "#9c179e"
             ],
             [
              0.4444444444444444,
              "#bd3786"
             ],
             [
              0.5555555555555556,
              "#d8576b"
             ],
             [
              0.6666666666666666,
              "#ed7953"
             ],
             [
              0.7777777777777778,
              "#fb9f3a"
             ],
             [
              0.8888888888888888,
              "#fdca26"
             ],
             [
              1,
              "#f0f921"
             ]
            ],
            "type": "contour"
           }
          ],
          "contourcarpet": [
           {
            "colorbar": {
             "outlinewidth": 0,
             "ticks": ""
            },
            "type": "contourcarpet"
           }
          ],
          "heatmap": [
           {
            "colorbar": {
             "outlinewidth": 0,
             "ticks": ""
            },
            "colorscale": [
             [
              0,
              "#0d0887"
             ],
             [
              0.1111111111111111,
              "#46039f"
             ],
             [
              0.2222222222222222,
              "#7201a8"
             ],
             [
              0.3333333333333333,
              "#9c179e"
             ],
             [
              0.4444444444444444,
              "#bd3786"
             ],
             [
              0.5555555555555556,
              "#d8576b"
             ],
             [
              0.6666666666666666,
              "#ed7953"
             ],
             [
              0.7777777777777778,
              "#fb9f3a"
             ],
             [
              0.8888888888888888,
              "#fdca26"
             ],
             [
              1,
              "#f0f921"
             ]
            ],
            "type": "heatmap"
           }
          ],
          "heatmapgl": [
           {
            "colorbar": {
             "outlinewidth": 0,
             "ticks": ""
            },
            "colorscale": [
             [
              0,
              "#0d0887"
             ],
             [
              0.1111111111111111,
              "#46039f"
             ],
             [
              0.2222222222222222,
              "#7201a8"
             ],
             [
              0.3333333333333333,
              "#9c179e"
             ],
             [
              0.4444444444444444,
              "#bd3786"
             ],
             [
              0.5555555555555556,
              "#d8576b"
             ],
             [
              0.6666666666666666,
              "#ed7953"
             ],
             [
              0.7777777777777778,
              "#fb9f3a"
             ],
             [
              0.8888888888888888,
              "#fdca26"
             ],
             [
              1,
              "#f0f921"
             ]
            ],
            "type": "heatmapgl"
           }
          ],
          "histogram": [
           {
            "marker": {
             "pattern": {
              "fillmode": "overlay",
              "size": 10,
              "solidity": 0.2
             }
            },
            "type": "histogram"
           }
          ],
          "histogram2d": [
           {
            "colorbar": {
             "outlinewidth": 0,
             "ticks": ""
            },
            "colorscale": [
             [
              0,
              "#0d0887"
             ],
             [
              0.1111111111111111,
              "#46039f"
             ],
             [
              0.2222222222222222,
              "#7201a8"
             ],
             [
              0.3333333333333333,
              "#9c179e"
             ],
             [
              0.4444444444444444,
              "#bd3786"
             ],
             [
              0.5555555555555556,
              "#d8576b"
             ],
             [
              0.6666666666666666,
              "#ed7953"
             ],
             [
              0.7777777777777778,
              "#fb9f3a"
             ],
             [
              0.8888888888888888,
              "#fdca26"
             ],
             [
              1,
              "#f0f921"
             ]
            ],
            "type": "histogram2d"
           }
          ],
          "histogram2dcontour": [
           {
            "colorbar": {
             "outlinewidth": 0,
             "ticks": ""
            },
            "colorscale": [
             [
              0,
              "#0d0887"
             ],
             [
              0.1111111111111111,
              "#46039f"
             ],
             [
              0.2222222222222222,
              "#7201a8"
             ],
             [
              0.3333333333333333,
              "#9c179e"
             ],
             [
              0.4444444444444444,
              "#bd3786"
             ],
             [
              0.5555555555555556,
              "#d8576b"
             ],
             [
              0.6666666666666666,
              "#ed7953"
             ],
             [
              0.7777777777777778,
              "#fb9f3a"
             ],
             [
              0.8888888888888888,
              "#fdca26"
             ],
             [
              1,
              "#f0f921"
             ]
            ],
            "type": "histogram2dcontour"
           }
          ],
          "mesh3d": [
           {
            "colorbar": {
             "outlinewidth": 0,
             "ticks": ""
            },
            "type": "mesh3d"
           }
          ],
          "parcoords": [
           {
            "line": {
             "colorbar": {
              "outlinewidth": 0,
              "ticks": ""
             }
            },
            "type": "parcoords"
           }
          ],
          "pie": [
           {
            "automargin": true,
            "type": "pie"
           }
          ],
          "scatter": [
           {
            "fillpattern": {
             "fillmode": "overlay",
             "size": 10,
             "solidity": 0.2
            },
            "type": "scatter"
           }
          ],
          "scatter3d": [
           {
            "line": {
             "colorbar": {
              "outlinewidth": 0,
              "ticks": ""
             }
            },
            "marker": {
             "colorbar": {
              "outlinewidth": 0,
              "ticks": ""
             }
            },
            "type": "scatter3d"
           }
          ],
          "scattercarpet": [
           {
            "marker": {
             "colorbar": {
              "outlinewidth": 0,
              "ticks": ""
             }
            },
            "type": "scattercarpet"
           }
          ],
          "scattergeo": [
           {
            "marker": {
             "colorbar": {
              "outlinewidth": 0,
              "ticks": ""
             }
            },
            "type": "scattergeo"
           }
          ],
          "scattergl": [
           {
            "marker": {
             "colorbar": {
              "outlinewidth": 0,
              "ticks": ""
             }
            },
            "type": "scattergl"
           }
          ],
          "scattermapbox": [
           {
            "marker": {
             "colorbar": {
              "outlinewidth": 0,
              "ticks": ""
             }
            },
            "type": "scattermapbox"
           }
          ],
          "scatterpolar": [
           {
            "marker": {
             "colorbar": {
              "outlinewidth": 0,
              "ticks": ""
             }
            },
            "type": "scatterpolar"
           }
          ],
          "scatterpolargl": [
           {
            "marker": {
             "colorbar": {
              "outlinewidth": 0,
              "ticks": ""
             }
            },
            "type": "scatterpolargl"
           }
          ],
          "scatterternary": [
           {
            "marker": {
             "colorbar": {
              "outlinewidth": 0,
              "ticks": ""
             }
            },
            "type": "scatterternary"
           }
          ],
          "surface": [
           {
            "colorbar": {
             "outlinewidth": 0,
             "ticks": ""
            },
            "colorscale": [
             [
              0,
              "#0d0887"
             ],
             [
              0.1111111111111111,
              "#46039f"
             ],
             [
              0.2222222222222222,
              "#7201a8"
             ],
             [
              0.3333333333333333,
              "#9c179e"
             ],
             [
              0.4444444444444444,
              "#bd3786"
             ],
             [
              0.5555555555555556,
              "#d8576b"
             ],
             [
              0.6666666666666666,
              "#ed7953"
             ],
             [
              0.7777777777777778,
              "#fb9f3a"
             ],
             [
              0.8888888888888888,
              "#fdca26"
             ],
             [
              1,
              "#f0f921"
             ]
            ],
            "type": "surface"
           }
          ],
          "table": [
           {
            "cells": {
             "fill": {
              "color": "#EBF0F8"
             },
             "line": {
              "color": "white"
             }
            },
            "header": {
             "fill": {
              "color": "#C8D4E3"
             },
             "line": {
              "color": "white"
             }
            },
            "type": "table"
           }
          ]
         },
         "layout": {
          "annotationdefaults": {
           "arrowcolor": "#2a3f5f",
           "arrowhead": 0,
           "arrowwidth": 1
          },
          "autotypenumbers": "strict",
          "coloraxis": {
           "colorbar": {
            "outlinewidth": 0,
            "ticks": ""
           }
          },
          "colorscale": {
           "diverging": [
            [
             0,
             "#8e0152"
            ],
            [
             0.1,
             "#c51b7d"
            ],
            [
             0.2,
             "#de77ae"
            ],
            [
             0.3,
             "#f1b6da"
            ],
            [
             0.4,
             "#fde0ef"
            ],
            [
             0.5,
             "#f7f7f7"
            ],
            [
             0.6,
             "#e6f5d0"
            ],
            [
             0.7,
             "#b8e186"
            ],
            [
             0.8,
             "#7fbc41"
            ],
            [
             0.9,
             "#4d9221"
            ],
            [
             1,
             "#276419"
            ]
           ],
           "sequential": [
            [
             0,
             "#0d0887"
            ],
            [
             0.1111111111111111,
             "#46039f"
            ],
            [
             0.2222222222222222,
             "#7201a8"
            ],
            [
             0.3333333333333333,
             "#9c179e"
            ],
            [
             0.4444444444444444,
             "#bd3786"
            ],
            [
             0.5555555555555556,
             "#d8576b"
            ],
            [
             0.6666666666666666,
             "#ed7953"
            ],
            [
             0.7777777777777778,
             "#fb9f3a"
            ],
            [
             0.8888888888888888,
             "#fdca26"
            ],
            [
             1,
             "#f0f921"
            ]
           ],
           "sequentialminus": [
            [
             0,
             "#0d0887"
            ],
            [
             0.1111111111111111,
             "#46039f"
            ],
            [
             0.2222222222222222,
             "#7201a8"
            ],
            [
             0.3333333333333333,
             "#9c179e"
            ],
            [
             0.4444444444444444,
             "#bd3786"
            ],
            [
             0.5555555555555556,
             "#d8576b"
            ],
            [
             0.6666666666666666,
             "#ed7953"
            ],
            [
             0.7777777777777778,
             "#fb9f3a"
            ],
            [
             0.8888888888888888,
             "#fdca26"
            ],
            [
             1,
             "#f0f921"
            ]
           ]
          },
          "colorway": [
           "#636efa",
           "#EF553B",
           "#00cc96",
           "#ab63fa",
           "#FFA15A",
           "#19d3f3",
           "#FF6692",
           "#B6E880",
           "#FF97FF",
           "#FECB52"
          ],
          "font": {
           "color": "#2a3f5f"
          },
          "geo": {
           "bgcolor": "white",
           "lakecolor": "white",
           "landcolor": "#E5ECF6",
           "showlakes": true,
           "showland": true,
           "subunitcolor": "white"
          },
          "hoverlabel": {
           "align": "left"
          },
          "hovermode": "closest",
          "mapbox": {
           "style": "light"
          },
          "paper_bgcolor": "white",
          "plot_bgcolor": "#E5ECF6",
          "polar": {
           "angularaxis": {
            "gridcolor": "white",
            "linecolor": "white",
            "ticks": ""
           },
           "bgcolor": "#E5ECF6",
           "radialaxis": {
            "gridcolor": "white",
            "linecolor": "white",
            "ticks": ""
           }
          },
          "scene": {
           "xaxis": {
            "backgroundcolor": "#E5ECF6",
            "gridcolor": "white",
            "gridwidth": 2,
            "linecolor": "white",
            "showbackground": true,
            "ticks": "",
            "zerolinecolor": "white"
           },
           "yaxis": {
            "backgroundcolor": "#E5ECF6",
            "gridcolor": "white",
            "gridwidth": 2,
            "linecolor": "white",
            "showbackground": true,
            "ticks": "",
            "zerolinecolor": "white"
           },
           "zaxis": {
            "backgroundcolor": "#E5ECF6",
            "gridcolor": "white",
            "gridwidth": 2,
            "linecolor": "white",
            "showbackground": true,
            "ticks": "",
            "zerolinecolor": "white"
           }
          },
          "shapedefaults": {
           "line": {
            "color": "#2a3f5f"
           }
          },
          "ternary": {
           "aaxis": {
            "gridcolor": "white",
            "linecolor": "white",
            "ticks": ""
           },
           "baxis": {
            "gridcolor": "white",
            "linecolor": "white",
            "ticks": ""
           },
           "bgcolor": "#E5ECF6",
           "caxis": {
            "gridcolor": "white",
            "linecolor": "white",
            "ticks": ""
           }
          },
          "title": {
           "x": 0.05
          },
          "xaxis": {
           "automargin": true,
           "gridcolor": "white",
           "linecolor": "white",
           "ticks": "",
           "title": {
            "standoff": 15
           },
           "zerolinecolor": "white",
           "zerolinewidth": 2
          },
          "yaxis": {
           "automargin": true,
           "gridcolor": "white",
           "linecolor": "white",
           "ticks": "",
           "title": {
            "standoff": 15
           },
           "zerolinecolor": "white",
           "zerolinewidth": 2
          }
         }
        },
        "xaxis": {
         "anchor": "y",
         "autorange": true,
         "domain": [
          0,
          1
         ],
         "range": [
          2014.5,
          2023.5
         ],
         "title": {
          "text": "year"
         },
         "type": "linear"
        },
        "yaxis": {
         "anchor": "x",
         "autorange": true,
         "domain": [
          0,
          1
         ],
         "range": [
          0,
          2393.684210526316
         ],
         "title": {
          "text": "users"
         },
         "type": "linear"
        }
       }
      },
      "image/png": "[encoded data removed]",
      "text/html": [
       "<div>                            <div id=\"ab4bb02e-33fc-4cd7-a33f-e7af5c3d801a\" class=\"plotly-graph-div\" style=\"height:525px; width:100%;\"></div>            <script type=\"text/javascript\">                require([\"plotly\"], function(Plotly) {                    window.PLOTLYENV=window.PLOTLYENV || {};                                    if (document.getElementById(\"ab4bb02e-33fc-4cd7-a33f-e7af5c3d801a\")) {                    Plotly.newPlot(                        \"ab4bb02e-33fc-4cd7-a33f-e7af5c3d801a\",                        [{\"alignmentgroup\":\"True\",\"hovertemplate\":\"role=discussant<br>year=%{x}<br>users=%{y}<extra></extra>\",\"legendgroup\":\"discussant\",\"marker\":{\"color\":\"#636efa\",\"pattern\":{\"shape\":\"\"}},\"name\":\"discussant\",\"offsetgroup\":\"discussant\",\"orientation\":\"v\",\"showlegend\":true,\"textposition\":\"auto\",\"x\":[2015,2016,2017,2019,2020,2021,2022,2023],\"xaxis\":\"x\",\"y\":[195,370,362,480,88,543,443,313],\"yaxis\":\"y\",\"type\":\"bar\"},{\"alignmentgroup\":\"True\",\"hovertemplate\":\"role=proposer<br>year=%{x}<br>users=%{y}<extra></extra>\",\"legendgroup\":\"proposer\",\"marker\":{\"color\":\"#EF553B\",\"pattern\":{\"shape\":\"\"}},\"name\":\"proposer\",\"offsetgroup\":\"proposer\",\"orientation\":\"v\",\"showlegend\":true,\"textposition\":\"auto\",\"x\":[2015,2016,2017,2019,2020,2021,2022,2023],\"xaxis\":\"x\",\"y\":[79,163,147,152,50,202,183,116],\"yaxis\":\"y\",\"type\":\"bar\"},{\"alignmentgroup\":\"True\",\"hovertemplate\":\"role=voter<br>year=%{x}<br>users=%{y}<extra></extra>\",\"legendgroup\":\"voter\",\"marker\":{\"color\":\"#00cc96\",\"pattern\":{\"shape\":\"\"}},\"name\":\"voter\",\"offsetgroup\":\"voter\",\"orientation\":\"v\",\"showlegend\":true,\"textposition\":\"auto\",\"x\":[2015,2016,2017,2019,2020,2021,2022,2023],\"xaxis\":\"x\",\"y\":[534,891,975,1243,369,1529,1260,1195],\"yaxis\":\"y\",\"type\":\"bar\"}],                        {\"template\":{\"data\":{\"histogram2dcontour\":[{\"type\":\"histogram2dcontour\",\"colorbar\":{\"outlinewidth\":0,\"ticks\":\"\"},\"colorscale\":[[0.0,\"#0d0887\"],[0.1111111111111111,\"#46039f\"],[0.2222222222222222,\"#7201a8\"],[0.3333333333333333,\"#9c179e\"],[0.4444444444444444,\"#bd3786\"],[0.5555555555555556,\"#d8576b\"],[0.6666666666666666,\"#ed7953\"],[0.7777777777777778,\"#fb9f3a\"],[0.8888888888888888,\"#fdca26\"],[1.0,\"#f0f921\"]]}],\"choropleth\":[{\"type\":\"choropleth\",\"colorbar\":{\"outlinewidth\":0,\"ticks\":\"\"}}],\"histogram2d\":[{\"type\":\"histogram2d\",\"colorbar\":{\"outlinewidth\":0,\"ticks\":\"\"},\"colorscale\":[[0.0,\"#0d0887\"],[0.1111111111111111,\"#46039f\"],[0.2222222222222222,\"#7201a8\"],[0.3333333333333333,\"#9c179e\"],[0.4444444444444444,\"#bd3786\"],[0.5555555555555556,\"#d8576b\"],[0.6666666666666666,\"#ed7953\"],[0.7777777777777778,\"#fb9f3a\"],[0.8888888888888888,\"#fdca26\"],[1.0,\"#f0f921\"]]}],\"heatmap\":[{\"type\":\"heatmap\",\"colorbar\":{\"outlinewidth\":0,\"ticks\":\"\"},\"colorscale\":[[0.0,\"#0d0887\"],[0.1111111111111111,\"#46039f\"],[0.2222222222222222,\"#7201a8\"],[0.3333333333333333,\"#9c179e\"],[0.4444444444444444,\"#bd3786\"],[0.5555555555555556,\"#d8576b\"],[0.6666666666666666,\"#ed7953\"],[0.7777777777777778,\"#fb9f3a\"],[0.8888888888888888,\"#fdca26\"],[1.0,\"#f0f921\"]]}],\"heatmapgl\":[{\"type\":\"heatmapgl\",\"colorbar\":{\"outlinewidth\":0,\"ticks\":\"\"},\"colorscale\":[[0.0,\"#0d0887\"],[0.1111111111111111,\"#46039f\"],[0.2222222222222222,\"#7201a8\"],[0.3333333333333333,\"#9c179e\"],[0.4444444444444444,\"#bd3786\"],[0.5555555555555556,\"#d8576b\"],[0.6666666666666666,\"#ed7953\"],[0.7777777777777778,\"#fb9f3a\"],[0.8888888888888888,\"#fdca26\"],[1.0,\"#f0f921\"]]}],\"contourcarpet\":[{\"type\":\"contourcarpet\",\"colorbar\":{\"outlinewidth\":0,\"ticks\":\"\"}}],\"contour\":[{\"type\":\"contour\",\"colorbar\":{\"outlinewidth\":0,\"ticks\":\"\"},\"colorscale\":[[0.0,\"#0d0887\"],[0.1111111111111111,\"#46039f\"],[0.2222222222222222,\"#7201a8\"],[0.3333333333333333,\"#9c179e\"],[0.4444444444444444,\"#bd3786\"],[0.5555555555555556,\"#d8576b\"],[0.6666666666666666,\"#ed7953\"],[0.7777777777777778,\"#fb9f3a\"],[0.8888888888888888,\"#fdca26\"],[1.0,\"#f0f921\"]]}],\"surface\":[{\"type\":\"surface\",\"colorbar\":{\"outlinewidth\":0,\"ticks\":\"\"},\"colorscale\":[[0.0,\"#0d0887\"],[0.1111111111111111,\"#46039f\"],[0.2222222222222222,\"#7201a8\"],[0.3333333333333333,\"#9c179e\"],[0.4444444444444444,\"#bd3786\"],[0.5555555555555556,\"#d8576b\"],[0.6666666666666666,\"#ed7953\"],[0.7777777777777778,\"#fb9f3a\"],[0.8888888888888888,\"#fdca26\"],[1.0,\"#f0f921\"]]}],\"mesh3d\":[{\"type\":\"mesh3d\",\"colorbar\":{\"outlinewidth\":0,\"ticks\":\"\"}}],\"scatter\":[{\"fillpattern\":{\"fillmode\":\"overlay\",\"size\":10,\"solidity\":0.2},\"type\":\"scatter\"}],\"parcoords\":[{\"type\":\"parcoords\",\"line\":{\"colorbar\":{\"outlinewidth\":0,\"ticks\":\"\"}}}],\"scatterpolargl\":[{\"type\":\"scatterpolargl\",\"marker\":{\"colorbar\":{\"outlinewidth\":0,\"ticks\":\"\"}}}],\"bar\":[{\"error_x\":{\"color\":\"#2a3f5f\"},\"error_y\":{\"color\":\"#2a3f5f\"},\"marker\":{\"line\":{\"color\":\"#E5ECF6\",\"width\":0.5},\"pattern\":{\"fillmode\":\"overlay\",\"size\":10,\"solidity\":0.2}},\"type\":\"bar\"}],\"scattergeo\":[{\"type\":\"scattergeo\",\"marker\":{\"colorbar\":{\"outlinewidth\":0,\"ticks\":\"\"}}}],\"scatterpolar\":[{\"type\":\"scatterpolar\",\"marker\":{\"colorbar\":{\"outlinewidth\":0,\"ticks\":\"\"}}}],\"histogram\":[{\"marker\":{\"pattern\":{\"fillmode\":\"overlay\",\"size\":10,\"solidity\":0.2}},\"type\":\"histogram\"}],\"scattergl\":[{\"type\":\"scattergl\",\"marker\":{\"colorbar\":{\"outlinewidth\":0,\"ticks\":\"\"}}}],\"scatter3d\":[{\"type\":\"scatter3d\",\"line\":{\"colorbar\":{\"outlinewidth\":0,\"ticks\":\"\"}},\"marker\":{\"colorbar\":{\"outlinewidth\":0,\"ticks\":\"\"}}}],\"scattermapbox\":[{\"type\":\"scattermapbox\",\"marker\":{\"colorbar\":{\"outlinewidth\":0,\"ticks\":\"\"}}}],\"scatterternary\":[{\"type\":\"scatterternary\",\"marker\":{\"colorbar\":{\"outlinewidth\":0,\"ticks\":\"\"}}}],\"scattercarpet\":[{\"type\":\"scattercarpet\",\"marker\":{\"colorbar\":{\"outlinewidth\":0,\"ticks\":\"\"}}}],\"carpet\":[{\"aaxis\":{\"endlinecolor\":\"#2a3f5f\",\"gridcolor\":\"white\",\"linecolor\":\"white\",\"minorgridcolor\":\"white\",\"startlinecolor\":\"#2a3f5f\"},\"baxis\":{\"endlinecolor\":\"#2a3f5f\",\"gridcolor\":\"white\",\"linecolor\":\"white\",\"minorgridcolor\":\"white\",\"startlinecolor\":\"#2a3f5f\"},\"type\":\"carpet\"}],\"table\":[{\"cells\":{\"fill\":{\"color\":\"#EBF0F8\"},\"line\":{\"color\":\"white\"}},\"header\":{\"fill\":{\"color\":\"#C8D4E3\"},\"line\":{\"color\":\"white\"}},\"type\":\"table\"}],\"barpolar\":[{\"marker\":{\"line\":{\"color\":\"#E5ECF6\",\"width\":0.5},\"pattern\":{\"fillmode\":\"overlay\",\"size\":10,\"solidity\":0.2}},\"type\":\"barpolar\"}],\"pie\":[{\"automargin\":true,\"type\":\"pie\"}]},\"layout\":{\"autotypenumbers\":\"strict\",\"colorway\":[\"#636efa\",\"#EF553B\",\"#00cc96\",\"#ab63fa\",\"#FFA15A\",\"#19d3f3\",\"#FF6692\",\"#B6E880\",\"#FF97FF\",\"#FECB52\"],\"font\":{\"color\":\"#2a3f5f\"},\"hovermode\":\"closest\",\"hoverlabel\":{\"align\":\"left\"},\"paper_bgcolor\":\"white\",\"plot_bgcolor\":\"#E5ECF6\",\"polar\":{\"bgcolor\":\"#E5ECF6\",\"angularaxis\":{\"gridcolor\":\"white\",\"linecolor\":\"white\",\"ticks\":\"\"},\"radialaxis\":{\"gridcolor\":\"white\",\"linecolor\":\"white\",\"ticks\":\"\"}},\"ternary\":{\"bgcolor\":\"#E5ECF6\",\"aaxis\":{\"gridcolor\":\"white\",\"linecolor\":\"white\",\"ticks\":\"\"},\"baxis\":{\"gridcolor\":\"white\",\"linecolor\":\"white\",\"ticks\":\"\"},\"caxis\":{\"gridcolor\":\"white\",\"linecolor\":\"white\",\"ticks\":\"\"}},\"coloraxis\":{\"colorbar\":{\"outlinewidth\":0,\"ticks\":\"\"}},\"colorscale\":{\"sequential\":[[0.0,\"#0d0887\"],[0.1111111111111111,\"#46039f\"],[0.2222222222222222,\"#7201a8\"],[0.3333333333333333,\"#9c179e\"],[0.4444444444444444,\"#bd3786\"],[0.5555555555555556,\"#d8576b\"],[0.6666666666666666,\"#ed7953\"],[0.7777777777777778,\"#fb9f3a\"],[0.8888888888888888,\"#fdca26\"],[1.0,\"#f0f921\"]],\"sequentialminus\":[[0.0,\"#0d0887\"],[0.1111111111111111,\"#46039f\"],[0.2222222222222222,\"#7201a8\"],[0.3333333333333333,\"#9c179e\"],[0.4444444444444444,\"#bd3786\"],[0.5555555555555556,\"#d8576b\"],[0.6666666666666666,\"#ed7953\"],[0.7777777777777778,\"#fb9f3a\"],[0.8888888888888888,\"#fdca26\"],[1.0,\"#f0f921\"]],\"diverging\":[[0,\"#8e0152\"],[0.1,\"#c51b7d\"],[0.2,\"#de77ae\"],[0.3,\"#f1b6da\"],[0.4,\"#fde0ef\"],[0.5,\"#f7f7f7\"],[0.6,\"#e6f5d0\"],[0.7,\"#b8e186\"],[0.8,\"#7fbc41\"],[0.9,\"#4d9221\"],[1,\"#276419\"]]},\"xaxis\":{\"gridcolor\":\"white\",\"linecolor\":\"white\",\"ticks\":\"\",\"title\":{\"standoff\":15},\"zerolinecolor\":\"white\",\"automargin\":true,\"zerolinewidth\":2},\"yaxis\":{\"gridcolor\":\"white\",\"linecolor\":\"white\",\"ticks\":\"\",\"title\":{\"standoff\":15},\"zerolinecolor\":\"white\",\"automargin\":true,\"zerolinewidth\":2},\"scene\":{\"xaxis\":{\"backgroundcolor\":\"#E5ECF6\",\"gridcolor\":\"white\",\"linecolor\":\"white\",\"showbackground\":true,\"ticks\":\"\",\"zerolinecolor\":\"white\",\"gridwidth\":2},\"yaxis\":{\"backgroundcolor\":\"#E5ECF6\",\"gridcolor\":\"white\",\"linecolor\":\"white\",\"showbackground\":true,\"ticks\":\"\",\"zerolinecolor\":\"white\",\"gridwidth\":2},\"zaxis\":{\"backgroundcolor\":\"#E5ECF6\",\"gridcolor\":\"white\",\"linecolor\":\"white\",\"showbackground\":true,\"ticks\":\"\",\"zerolinecolor\":\"white\",\"gridwidth\":2}},\"shapedefaults\":{\"line\":{\"color\":\"#2a3f5f\"}},\"annotationdefaults\":{\"arrowcolor\":\"#2a3f5f\",\"arrowhead\":0,\"arrowwidth\":1},\"geo\":{\"bgcolor\":\"white\",\"landcolor\":\"#E5ECF6\",\"subunitcolor\":\"white\",\"showland\":true,\"showlakes\":true,\"lakecolor\":\"white\"},\"title\":{\"x\":0.05},\"mapbox\":{\"style\":\"light\"}}},\"xaxis\":{\"anchor\":\"y\",\"domain\":[0.0,1.0],\"title\":{\"text\":\"year\"}},\"yaxis\":{\"anchor\":\"x\",\"domain\":[0.0,1.0],\"title\":{\"text\":\"users\"}},\"legend\":{\"title\":{\"text\":\"role\"},\"tracegroupgap\":0},\"margin\":{\"t\":60},\"barmode\":\"relative\"},                        {\"responsive\": true}                    ).then(function(){\n",
       "                            \n",
       "var gd = document.getElementById('ab4bb02e-33fc-4cd7-a33f-e7af5c3d801a');\n",
       "var x = new MutationObserver(function (mutations, observer) {{\n",
       "        var display = window.getComputedStyle(gd).display;\n",
       "        if (!display || display === 'none') {{\n",
       "            console.log([gd, 'removed!']);\n",
       "            Plotly.purge(gd);\n",
       "            observer.disconnect();\n",
       "        }}\n",
       "}});\n",
       "\n",
       "// Listen for the removal of the full notebook cells\n",
       "var notebookContainer = gd.closest('#notebook-container');\n",
       "if (notebookContainer) {{\n",
       "    x.observe(notebookContainer, {childList: true});\n",
       "}}\n",
       "\n",
       "// Listen for the clearing of the current output cell\n",
       "var outputEl = gd.closest('.output');\n",
       "if (outputEl) {{\n",
       "    x.observe(outputEl, {childList: true});\n",
       "}}\n",
       "\n",
       "                        })                };                });            </script>        </div>"
      ]
     },
     "metadata": {},
     "output_type": "display_data"
    }
   ],
   "source": [
    "fig = px.bar(roles_by_year, x='year', y='users', color='role')\n",
    "fig.show()"
   ]
  },
  {
   "cell_type": "markdown",
   "id": "1c80a7ab-5a40-4643-bb46-2a33b9a5a427",
   "metadata": {},
   "source": [
    "## proposals over years\n",
    "- proposals by year\n",
    "- proposals by category over year\n",
    "    - with rejects and without rejects\n",
    "- voting trends by category\n",
    "- unique voters by category"
   ]
  },
  {
   "cell_type": "code",
   "execution_count": 152,
   "id": "70cc28ab-151d-4051-bcbc-ac3562731937",
   "metadata": {},
   "outputs": [],
   "source": [
    "# voting trend\n",
    "\n"
   ]
  },
  {
   "cell_type": "code",
   "execution_count": null,
   "id": "533be1f9-e090-4c9b-b0cf-f910f02e8de3",
   "metadata": {},
   "outputs": [],
   "source": [
    "conn.sql(\"\"\"SELECT year\"\"\")"
   ]
  },
  {
   "cell_type": "markdown",
   "id": "c967b0aa-041a-436d-a717-90a15d4dc0e9",
   "metadata": {
    "tags": []
   },
   "source": [
    "### home wiki spread\n",
    "understand what is the home wiki by year for different roles"
   ]
  },
  {
   "cell_type": "code",
   "execution_count": 139,
   "id": "33b32dbb-4aee-43ef-9feb-0b0c3fa5e599",
   "metadata": {},
   "outputs": [],
   "source": [
    "conn.sql(\"\"\"\n",
    "CREATE OR REPLACE VIEW ud_merge AS\n",
    "SELECT\n",
    "    ap.*,\n",
    "    role,\n",
    "    r.username,\n",
    "    home_wiki,\n",
    "    hw_user_groups::MAP(INT, VARCHAR) AS hw_user_groups,\n",
    "    edit_bucket,\n",
    "    account_age\n",
    "FROM\n",
    "    accepted_proposals ap\n",
    "    JOIN roles r ON ap.year = r.year AND ap.proposal = r.proposal\n",
    "    JOIN user_data ud ON r.year = ud.year AND r.username = ud.username\n",
    "\"\"\")"
   ]
  },
  {
   "cell_type": "code",
   "execution_count": 97,
   "id": "f644e3b7-fcb2-49fc-8c32-f33ca6ddf137",
   "metadata": {},
   "outputs": [],
   "source": [
    "conn.sql(\"\"\"\n",
    "CREATE OR REPLACE VIEW hw_spread AS\n",
    "SELECT\n",
    "    *,\n",
    "    ROUND(users / SUM(users) OVER (PARTITION BY year, role) * 100, 2) AS perc,\n",
    "    ROW_NUMBER() OVER (PARTITION BY year, role ORDER BY users DESC) AS rank\n",
    "FROM\n",
    "    (       SELECT\n",
    "            year,\n",
    "            role,\n",
    "            home_wiki,\n",
    "            COUNT(DISTINCT username) AS users\n",
    "        FROM\n",
    "            ud_merge\n",
    "        GROUP BY\n",
    "            year,\n",
    "            home_wiki,\n",
    "            role)\n",
    "\"\"\")"
   ]
  },
  {
   "cell_type": "markdown",
   "id": "37671aee-83ed-4702-a3f8-7f4878e69abe",
   "metadata": {},
   "source": [
    "## edit bucket on homewiki"
   ]
  },
  {
   "cell_type": "code",
   "execution_count": 114,
   "id": "d15981ba-80b9-4307-9a36-6f234c5e7ee0",
   "metadata": {},
   "outputs": [
    {
     "data": {
      "text/html": [
       "<div>\n",
       "<style scoped>\n",
       "    .dataframe tbody tr th:only-of-type {\n",
       "        vertical-align: middle;\n",
       "    }\n",
       "\n",
       "    .dataframe tbody tr th {\n",
       "        vertical-align: top;\n",
       "    }\n",
       "\n",
       "    .dataframe thead th {\n",
       "        text-align: right;\n",
       "    }\n",
       "</style>\n",
       "<table border=\"1\" class=\"dataframe\">\n",
       "  <thead>\n",
       "    <tr style=\"text-align: right;\">\n",
       "      <th></th>\n",
       "      <th>year</th>\n",
       "      <th>role</th>\n",
       "      <th>edit_bucket</th>\n",
       "      <th>users</th>\n",
       "    </tr>\n",
       "  </thead>\n",
       "  <tbody>\n",
       "    <tr>\n",
       "      <th>0</th>\n",
       "      <td>2020</td>\n",
       "      <td>voter</td>\n",
       "      <td>5000+</td>\n",
       "      <td>272</td>\n",
       "    </tr>\n",
       "    <tr>\n",
       "      <th>1</th>\n",
       "      <td>2020</td>\n",
       "      <td>voter</td>\n",
       "      <td>0-99</td>\n",
       "      <td>18</td>\n",
       "    </tr>\n",
       "    <tr>\n",
       "      <th>2</th>\n",
       "      <td>2020</td>\n",
       "      <td>voter</td>\n",
       "      <td>1000-4999</td>\n",
       "      <td>51</td>\n",
       "    </tr>\n",
       "    <tr>\n",
       "      <th>3</th>\n",
       "      <td>2020</td>\n",
       "      <td>proposer</td>\n",
       "      <td>5000+</td>\n",
       "      <td>36</td>\n",
       "    </tr>\n",
       "    <tr>\n",
       "      <th>4</th>\n",
       "      <td>2020</td>\n",
       "      <td>discussant</td>\n",
       "      <td>5000+</td>\n",
       "      <td>70</td>\n",
       "    </tr>\n",
       "    <tr>\n",
       "      <th>...</th>\n",
       "      <td>...</td>\n",
       "      <td>...</td>\n",
       "      <td>...</td>\n",
       "      <td>...</td>\n",
       "    </tr>\n",
       "    <tr>\n",
       "      <th>78</th>\n",
       "      <td>2017</td>\n",
       "      <td>proposer</td>\n",
       "      <td>100-499</td>\n",
       "      <td>1</td>\n",
       "    </tr>\n",
       "    <tr>\n",
       "      <th>79</th>\n",
       "      <td>2019</td>\n",
       "      <td>voter</td>\n",
       "      <td>0-99</td>\n",
       "      <td>19</td>\n",
       "    </tr>\n",
       "    <tr>\n",
       "      <th>80</th>\n",
       "      <td>2019</td>\n",
       "      <td>discussant</td>\n",
       "      <td>0-99</td>\n",
       "      <td>14</td>\n",
       "    </tr>\n",
       "    <tr>\n",
       "      <th>81</th>\n",
       "      <td>2020</td>\n",
       "      <td>proposer</td>\n",
       "      <td>100-499</td>\n",
       "      <td>1</td>\n",
       "    </tr>\n",
       "    <tr>\n",
       "      <th>82</th>\n",
       "      <td>2019</td>\n",
       "      <td>proposer</td>\n",
       "      <td>0-99</td>\n",
       "      <td>2</td>\n",
       "    </tr>\n",
       "  </tbody>\n",
       "</table>\n",
       "<p>83 rows × 4 columns</p>\n",
       "</div>"
      ],
      "text/plain": [
       "    year        role edit_bucket  users\n",
       "0   2020       voter       5000+    272\n",
       "1   2020       voter        0-99     18\n",
       "2   2020       voter   1000-4999     51\n",
       "3   2020    proposer       5000+     36\n",
       "4   2020  discussant       5000+     70\n",
       "..   ...         ...         ...    ...\n",
       "78  2017    proposer     100-499      1\n",
       "79  2019       voter        0-99     19\n",
       "80  2019  discussant        0-99     14\n",
       "81  2020    proposer     100-499      1\n",
       "82  2019    proposer        0-99      2\n",
       "\n",
       "[83 rows x 4 columns]"
      ]
     },
     "execution_count": 114,
     "metadata": {},
     "output_type": "execute_result"
    }
   ],
   "source": [
    "query(\"\"\"\n",
    "CREATE OR REPLACE VIEW hw_edit_bucket_spread AS\n",
    "SELECT\n",
    "    *,\n",
    "    ROUND(users / SUM(users) OVER (PARTITION BY year, role) * 100, 2) AS perc,\n",
    "    ROW_NUMBER() OVER (PARTITION BY year, role ORDER BY users DESC) AS rank\n",
    "FROM\n",
    "    (       SELECT\n",
    "            year,\n",
    "            role,\n",
    "            home_wiki,\n",
    "            COUNT(DISTINCT username) AS users\n",
    "        FROM\n",
    "            ud_merge\n",
    "        GROUP BY\n",
    "            year,\n",
    "            home_wiki,\n",
    "            role)\n",
    "\"\"\", True)"
   ]
  },
  {
   "cell_type": "code",
   "execution_count": null,
   "id": "e93b3967-79ac-40cf-8379-90f6b348d9d9",
   "metadata": {},
   "outputs": [
    {
     "data": {
      "text/html": [
       "<div>\n",
       "<style scoped>\n",
       "    .dataframe tbody tr th:only-of-type {\n",
       "        vertical-align: middle;\n",
       "    }\n",
       "\n",
       "    .dataframe tbody tr th {\n",
       "        vertical-align: top;\n",
       "    }\n",
       "\n",
       "    .dataframe thead th {\n",
       "        text-align: right;\n",
       "    }\n",
       "</style>\n",
       "<table border=\"1\" class=\"dataframe\">\n",
       "  <thead>\n",
       "    <tr style=\"text-align: right;\">\n",
       "      <th></th>\n",
       "      <th>year</th>\n",
       "      <th>username</th>\n",
       "      <th>home_wiki</th>\n",
       "      <th>hw_user_groups</th>\n",
       "      <th>edit_count</th>\n",
       "      <th>edit_bucket</th>\n",
       "      <th>account_age</th>\n",
       "    </tr>\n",
       "  </thead>\n",
       "  <tbody>\n",
       "    <tr>\n",
       "      <th>0</th>\n",
       "      <td>2015</td>\n",
       "      <td>AshLin</td>\n",
       "      <td>enwiki</td>\n",
       "      <td>['autoreviewer', 'extendedconfirmed', 'reviewe...</td>\n",
       "      <td>{'hw': 27961.0, 'mw': 286.0}</td>\n",
       "      <td>{'hw': '5000+', 'mw': '100-499'}</td>\n",
       "      <td>{'months': 174, 'years': 14.5}</td>\n",
       "    </tr>\n",
       "    <tr>\n",
       "      <th>1</th>\n",
       "      <td>2015</td>\n",
       "      <td>BernardP</td>\n",
       "      <td>enwiki</td>\n",
       "      <td>['autoreviewer', 'extendedconfirmed', 'reviewer']</td>\n",
       "      <td>{'hw': 3656.0, 'mw': 1.0}</td>\n",
       "      <td>{'hw': '1000-4999', 'mw': '0-99'}</td>\n",
       "      <td>{'months': 102, 'years': 8.5}</td>\n",
       "    </tr>\n",
       "    <tr>\n",
       "      <th>2</th>\n",
       "      <td>2015</td>\n",
       "      <td>Jan.Kamenicek</td>\n",
       "      <td>enwiktionary</td>\n",
       "      <td>['autopatrolled']</td>\n",
       "      <td>{'hw': 4214.0, 'mw': 41.0}</td>\n",
       "      <td>{'hw': '1000-4999', 'mw': '0-99'}</td>\n",
       "      <td>{'months': 184, 'years': 15.33}</td>\n",
       "    </tr>\n",
       "    <tr>\n",
       "      <th>3</th>\n",
       "      <td>2015</td>\n",
       "      <td>Ekkt0r</td>\n",
       "      <td>enwiki</td>\n",
       "      <td>['extendedconfirmed']</td>\n",
       "      <td>{'hw': 534.0, 'mw': 2.0}</td>\n",
       "      <td>{'hw': '5000+', 'mw': '0-99'}</td>\n",
       "      <td>{'months': 121, 'years': 10.08}</td>\n",
       "    </tr>\n",
       "    <tr>\n",
       "      <th>4</th>\n",
       "      <td>2015</td>\n",
       "      <td>Ham II</td>\n",
       "      <td>commonswiki</td>\n",
       "      <td>['autopatrolled', 'filemover']</td>\n",
       "      <td>{'hw': 37429.0, 'mw': 98.0}</td>\n",
       "      <td>{'hw': '5000+', 'mw': '0-99'}</td>\n",
       "      <td>{'months': 105, 'years': 8.75}</td>\n",
       "    </tr>\n",
       "  </tbody>\n",
       "</table>\n",
       "</div>"
      ],
      "text/plain": [
       "   year       username     home_wiki  \\\n",
       "0  2015         AshLin        enwiki   \n",
       "1  2015       BernardP        enwiki   \n",
       "2  2015  Jan.Kamenicek  enwiktionary   \n",
       "3  2015         Ekkt0r        enwiki   \n",
       "4  2015         Ham II   commonswiki   \n",
       "\n",
       "                                      hw_user_groups  \\\n",
       "0  ['autoreviewer', 'extendedconfirmed', 'reviewe...   \n",
       "1  ['autoreviewer', 'extendedconfirmed', 'reviewer']   \n",
       "2                                  ['autopatrolled']   \n",
       "3                              ['extendedconfirmed']   \n",
       "4                     ['autopatrolled', 'filemover']   \n",
       "\n",
       "                     edit_count                        edit_bucket  \\\n",
       "0  {'hw': 27961.0, 'mw': 286.0}   {'hw': '5000+', 'mw': '100-499'}   \n",
       "1     {'hw': 3656.0, 'mw': 1.0}  {'hw': '1000-4999', 'mw': '0-99'}   \n",
       "2    {'hw': 4214.0, 'mw': 41.0}  {'hw': '1000-4999', 'mw': '0-99'}   \n",
       "3      {'hw': 534.0, 'mw': 2.0}      {'hw': '5000+', 'mw': '0-99'}   \n",
       "4   {'hw': 37429.0, 'mw': 98.0}      {'hw': '5000+', 'mw': '0-99'}   \n",
       "\n",
       "                       account_age  \n",
       "0   {'months': 174, 'years': 14.5}  \n",
       "1    {'months': 102, 'years': 8.5}  \n",
       "2  {'months': 184, 'years': 15.33}  \n",
       "3  {'months': 121, 'years': 10.08}  \n",
       "4   {'months': 105, 'years': 8.75}  "
      ]
     },
     "execution_count": 105,
     "metadata": {},
     "output_type": "execute_result"
    }
   ],
   "source": [
    "query(\"\"\"SELECT * FROM user_data LIMIT 5\"\"\", True)"
   ]
  },
  {
   "cell_type": "markdown",
   "id": "feb5910d-3515-4aa9-8688-359d6b5cd5b5",
   "metadata": {},
   "source": [
    "## users rights on homewiki"
   ]
  },
  {
   "cell_type": "code",
   "execution_count": 145,
   "id": "f79ef22e-b493-45d2-ac88-1f39f5a61a22",
   "metadata": {},
   "outputs": [
    {
     "ename": "ConnectionException",
     "evalue": "Connection Error: Connection has already been closed",
     "output_type": "error",
     "traceback": [
      "\u001b[0;31m---------------------------------------------------------------------------\u001b[0m",
      "\u001b[0;31mConnectionException\u001b[0m                       Traceback (most recent call last)",
      "Cell \u001b[0;32mIn [145], line 1\u001b[0m\n\u001b[0;32m----> 1\u001b[0m \u001b[43mquery\u001b[49m\u001b[43m(\u001b[49m\u001b[38;5;124;43m\"\"\"\u001b[39;49m\u001b[38;5;124;43mSELECT * FROM ud_merge WHERE list_contains(hw_user_groups, \u001b[39;49m\u001b[38;5;124;43m'\u001b[39;49m\u001b[38;5;124;43mautopatrolled\u001b[39;49m\u001b[38;5;124;43m'\u001b[39;49m\u001b[38;5;124;43m)\u001b[39;49m\u001b[38;5;124;43m\"\"\"\u001b[39;49m\u001b[43m,\u001b[49m\u001b[43m \u001b[49m\u001b[38;5;28;43;01mTrue\u001b[39;49;00m\u001b[43m)\u001b[49m\n",
      "Cell \u001b[0;32mIn [82], line 3\u001b[0m, in \u001b[0;36mquery\u001b[0;34m(query_string, df, conn)\u001b[0m\n\u001b[1;32m      1\u001b[0m \u001b[38;5;28;01mdef\u001b[39;00m \u001b[38;5;21mquery\u001b[39m(query_string, df\u001b[38;5;241m=\u001b[39m\u001b[38;5;28;01mFalse\u001b[39;00m, conn\u001b[38;5;241m=\u001b[39mconn):\n\u001b[1;32m      2\u001b[0m     \u001b[38;5;28;01mif\u001b[39;00m df\u001b[38;5;241m==\u001b[39m\u001b[38;5;28;01mTrue\u001b[39;00m:\n\u001b[0;32m----> 3\u001b[0m         \u001b[38;5;28;01mreturn\u001b[39;00m \u001b[43mconn\u001b[49m\u001b[38;5;241;43m.\u001b[39;49m\u001b[43msql\u001b[49m\u001b[43m(\u001b[49m\u001b[43mquery_string\u001b[49m\u001b[43m)\u001b[49m\u001b[38;5;241m.\u001b[39mdf()\n\u001b[1;32m      4\u001b[0m     \u001b[38;5;28;01melse\u001b[39;00m:\n\u001b[1;32m      5\u001b[0m         \u001b[38;5;28;01mreturn\u001b[39;00m conn\u001b[38;5;241m.\u001b[39msql(query_string)\u001b[38;5;241m.\u001b[39mshow()\n",
      "\u001b[0;31mConnectionException\u001b[0m: Connection Error: Connection has already been closed"
     ]
    }
   ],
   "source": [
    "query(\"\"\"SELECT * FROM ud_merge WHERE list_contains(hw_user_groups, 'autopatrolled')\"\"\", True)"
   ]
  },
  {
   "cell_type": "code",
   "execution_count": 142,
   "id": "e7632771-09c7-467a-8db1-871e1ec119fc",
   "metadata": {},
   "outputs": [
    {
     "name": "stdout",
     "output_type": "stream",
     "text": [
      "┌────────────────┬───────────────────────────────────────────┬─────────┬─────────┬─────────┬───────┐\n",
      "│  column_name   │                column_type                │  null   │   key   │ default │ extra │\n",
      "│    varchar     │                  varchar                  │ varchar │ varchar │ varchar │ int32 │\n",
      "├────────────────┼───────────────────────────────────────────┼─────────┼─────────┼─────────┼───────┤\n",
      "│ year           │ INTEGER                                   │ YES     │ NULL    │ NULL    │  NULL │\n",
      "│ category       │ VARCHAR                                   │ YES     │ NULL    │ NULL    │  NULL │\n",
      "│ proposal       │ VARCHAR                                   │ YES     │ NULL    │ NULL    │  NULL │\n",
      "│ role           │ VARCHAR                                   │ YES     │ NULL    │ NULL    │  NULL │\n",
      "│ username       │ VARCHAR                                   │ YES     │ NULL    │ NULL    │  NULL │\n",
      "│ home_wiki      │ VARCHAR                                   │ YES     │ NULL    │ NULL    │  NULL │\n",
      "│ hw_user_groups │ MAP(INTEGER, VARCHAR)                     │ YES     │ NULL    │ NULL    │  NULL │\n",
      "│ edit_bucket    │ STRUCT(hw VARCHAR, mw VARCHAR)            │ YES     │ NULL    │ NULL    │  NULL │\n",
      "│ account_age    │ STRUCT(\"months\" SMALLINT, \"years\" DOUBLE) │ YES     │ NULL    │ NULL    │  NULL │\n",
      "└────────────────┴───────────────────────────────────────────┴─────────┴─────────┴─────────┴───────┘\n",
      "\n"
     ]
    }
   ],
   "source": [
    "query(\"\"\"DESCRIBE ud_merge\"\"\")"
   ]
  },
  {
   "cell_type": "markdown",
   "id": "9a3af198-f859-4b84-992b-091cd93b27e1",
   "metadata": {
    "tags": []
   },
   "source": [
    "## user account age (global)"
   ]
  },
  {
   "cell_type": "markdown",
   "id": "b84062d2-286e-4261-b75f-7a9da16aa816",
   "metadata": {},
   "source": [
    "## edit bucket on meta wiki"
   ]
  },
  {
   "cell_type": "markdown",
   "id": "8037e874-fd68-487d-ab9f-6fc600e113dc",
   "metadata": {},
   "source": [
    "## cross-proposal enagement\n"
   ]
  },
  {
   "cell_type": "markdown",
   "id": "8d2b97d3-2ebd-43bc-a9b5-f2fe68f0b758",
   "metadata": {},
   "source": [
    "## how many new people join"
   ]
  },
  {
   "cell_type": "markdown",
   "id": "6d209ba5-5130-4b2e-b9e0-a8f2739232fd",
   "metadata": {},
   "source": []
  },
  {
   "cell_type": "markdown",
   "id": "73d362c1-19b0-4b6e-8961-599297d33b39",
   "metadata": {},
   "source": []
  },
  {
   "cell_type": "markdown",
   "id": "70fa0212-aed0-42f4-be1c-fcccbe3bc114",
   "metadata": {},
   "source": [
    "## patterns\n",
    "- repetition of proposers and voters\n",
    "- cross proposal engagement by year"
   ]
  },
  {
   "cell_type": "code",
   "execution_count": null,
   "id": "13ce6332-994b-460a-9e41-151c2f2ab1be",
   "metadata": {},
   "outputs": [],
   "source": []
  }
 ],
 "metadata": {
  "kernelspec": {
   "display_name": "Python 3 (ipykernel)",
   "language": "python",
   "name": "python3"
  },
  "language_info": {
   "codemirror_mode": {
    "name": "ipython",
    "version": 3
   },
   "file_extension": ".py",
   "mimetype": "text/x-python",
   "name": "python",
   "nbconvert_exporter": "python",
   "pygments_lexer": "ipython3",
   "version": "3.10.8"
  }
 },
 "nbformat": 4,
 "nbformat_minor": 5
}
