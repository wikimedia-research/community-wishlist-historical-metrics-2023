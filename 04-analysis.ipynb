{
 "cells": [
  {
   "cell_type": "code",
   "execution_count": 1,
   "id": "9d7d84e5-844c-4369-a9c2-6c49f7910b87",
   "metadata": {},
   "outputs": [],
   "source": [
    "import pandas as pd\n",
    "import duckdb\n",
    "import json\n",
    "import warnings"
   ]
  },
  {
   "cell_type": "code",
   "execution_count": 6,
   "id": "6a25e90c-138d-4f17-9d7c-c25b27a2ab03",
   "metadata": {},
   "outputs": [],
   "source": [
    "pd.options.display.max_columns = None\n",
    "pd.options.display.max_rows = 100"
   ]
  },
  {
   "cell_type": "code",
   "execution_count": 2,
   "id": "817f1f08-6e1b-4317-a990-30f8617a6b62",
   "metadata": {},
   "outputs": [],
   "source": [
    "import plotly.graph_objects as go\n",
    "import plotly.express as px"
   ]
  },
  {
   "cell_type": "code",
   "execution_count": 287,
   "id": "70f62053-b5bf-4b56-907d-fa4a11512ddc",
   "metadata": {},
   "outputs": [],
   "source": [
    "conn = duckdb.connect('secrets/cws_data.db')"
   ]
  },
  {
   "cell_type": "code",
   "execution_count": 286,
   "id": "621dc64b-93c6-45af-9ea1-c8ea68cf09eb",
   "metadata": {},
   "outputs": [],
   "source": [
    "conn.close()"
   ]
  },
  {
   "cell_type": "code",
   "execution_count": null,
   "id": "a17a5084-9fd3-48dc-8cbc-367129aee7f9",
   "metadata": {},
   "outputs": [],
   "source": [
    "def query(query_string, df=False)"
   ]
  },
  {
   "cell_type": "markdown",
   "id": "1c80a7ab-5a40-4643-bb46-2a33b9a5a427",
   "metadata": {},
   "source": [
    "## proposals over years\n",
    "- proposals by year\n",
    "- proposals by category over year\n",
    "    - with rejects and without rejects\n",
    "- voting trends by category\n",
    "- unique voters by category"
   ]
  },
  {
   "cell_type": "code",
   "execution_count": 224,
   "id": "d66e2cc3-c5ed-4524-86aa-127c00294eac",
   "metadata": {},
   "outputs": [
    {
     "data": {
      "text/plain": [
       "┌───────┬──────────┬─────────┬──────────┐\n",
       "│ year  │ proposal │  role   │ username │\n",
       "│ int32 │ varchar  │ varchar │ varchar  │\n",
       "├───────────────────────────────────────┤\n",
       "│                0 rows                 │\n",
       "└───────────────────────────────────────┘"
      ]
     },
     "execution_count": 224,
     "metadata": {},
     "output_type": "execute_result"
    }
   ],
   "source": [
    "conn.sql(\"\"\"SELECT * FROM roles WHERE year = 2021 AND username IS NULL AND role = 'voter'\"\"\")"
   ]
  },
  {
   "cell_type": "code",
   "execution_count": 225,
   "id": "f97d7546-63f1-4439-95b6-f921d6909bfe",
   "metadata": {},
   "outputs": [
    {
     "data": {
      "text/plain": [
       "┌───────┬──────────┬─────────┬──────────┬──────────┐\n",
       "│ year  │ proposal │  role   │ username │ category │\n",
       "│ int32 │ varchar  │ varchar │ varchar  │ varchar  │\n",
       "├──────────────────────────────────────────────────┤\n",
       "│                      0 rows                      │\n",
       "└──────────────────────────────────────────────────┘"
      ]
     },
     "execution_count": 225,
     "metadata": {},
     "output_type": "execute_result"
    }
   ],
   "source": [
    "conn.sql(\"\"\"SELECT r.*, p.category FROM roles r JOIN proposals p ON p.year = r.year AND p.proposal = r.proposal WHERE p.year = 2019 AND username IS NULL AND role = 'voter'\"\"\") "
   ]
  },
  {
   "cell_type": "code",
   "execution_count": 233,
   "id": "1e2a2d45-541e-43da-ae2a-ab2e5ae7bfe9",
   "metadata": {},
   "outputs": [
    {
     "data": {
      "text/plain": [
       "┌───────┬──────────────┐\n",
       "│ year  │ count_star() │\n",
       "│ int32 │    int64     │\n",
       "├───────┼──────────────┤\n",
       "│  2015 │          107 │\n",
       "│  2016 │          265 │\n",
       "│  2017 │          321 │\n",
       "│  2019 │          317 │\n",
       "│  2020 │          118 │\n",
       "│  2021 │          412 │\n",
       "│  2022 │          454 │\n",
       "│  2023 │          264 │\n",
       "└───────┴──────────────┘"
      ]
     },
     "execution_count": 233,
     "metadata": {},
     "output_type": "execute_result"
    }
   ],
   "source": [
    "conn.sql(\"\"\"SELECT year, COUNT(*) FROM proposals GROUP BY year\"\"\")"
   ]
  },
  {
   "cell_type": "code",
   "execution_count": 291,
   "id": "8c76984a-5052-43c5-b15f-01b185435645",
   "metadata": {},
   "outputs": [],
   "source": [
    "ap23 = conn.sql(\"\"\"SELECT * FROM accepted_proposals WHERE year = 2023\"\"\").df()"
   ]
  },
  {
   "cell_type": "code",
   "execution_count": 292,
   "id": "bd85de79-ec16-416d-99a4-a46f7d96d9d3",
   "metadata": {},
   "outputs": [
    {
     "data": {
      "text/html": [
       "<div>\n",
       "<style scoped>\n",
       "    .dataframe tbody tr th:only-of-type {\n",
       "        vertical-align: middle;\n",
       "    }\n",
       "\n",
       "    .dataframe tbody tr th {\n",
       "        vertical-align: top;\n",
       "    }\n",
       "\n",
       "    .dataframe thead th {\n",
       "        text-align: right;\n",
       "    }\n",
       "</style>\n",
       "<table border=\"1\" class=\"dataframe\">\n",
       "  <thead>\n",
       "    <tr style=\"text-align: right;\">\n",
       "      <th></th>\n",
       "      <th>year</th>\n",
       "      <th>category</th>\n",
       "      <th>proposal</th>\n",
       "    </tr>\n",
       "  </thead>\n",
       "  <tbody>\n",
       "    <tr>\n",
       "      <th>26</th>\n",
       "      <td>2023</td>\n",
       "      <td>Bots_and_gadgets</td>\n",
       "      <td>Make Navigation Popups work on grandchild sub-...</td>\n",
       "    </tr>\n",
       "    <tr>\n",
       "      <th>29</th>\n",
       "      <td>2023</td>\n",
       "      <td>Bots_and_gadgets</td>\n",
       "      <td>Support ASGI on Toolforge</td>\n",
       "    </tr>\n",
       "    <tr>\n",
       "      <th>61</th>\n",
       "      <td>2023</td>\n",
       "      <td>Larger_suggestions</td>\n",
       "      <td>Fix unified login to Wikidata and Commons</td>\n",
       "    </tr>\n",
       "    <tr>\n",
       "      <th>62</th>\n",
       "      <td>2023</td>\n",
       "      <td>Larger_suggestions</td>\n",
       "      <td>Add semantics of processes</td>\n",
       "    </tr>\n",
       "    <tr>\n",
       "      <th>63</th>\n",
       "      <td>2023</td>\n",
       "      <td>Larger_suggestions</td>\n",
       "      <td>Finalize Gadgets 2.0</td>\n",
       "    </tr>\n",
       "    <tr>\n",
       "      <th>64</th>\n",
       "      <td>2023</td>\n",
       "      <td>Larger_suggestions</td>\n",
       "      <td>Improve speed at which InternetArchiveBot arch...</td>\n",
       "    </tr>\n",
       "    <tr>\n",
       "      <th>66</th>\n",
       "      <td>2023</td>\n",
       "      <td>Larger_suggestions</td>\n",
       "      <td>Wikinews mobile app</td>\n",
       "    </tr>\n",
       "    <tr>\n",
       "      <th>67</th>\n",
       "      <td>2023</td>\n",
       "      <td>Larger_suggestions</td>\n",
       "      <td>Allow for searching for the start and end of a...</td>\n",
       "    </tr>\n",
       "    <tr>\n",
       "      <th>68</th>\n",
       "      <td>2023</td>\n",
       "      <td>Larger_suggestions</td>\n",
       "      <td>Train a language model to perform SPARQL queries</td>\n",
       "    </tr>\n",
       "    <tr>\n",
       "      <th>69</th>\n",
       "      <td>2023</td>\n",
       "      <td>Larger_suggestions</td>\n",
       "      <td>Wiki-ancestry</td>\n",
       "    </tr>\n",
       "    <tr>\n",
       "      <th>70</th>\n",
       "      <td>2023</td>\n",
       "      <td>Larger_suggestions</td>\n",
       "      <td>Explore evasion methods of state-level censors...</td>\n",
       "    </tr>\n",
       "    <tr>\n",
       "      <th>71</th>\n",
       "      <td>2023</td>\n",
       "      <td>Larger_suggestions</td>\n",
       "      <td>A way to see WhatLinksHere directly, excluding...</td>\n",
       "    </tr>\n",
       "    <tr>\n",
       "      <th>72</th>\n",
       "      <td>2023</td>\n",
       "      <td>Larger_suggestions</td>\n",
       "      <td>Allow querying the Commons tabular data with t...</td>\n",
       "    </tr>\n",
       "    <tr>\n",
       "      <th>73</th>\n",
       "      <td>2023</td>\n",
       "      <td>Larger_suggestions</td>\n",
       "      <td>Develop community wishlist into crowdfunding p...</td>\n",
       "    </tr>\n",
       "    <tr>\n",
       "      <th>74</th>\n",
       "      <td>2023</td>\n",
       "      <td>Larger_suggestions</td>\n",
       "      <td>Keep Chinese (zh) editors safe</td>\n",
       "    </tr>\n",
       "    <tr>\n",
       "      <th>75</th>\n",
       "      <td>2023</td>\n",
       "      <td>Larger_suggestions</td>\n",
       "      <td>View the history of a section, add a section t...</td>\n",
       "    </tr>\n",
       "    <tr>\n",
       "      <th>76</th>\n",
       "      <td>2023</td>\n",
       "      <td>Larger_suggestions</td>\n",
       "      <td>Report problem button for reader</td>\n",
       "    </tr>\n",
       "    <tr>\n",
       "      <th>77</th>\n",
       "      <td>2023</td>\n",
       "      <td>Larger_suggestions</td>\n",
       "      <td>Add VisualEditor or a similar tool to the mobi...</td>\n",
       "    </tr>\n",
       "    <tr>\n",
       "      <th>78</th>\n",
       "      <td>2023</td>\n",
       "      <td>Larger_suggestions</td>\n",
       "      <td>Re-use citation with different page number in ...</td>\n",
       "    </tr>\n",
       "    <tr>\n",
       "      <th>80</th>\n",
       "      <td>2023</td>\n",
       "      <td>Larger_suggestions</td>\n",
       "      <td>Wikipedia in English</td>\n",
       "    </tr>\n",
       "    <tr>\n",
       "      <th>82</th>\n",
       "      <td>2023</td>\n",
       "      <td>Larger_suggestions</td>\n",
       "      <td>Structured user pages</td>\n",
       "    </tr>\n",
       "    <tr>\n",
       "      <th>83</th>\n",
       "      <td>2023</td>\n",
       "      <td>Larger_suggestions</td>\n",
       "      <td>Create a large language model that aligns with...</td>\n",
       "    </tr>\n",
       "    <tr>\n",
       "      <th>84</th>\n",
       "      <td>2023</td>\n",
       "      <td>Larger_suggestions</td>\n",
       "      <td>Implement an offline editor</td>\n",
       "    </tr>\n",
       "    <tr>\n",
       "      <th>85</th>\n",
       "      <td>2023</td>\n",
       "      <td>Larger_suggestions</td>\n",
       "      <td>Tool for searching infobox parameter values</td>\n",
       "    </tr>\n",
       "    <tr>\n",
       "      <th>86</th>\n",
       "      <td>2023</td>\n",
       "      <td>Larger_suggestions</td>\n",
       "      <td>Allow changing text written in the \"Edit summa...</td>\n",
       "    </tr>\n",
       "    <tr>\n",
       "      <th>87</th>\n",
       "      <td>2023</td>\n",
       "      <td>Larger_suggestions</td>\n",
       "      <td>Restore scholarships.wikimedia.org</td>\n",
       "    </tr>\n",
       "    <tr>\n",
       "      <th>88</th>\n",
       "      <td>2023</td>\n",
       "      <td>Larger_suggestions</td>\n",
       "      <td>Support for major multimedia tools: VideoJS, M...</td>\n",
       "    </tr>\n",
       "    <tr>\n",
       "      <th>89</th>\n",
       "      <td>2023</td>\n",
       "      <td>Larger_suggestions</td>\n",
       "      <td>Search in a member's contribution</td>\n",
       "    </tr>\n",
       "    <tr>\n",
       "      <th>105</th>\n",
       "      <td>2023</td>\n",
       "      <td>Miscellaneous</td>\n",
       "      <td>Change year range shown in date selection popup</td>\n",
       "    </tr>\n",
       "    <tr>\n",
       "      <th>141</th>\n",
       "      <td>2023</td>\n",
       "      <td>New_contributors</td>\n",
       "      <td>New users should see the deletion log when vis...</td>\n",
       "    </tr>\n",
       "    <tr>\n",
       "      <th>148</th>\n",
       "      <td>2023</td>\n",
       "      <td>Communication_tools</td>\n",
       "      <td>Wikibreak/OoO notification autoresponder</td>\n",
       "    </tr>\n",
       "    <tr>\n",
       "      <th>158</th>\n",
       "      <td>2023</td>\n",
       "      <td>Reading</td>\n",
       "      <td>Dark mode</td>\n",
       "    </tr>\n",
       "  </tbody>\n",
       "</table>\n",
       "</div>"
      ],
      "text/plain": [
       "     year             category  \\\n",
       "26   2023     Bots_and_gadgets   \n",
       "29   2023     Bots_and_gadgets   \n",
       "61   2023   Larger_suggestions   \n",
       "62   2023   Larger_suggestions   \n",
       "63   2023   Larger_suggestions   \n",
       "64   2023   Larger_suggestions   \n",
       "66   2023   Larger_suggestions   \n",
       "67   2023   Larger_suggestions   \n",
       "68   2023   Larger_suggestions   \n",
       "69   2023   Larger_suggestions   \n",
       "70   2023   Larger_suggestions   \n",
       "71   2023   Larger_suggestions   \n",
       "72   2023   Larger_suggestions   \n",
       "73   2023   Larger_suggestions   \n",
       "74   2023   Larger_suggestions   \n",
       "75   2023   Larger_suggestions   \n",
       "76   2023   Larger_suggestions   \n",
       "77   2023   Larger_suggestions   \n",
       "78   2023   Larger_suggestions   \n",
       "80   2023   Larger_suggestions   \n",
       "82   2023   Larger_suggestions   \n",
       "83   2023   Larger_suggestions   \n",
       "84   2023   Larger_suggestions   \n",
       "85   2023   Larger_suggestions   \n",
       "86   2023   Larger_suggestions   \n",
       "87   2023   Larger_suggestions   \n",
       "88   2023   Larger_suggestions   \n",
       "89   2023   Larger_suggestions   \n",
       "105  2023        Miscellaneous   \n",
       "141  2023     New_contributors   \n",
       "148  2023  Communication_tools   \n",
       "158  2023              Reading   \n",
       "\n",
       "                                              proposal  \n",
       "26   Make Navigation Popups work on grandchild sub-...  \n",
       "29                           Support ASGI on Toolforge  \n",
       "61           Fix unified login to Wikidata and Commons  \n",
       "62                          Add semantics of processes  \n",
       "63                                Finalize Gadgets 2.0  \n",
       "64   Improve speed at which InternetArchiveBot arch...  \n",
       "66                                 Wikinews mobile app  \n",
       "67   Allow for searching for the start and end of a...  \n",
       "68    Train a language model to perform SPARQL queries  \n",
       "69                                       Wiki-ancestry  \n",
       "70   Explore evasion methods of state-level censors...  \n",
       "71   A way to see WhatLinksHere directly, excluding...  \n",
       "72   Allow querying the Commons tabular data with t...  \n",
       "73   Develop community wishlist into crowdfunding p...  \n",
       "74                      Keep Chinese (zh) editors safe  \n",
       "75   View the history of a section, add a section t...  \n",
       "76                    Report problem button for reader  \n",
       "77   Add VisualEditor or a similar tool to the mobi...  \n",
       "78   Re-use citation with different page number in ...  \n",
       "80                                Wikipedia in English  \n",
       "82                               Structured user pages  \n",
       "83   Create a large language model that aligns with...  \n",
       "84                         Implement an offline editor  \n",
       "85         Tool for searching infobox parameter values  \n",
       "86   Allow changing text written in the \"Edit summa...  \n",
       "87                  Restore scholarships.wikimedia.org  \n",
       "88   Support for major multimedia tools: VideoJS, M...  \n",
       "89                   Search in a member's contribution  \n",
       "105    Change year range shown in date selection popup  \n",
       "141  New users should see the deletion log when vis...  \n",
       "148           Wikibreak/OoO notification autoresponder  \n",
       "158                                          Dark mode  "
      ]
     },
     "execution_count": 292,
     "metadata": {},
     "output_type": "execute_result"
    }
   ],
   "source": [
    "ap23.query(\"\"\"proposal != @prop.proposal.values.tolist()\"\"\")"
   ]
  },
  {
   "cell_type": "code",
   "execution_count": null,
   "id": "460d065d-ec12-4bef-86cf-366e9e639000",
   "metadata": {},
   "outputs": [],
   "source": []
  },
  {
   "cell_type": "code",
   "execution_count": 283,
   "id": "742cb010-05df-40fd-b4a3-f75aef8e1515",
   "metadata": {},
   "outputs": [],
   "source": [
    "prop = conn.sql(\"\"\"\n",
    "SELECT\n",
    "    *\n",
    "FROM\n",
    "    accepted_proposals ap\n",
    "    LEFT JOIN roles rl ON ap.year = rl.year AND ap.proposal = rl.proposal\n",
    "WHERE ap.year = 2023 AND role='proposer'\n",
    "\n",
    "\"\"\").df()"
   ]
  },
  {
   "cell_type": "code",
   "execution_count": 128,
   "id": "055a89b7-494e-4289-98a8-2668e8e20aec",
   "metadata": {},
   "outputs": [
    {
     "data": {
      "text/html": [
       "<div>\n",
       "<style scoped>\n",
       "    .dataframe tbody tr th:only-of-type {\n",
       "        vertical-align: middle;\n",
       "    }\n",
       "\n",
       "    .dataframe tbody tr th {\n",
       "        vertical-align: top;\n",
       "    }\n",
       "\n",
       "    .dataframe thead th {\n",
       "        text-align: right;\n",
       "    }\n",
       "</style>\n",
       "<table border=\"1\" class=\"dataframe\">\n",
       "  <thead>\n",
       "    <tr style=\"text-align: right;\">\n",
       "      <th></th>\n",
       "      <th>year</th>\n",
       "      <th>Anti-harassment</th>\n",
       "      <th>Bots_and_gadgets</th>\n",
       "      <th>Citations</th>\n",
       "      <th>Communication_tools</th>\n",
       "      <th>Editing</th>\n",
       "      <th>Larger_suggestions</th>\n",
       "      <th>Maps</th>\n",
       "      <th>Miscellaneous</th>\n",
       "      <th>Mobile_and_apps</th>\n",
       "      <th>Moderation_tools</th>\n",
       "      <th>Multimedia_and_Commons</th>\n",
       "      <th>Navigation_tools</th>\n",
       "      <th>New_contributors</th>\n",
       "      <th>Programs_and_events</th>\n",
       "      <th>Reading</th>\n",
       "      <th>Templates</th>\n",
       "      <th>Translation</th>\n",
       "      <th>Watchlists</th>\n",
       "      <th>WikiProjects</th>\n",
       "      <th>Wikidata</th>\n",
       "      <th>Wikisource</th>\n",
       "      <th>Wikiversity</th>\n",
       "      <th>Wiktionary</th>\n",
       "    </tr>\n",
       "  </thead>\n",
       "  <tbody>\n",
       "    <tr>\n",
       "      <th>0</th>\n",
       "      <td>2015</td>\n",
       "      <td>NaN</td>\n",
       "      <td>4.0</td>\n",
       "      <td>NaN</td>\n",
       "      <td>9.0</td>\n",
       "      <td>13.0</td>\n",
       "      <td>NaN</td>\n",
       "      <td>NaN</td>\n",
       "      <td>17.0</td>\n",
       "      <td>NaN</td>\n",
       "      <td>13.0</td>\n",
       "      <td>11.0</td>\n",
       "      <td>12.0</td>\n",
       "      <td>NaN</td>\n",
       "      <td>NaN</td>\n",
       "      <td>4.0</td>\n",
       "      <td>3.0</td>\n",
       "      <td>NaN</td>\n",
       "      <td>7.0</td>\n",
       "      <td>NaN</td>\n",
       "      <td>7.0</td>\n",
       "      <td>6.0</td>\n",
       "      <td>1.0</td>\n",
       "      <td>NaN</td>\n",
       "    </tr>\n",
       "    <tr>\n",
       "      <th>1</th>\n",
       "      <td>2016</td>\n",
       "      <td>NaN</td>\n",
       "      <td>13.0</td>\n",
       "      <td>6.0</td>\n",
       "      <td>NaN</td>\n",
       "      <td>34.0</td>\n",
       "      <td>NaN</td>\n",
       "      <td>NaN</td>\n",
       "      <td>34.0</td>\n",
       "      <td>10.0</td>\n",
       "      <td>22.0</td>\n",
       "      <td>44.0</td>\n",
       "      <td>11.0</td>\n",
       "      <td>NaN</td>\n",
       "      <td>7.0</td>\n",
       "      <td>10.0</td>\n",
       "      <td>NaN</td>\n",
       "      <td>NaN</td>\n",
       "      <td>24.0</td>\n",
       "      <td>2.0</td>\n",
       "      <td>26.0</td>\n",
       "      <td>18.0</td>\n",
       "      <td>NaN</td>\n",
       "      <td>4.0</td>\n",
       "    </tr>\n",
       "    <tr>\n",
       "      <th>2</th>\n",
       "      <td>2017</td>\n",
       "      <td>4.0</td>\n",
       "      <td>15.0</td>\n",
       "      <td>8.0</td>\n",
       "      <td>NaN</td>\n",
       "      <td>48.0</td>\n",
       "      <td>NaN</td>\n",
       "      <td>NaN</td>\n",
       "      <td>47.0</td>\n",
       "      <td>21.0</td>\n",
       "      <td>22.0</td>\n",
       "      <td>45.0</td>\n",
       "      <td>9.0</td>\n",
       "      <td>NaN</td>\n",
       "      <td>4.0</td>\n",
       "      <td>16.0</td>\n",
       "      <td>NaN</td>\n",
       "      <td>NaN</td>\n",
       "      <td>23.0</td>\n",
       "      <td>NaN</td>\n",
       "      <td>40.0</td>\n",
       "      <td>11.0</td>\n",
       "      <td>NaN</td>\n",
       "      <td>9.0</td>\n",
       "    </tr>\n",
       "    <tr>\n",
       "      <th>3</th>\n",
       "      <td>2019</td>\n",
       "      <td>5.0</td>\n",
       "      <td>13.0</td>\n",
       "      <td>15.0</td>\n",
       "      <td>4.0</td>\n",
       "      <td>46.0</td>\n",
       "      <td>NaN</td>\n",
       "      <td>13.0</td>\n",
       "      <td>49.0</td>\n",
       "      <td>19.0</td>\n",
       "      <td>15.0</td>\n",
       "      <td>31.0</td>\n",
       "      <td>22.0</td>\n",
       "      <td>NaN</td>\n",
       "      <td>4.0</td>\n",
       "      <td>12.0</td>\n",
       "      <td>NaN</td>\n",
       "      <td>NaN</td>\n",
       "      <td>14.0</td>\n",
       "      <td>NaN</td>\n",
       "      <td>32.0</td>\n",
       "      <td>14.0</td>\n",
       "      <td>NaN</td>\n",
       "      <td>10.0</td>\n",
       "    </tr>\n",
       "    <tr>\n",
       "      <th>4</th>\n",
       "      <td>2021</td>\n",
       "      <td>10.0</td>\n",
       "      <td>24.0</td>\n",
       "      <td>14.0</td>\n",
       "      <td>9.0</td>\n",
       "      <td>75.0</td>\n",
       "      <td>NaN</td>\n",
       "      <td>NaN</td>\n",
       "      <td>44.0</td>\n",
       "      <td>30.0</td>\n",
       "      <td>31.0</td>\n",
       "      <td>45.0</td>\n",
       "      <td>33.0</td>\n",
       "      <td>NaN</td>\n",
       "      <td>NaN</td>\n",
       "      <td>28.0</td>\n",
       "      <td>NaN</td>\n",
       "      <td>10.0</td>\n",
       "      <td>22.0</td>\n",
       "      <td>NaN</td>\n",
       "      <td>26.0</td>\n",
       "      <td>6.0</td>\n",
       "      <td>NaN</td>\n",
       "      <td>6.0</td>\n",
       "    </tr>\n",
       "    <tr>\n",
       "      <th>5</th>\n",
       "      <td>2022</td>\n",
       "      <td>14.0</td>\n",
       "      <td>23.0</td>\n",
       "      <td>19.0</td>\n",
       "      <td>9.0</td>\n",
       "      <td>52.0</td>\n",
       "      <td>57.0</td>\n",
       "      <td>NaN</td>\n",
       "      <td>54.0</td>\n",
       "      <td>24.0</td>\n",
       "      <td>17.0</td>\n",
       "      <td>36.0</td>\n",
       "      <td>31.0</td>\n",
       "      <td>NaN</td>\n",
       "      <td>NaN</td>\n",
       "      <td>24.0</td>\n",
       "      <td>NaN</td>\n",
       "      <td>17.0</td>\n",
       "      <td>13.0</td>\n",
       "      <td>NaN</td>\n",
       "      <td>29.0</td>\n",
       "      <td>14.0</td>\n",
       "      <td>NaN</td>\n",
       "      <td>9.0</td>\n",
       "    </tr>\n",
       "    <tr>\n",
       "      <th>6</th>\n",
       "      <td>2023</td>\n",
       "      <td>9.0</td>\n",
       "      <td>13.0</td>\n",
       "      <td>6.0</td>\n",
       "      <td>17.0</td>\n",
       "      <td>31.0</td>\n",
       "      <td>30.0</td>\n",
       "      <td>NaN</td>\n",
       "      <td>28.0</td>\n",
       "      <td>4.0</td>\n",
       "      <td>18.0</td>\n",
       "      <td>33.0</td>\n",
       "      <td>12.0</td>\n",
       "      <td>6.0</td>\n",
       "      <td>NaN</td>\n",
       "      <td>12.0</td>\n",
       "      <td>NaN</td>\n",
       "      <td>9.0</td>\n",
       "      <td>NaN</td>\n",
       "      <td>NaN</td>\n",
       "      <td>17.0</td>\n",
       "      <td>7.0</td>\n",
       "      <td>NaN</td>\n",
       "      <td>7.0</td>\n",
       "    </tr>\n",
       "  </tbody>\n",
       "</table>\n",
       "</div>"
      ],
      "text/plain": [
       "   year  Anti-harassment  Bots_and_gadgets  Citations  Communication_tools  \\\n",
       "0  2015              NaN               4.0        NaN                  9.0   \n",
       "1  2016              NaN              13.0        6.0                  NaN   \n",
       "2  2017              4.0              15.0        8.0                  NaN   \n",
       "3  2019              5.0              13.0       15.0                  4.0   \n",
       "4  2021             10.0              24.0       14.0                  9.0   \n",
       "5  2022             14.0              23.0       19.0                  9.0   \n",
       "6  2023              9.0              13.0        6.0                 17.0   \n",
       "\n",
       "   Editing  Larger_suggestions  Maps  Miscellaneous  Mobile_and_apps  \\\n",
       "0     13.0                 NaN   NaN           17.0              NaN   \n",
       "1     34.0                 NaN   NaN           34.0             10.0   \n",
       "2     48.0                 NaN   NaN           47.0             21.0   \n",
       "3     46.0                 NaN  13.0           49.0             19.0   \n",
       "4     75.0                 NaN   NaN           44.0             30.0   \n",
       "5     52.0                57.0   NaN           54.0             24.0   \n",
       "6     31.0                30.0   NaN           28.0              4.0   \n",
       "\n",
       "   Moderation_tools  Multimedia_and_Commons  Navigation_tools  \\\n",
       "0              13.0                    11.0              12.0   \n",
       "1              22.0                    44.0              11.0   \n",
       "2              22.0                    45.0               9.0   \n",
       "3              15.0                    31.0              22.0   \n",
       "4              31.0                    45.0              33.0   \n",
       "5              17.0                    36.0              31.0   \n",
       "6              18.0                    33.0              12.0   \n",
       "\n",
       "   New_contributors  Programs_and_events  Reading  Templates  Translation  \\\n",
       "0               NaN                  NaN      4.0        3.0          NaN   \n",
       "1               NaN                  7.0     10.0        NaN          NaN   \n",
       "2               NaN                  4.0     16.0        NaN          NaN   \n",
       "3               NaN                  4.0     12.0        NaN          NaN   \n",
       "4               NaN                  NaN     28.0        NaN         10.0   \n",
       "5               NaN                  NaN     24.0        NaN         17.0   \n",
       "6               6.0                  NaN     12.0        NaN          9.0   \n",
       "\n",
       "   Watchlists  WikiProjects  Wikidata  Wikisource  Wikiversity  Wiktionary  \n",
       "0         7.0           NaN       7.0         6.0          1.0         NaN  \n",
       "1        24.0           2.0      26.0        18.0          NaN         4.0  \n",
       "2        23.0           NaN      40.0        11.0          NaN         9.0  \n",
       "3        14.0           NaN      32.0        14.0          NaN        10.0  \n",
       "4        22.0           NaN      26.0         6.0          NaN         6.0  \n",
       "5        13.0           NaN      29.0        14.0          NaN         9.0  \n",
       "6         NaN           NaN      17.0         7.0          NaN         7.0  "
      ]
     },
     "execution_count": 128,
     "metadata": {},
     "output_type": "execute_result"
    }
   ],
   "source": [
    "all_categories_by_year = conn.sql(\"\"\"\n",
    "WITH base AS (\n",
    "SELECT *, NULL AS error FROM proposals\n",
    "UNION ALL\n",
    "SELECT * FROM errors),\n",
    "\n",
    "yearly AS (SELECT\n",
    "    year, category, COUNT(DISTINCT proposal) AS proposals \n",
    "FROM base \n",
    "WHERE NOT category IN ('Archive', 'Untranslated') AND year <> 2020\n",
    "GROUP BY year, category)\n",
    "\n",
    "PIVOT yearly\n",
    "ON category\n",
    "USING SUM(proposals)\n",
    "GROUP BY year\"\"\").df()\n",
    "\n",
    "all_categories_by_year"
   ]
  },
  {
   "cell_type": "code",
   "execution_count": 129,
   "id": "1b5194bf-9465-4293-b15e-cfe2af42518e",
   "metadata": {},
   "outputs": [
    {
     "data": {
      "text/html": [
       "<div>\n",
       "<style scoped>\n",
       "    .dataframe tbody tr th:only-of-type {\n",
       "        vertical-align: middle;\n",
       "    }\n",
       "\n",
       "    .dataframe tbody tr th {\n",
       "        vertical-align: top;\n",
       "    }\n",
       "\n",
       "    .dataframe thead th {\n",
       "        text-align: right;\n",
       "    }\n",
       "</style>\n",
       "<table border=\"1\" class=\"dataframe\">\n",
       "  <thead>\n",
       "    <tr style=\"text-align: right;\">\n",
       "      <th></th>\n",
       "      <th>year</th>\n",
       "      <th>Anti-harassment</th>\n",
       "      <th>Bots_and_gadgets</th>\n",
       "      <th>Citations</th>\n",
       "      <th>Communication_tools</th>\n",
       "      <th>Editing</th>\n",
       "      <th>Larger_suggestions</th>\n",
       "      <th>Miscellaneous</th>\n",
       "      <th>Mobile_and_apps</th>\n",
       "      <th>Moderation_tools</th>\n",
       "      <th>Multimedia_and_Commons</th>\n",
       "      <th>Navigation_tools</th>\n",
       "      <th>Programs_and_events</th>\n",
       "      <th>Reading</th>\n",
       "      <th>Translation</th>\n",
       "      <th>Watchlists</th>\n",
       "      <th>Wikidata</th>\n",
       "      <th>Wikisource</th>\n",
       "      <th>Wiktionary</th>\n",
       "    </tr>\n",
       "  </thead>\n",
       "  <tbody>\n",
       "    <tr>\n",
       "      <th>0</th>\n",
       "      <td>2015</td>\n",
       "      <td>0</td>\n",
       "      <td>4</td>\n",
       "      <td>0</td>\n",
       "      <td>9</td>\n",
       "      <td>13</td>\n",
       "      <td>0</td>\n",
       "      <td>17</td>\n",
       "      <td>0</td>\n",
       "      <td>13</td>\n",
       "      <td>11</td>\n",
       "      <td>12</td>\n",
       "      <td>0</td>\n",
       "      <td>4</td>\n",
       "      <td>0</td>\n",
       "      <td>7</td>\n",
       "      <td>7</td>\n",
       "      <td>6</td>\n",
       "      <td>0</td>\n",
       "    </tr>\n",
       "    <tr>\n",
       "      <th>1</th>\n",
       "      <td>2016</td>\n",
       "      <td>0</td>\n",
       "      <td>13</td>\n",
       "      <td>6</td>\n",
       "      <td>0</td>\n",
       "      <td>34</td>\n",
       "      <td>0</td>\n",
       "      <td>34</td>\n",
       "      <td>10</td>\n",
       "      <td>22</td>\n",
       "      <td>44</td>\n",
       "      <td>11</td>\n",
       "      <td>7</td>\n",
       "      <td>10</td>\n",
       "      <td>0</td>\n",
       "      <td>24</td>\n",
       "      <td>26</td>\n",
       "      <td>18</td>\n",
       "      <td>4</td>\n",
       "    </tr>\n",
       "    <tr>\n",
       "      <th>2</th>\n",
       "      <td>2017</td>\n",
       "      <td>4</td>\n",
       "      <td>15</td>\n",
       "      <td>8</td>\n",
       "      <td>0</td>\n",
       "      <td>48</td>\n",
       "      <td>0</td>\n",
       "      <td>47</td>\n",
       "      <td>21</td>\n",
       "      <td>22</td>\n",
       "      <td>45</td>\n",
       "      <td>9</td>\n",
       "      <td>4</td>\n",
       "      <td>16</td>\n",
       "      <td>0</td>\n",
       "      <td>23</td>\n",
       "      <td>40</td>\n",
       "      <td>11</td>\n",
       "      <td>9</td>\n",
       "    </tr>\n",
       "    <tr>\n",
       "      <th>3</th>\n",
       "      <td>2019</td>\n",
       "      <td>5</td>\n",
       "      <td>13</td>\n",
       "      <td>15</td>\n",
       "      <td>4</td>\n",
       "      <td>46</td>\n",
       "      <td>0</td>\n",
       "      <td>49</td>\n",
       "      <td>19</td>\n",
       "      <td>15</td>\n",
       "      <td>31</td>\n",
       "      <td>22</td>\n",
       "      <td>4</td>\n",
       "      <td>12</td>\n",
       "      <td>0</td>\n",
       "      <td>14</td>\n",
       "      <td>32</td>\n",
       "      <td>14</td>\n",
       "      <td>10</td>\n",
       "    </tr>\n",
       "    <tr>\n",
       "      <th>4</th>\n",
       "      <td>2021</td>\n",
       "      <td>10</td>\n",
       "      <td>24</td>\n",
       "      <td>14</td>\n",
       "      <td>9</td>\n",
       "      <td>75</td>\n",
       "      <td>0</td>\n",
       "      <td>44</td>\n",
       "      <td>30</td>\n",
       "      <td>31</td>\n",
       "      <td>45</td>\n",
       "      <td>33</td>\n",
       "      <td>0</td>\n",
       "      <td>28</td>\n",
       "      <td>10</td>\n",
       "      <td>22</td>\n",
       "      <td>26</td>\n",
       "      <td>6</td>\n",
       "      <td>6</td>\n",
       "    </tr>\n",
       "    <tr>\n",
       "      <th>5</th>\n",
       "      <td>2022</td>\n",
       "      <td>14</td>\n",
       "      <td>23</td>\n",
       "      <td>19</td>\n",
       "      <td>9</td>\n",
       "      <td>52</td>\n",
       "      <td>57</td>\n",
       "      <td>54</td>\n",
       "      <td>24</td>\n",
       "      <td>17</td>\n",
       "      <td>36</td>\n",
       "      <td>31</td>\n",
       "      <td>0</td>\n",
       "      <td>24</td>\n",
       "      <td>17</td>\n",
       "      <td>13</td>\n",
       "      <td>29</td>\n",
       "      <td>14</td>\n",
       "      <td>9</td>\n",
       "    </tr>\n",
       "    <tr>\n",
       "      <th>6</th>\n",
       "      <td>2023</td>\n",
       "      <td>9</td>\n",
       "      <td>13</td>\n",
       "      <td>6</td>\n",
       "      <td>17</td>\n",
       "      <td>31</td>\n",
       "      <td>30</td>\n",
       "      <td>28</td>\n",
       "      <td>4</td>\n",
       "      <td>18</td>\n",
       "      <td>33</td>\n",
       "      <td>12</td>\n",
       "      <td>0</td>\n",
       "      <td>12</td>\n",
       "      <td>9</td>\n",
       "      <td>0</td>\n",
       "      <td>17</td>\n",
       "      <td>7</td>\n",
       "      <td>7</td>\n",
       "    </tr>\n",
       "  </tbody>\n",
       "</table>\n",
       "</div>"
      ],
      "text/plain": [
       "   year  Anti-harassment  Bots_and_gadgets  Citations  Communication_tools  \\\n",
       "0  2015                0                 4          0                    9   \n",
       "1  2016                0                13          6                    0   \n",
       "2  2017                4                15          8                    0   \n",
       "3  2019                5                13         15                    4   \n",
       "4  2021               10                24         14                    9   \n",
       "5  2022               14                23         19                    9   \n",
       "6  2023                9                13          6                   17   \n",
       "\n",
       "   Editing  Larger_suggestions  Miscellaneous  Mobile_and_apps  \\\n",
       "0       13                   0             17                0   \n",
       "1       34                   0             34               10   \n",
       "2       48                   0             47               21   \n",
       "3       46                   0             49               19   \n",
       "4       75                   0             44               30   \n",
       "5       52                  57             54               24   \n",
       "6       31                  30             28                4   \n",
       "\n",
       "   Moderation_tools  Multimedia_and_Commons  Navigation_tools  \\\n",
       "0                13                      11                12   \n",
       "1                22                      44                11   \n",
       "2                22                      45                 9   \n",
       "3                15                      31                22   \n",
       "4                31                      45                33   \n",
       "5                17                      36                31   \n",
       "6                18                      33                12   \n",
       "\n",
       "   Programs_and_events  Reading  Translation  Watchlists  Wikidata  \\\n",
       "0                    0        4            0           7         7   \n",
       "1                    7       10            0          24        26   \n",
       "2                    4       16            0          23        40   \n",
       "3                    4       12            0          14        32   \n",
       "4                    0       28           10          22        26   \n",
       "5                    0       24           17          13        29   \n",
       "6                    0       12            9           0        17   \n",
       "\n",
       "   Wikisource  Wiktionary  \n",
       "0           6           0  \n",
       "1          18           4  \n",
       "2          11           9  \n",
       "3          14          10  \n",
       "4           6           6  \n",
       "5          14           9  \n",
       "6           7           7  "
      ]
     },
     "execution_count": 129,
     "metadata": {},
     "output_type": "execute_result"
    }
   ],
   "source": [
    "viz_categories = pd.DataFrame(all_categories_by_year.sum(axis=0, min_count=2)).dropna().index.values\n",
    "categories_by_year = all_categories_by_year[viz_categories]\n",
    "categories_by_year = categories_by_year.fillna(0).astype(int)\n",
    "categories_by_year"
   ]
  },
  {
   "cell_type": "code",
   "execution_count": 290,
   "id": "70cc28ab-151d-4051-bcbc-ac3562731937",
   "metadata": {},
   "outputs": [],
   "source": [
    "# voting trend\n",
    "\n",
    "conn.sql(\"\"\"\n",
    "CREATE OR REPLACE VIEW accepted_proposals AS\n",
    "SELECT\n",
    "    p.year,\n",
    "    p.category,\n",
    "    p.proposal\n",
    "FROM\n",
    "    proposals p\n",
    "    LEFT JOIN rejects r\n",
    "    ON p.year = r.year AND p.proposal = r.proposal \n",
    "WHERE \n",
    "    r.proposal IS NULL\n",
    "\"\"\")"
   ]
  },
  {
   "cell_type": "code",
   "execution_count": 244,
   "id": "e95a84df-57d3-436a-86da-ab7854c28c2d",
   "metadata": {},
   "outputs": [
    {
     "data": {
      "text/plain": [
       "┌───────┬───────────────────────────────────────────┬──────────────────────────────────────────────────────────────────┐\n",
       "│ year  │                 proposal                  │                              reason                              │\n",
       "│ int32 │                  varchar                  │                             varchar                              │\n",
       "├───────┼───────────────────────────────────────────┼──────────────────────────────────────────────────────────────────┤\n",
       "│  2017 │ Removal_from_the_implicit_permissions_a…  │                                                                  │\n",
       "│  2017 │ _The_possibility_of_undeletion_images_a…  │                                                                  │\n",
       "│  2017 │ _The_possibility_of_removeing_links_to_…  │                                                                  │\n",
       "│  2017 │ Private_protection                        │                                                                  │\n",
       "│  2017 │ Deleting_\"Talk_page_of_a_nonexistent_or…  │                                                                  │\n",
       "│  2017 │ Create_global_translation_administrators  │ Proposes social/community change rather than a technical feature │\n",
       "│  2017 │ New_user_right:_Project_sysop             │ Proposes a change in policy, rather than a technical feature     │\n",
       "│  2017 │ Create_a_tool_for_merging_global_accounts │ Not technically feasible                                         │\n",
       "│  2017 │ Specialised_blocks.                       │                                                                  │\n",
       "│  2017 │ Rules_for_internal_Wikimedia_projects     │ Proposes social/community change rather than a technical feature │\n",
       "│    ·  │                   ·                       │  ·                                                               │\n",
       "│    ·  │                   ·                       │  ·                                                               │\n",
       "│    ·  │                   ·                       │  ·                                                               │\n",
       "│  2023 │ Index_organisation_for_mobile_in_french   │ NULL                                                             │\n",
       "│  2023 │ Домине                                    │ NULL                                                             │\n",
       "│  2023 │ Include_ORES_estimation_into_EventStreams │ NULL                                                             │\n",
       "│  2023 │ Permisos_de_usuario_según_años_y_edicio…  │ NULL                                                             │\n",
       "│  2023 │ Resumir_un_articulo_en_pocas_palabras     │ NULL                                                             │\n",
       "│  2023 │ Ability_to_delete_photo_of_no_specific_…  │ NULL                                                             │\n",
       "│  2023 │ ویکی‌شجرنامه                               │ NULL                                                             │\n",
       "│  2023 │ Make_a_visual_distinction_for_the_icons…  │ NULL                                                             │\n",
       "│  2023 │ حل_مشکل_اسکرول_افقی_در_صفحه_اصلی_ویکی_پ…  │ NULL                                                             │\n",
       "│  2023 │ Suche_nach_Links_auf_Unterkapitel_eines…  │ NULL                                                             │\n",
       "├───────┴───────────────────────────────────────────┴──────────────────────────────────────────────────────────────────┤\n",
       "│ 596 rows (20 shown)                                                                                        3 columns │\n",
       "└──────────────────────────────────────────────────────────────────────────────────────────────────────────────────────┘"
      ]
     },
     "execution_count": 244,
     "metadata": {},
     "output_type": "execute_result"
    }
   ],
   "source": [
    "conn.sql(\"\"\"SELECT * FROM rejects\"\"\")"
   ]
  },
  {
   "cell_type": "code",
   "execution_count": 246,
   "id": "7dbde3fc-adf2-425e-859a-5137b1d7a526",
   "metadata": {},
   "outputs": [],
   "source": [
    "roles_by_year = conn.sql(\"\"\"\n",
    "SELECT\n",
    "    ap.year,\n",
    "    role,\n",
    "    COUNT(DISTINCT username) AS users\n",
    "FROM\n",
    "    accepted_proposals ap\n",
    "    JOIN roles rl ON ap.year = rl.year AND ap.proposal = rl.proposal\n",
    "GROUP BY\n",
    "    ap.year,\n",
    "    role\n",
    "ORDER BY\n",
    "    ap.year,\n",
    "    role\n",
    "\n",
    "\"\"\").df()"
   ]
  },
  {
   "cell_type": "code",
   "execution_count": 249,
   "id": "3089d8c6-bead-4dcf-aa29-1cbcfcbea5dd",
   "metadata": {},
   "outputs": [
    {
     "data": {
      "text/html": [
       "<div>\n",
       "<style scoped>\n",
       "    .dataframe tbody tr th:only-of-type {\n",
       "        vertical-align: middle;\n",
       "    }\n",
       "\n",
       "    .dataframe tbody tr th {\n",
       "        vertical-align: top;\n",
       "    }\n",
       "\n",
       "    .dataframe thead th {\n",
       "        text-align: right;\n",
       "    }\n",
       "</style>\n",
       "<table border=\"1\" class=\"dataframe\">\n",
       "  <thead>\n",
       "    <tr style=\"text-align: right;\">\n",
       "      <th></th>\n",
       "      <th>year</th>\n",
       "      <th>role</th>\n",
       "      <th>users</th>\n",
       "    </tr>\n",
       "  </thead>\n",
       "  <tbody>\n",
       "    <tr>\n",
       "      <th>0</th>\n",
       "      <td>2015</td>\n",
       "      <td>discussant</td>\n",
       "      <td>195</td>\n",
       "    </tr>\n",
       "    <tr>\n",
       "      <th>1</th>\n",
       "      <td>2015</td>\n",
       "      <td>proposer</td>\n",
       "      <td>79</td>\n",
       "    </tr>\n",
       "    <tr>\n",
       "      <th>2</th>\n",
       "      <td>2015</td>\n",
       "      <td>voter</td>\n",
       "      <td>534</td>\n",
       "    </tr>\n",
       "    <tr>\n",
       "      <th>3</th>\n",
       "      <td>2016</td>\n",
       "      <td>discussant</td>\n",
       "      <td>370</td>\n",
       "    </tr>\n",
       "    <tr>\n",
       "      <th>4</th>\n",
       "      <td>2016</td>\n",
       "      <td>proposer</td>\n",
       "      <td>163</td>\n",
       "    </tr>\n",
       "    <tr>\n",
       "      <th>5</th>\n",
       "      <td>2016</td>\n",
       "      <td>voter</td>\n",
       "      <td>891</td>\n",
       "    </tr>\n",
       "    <tr>\n",
       "      <th>6</th>\n",
       "      <td>2017</td>\n",
       "      <td>discussant</td>\n",
       "      <td>362</td>\n",
       "    </tr>\n",
       "    <tr>\n",
       "      <th>7</th>\n",
       "      <td>2017</td>\n",
       "      <td>proposer</td>\n",
       "      <td>147</td>\n",
       "    </tr>\n",
       "    <tr>\n",
       "      <th>8</th>\n",
       "      <td>2017</td>\n",
       "      <td>voter</td>\n",
       "      <td>975</td>\n",
       "    </tr>\n",
       "    <tr>\n",
       "      <th>9</th>\n",
       "      <td>2019</td>\n",
       "      <td>discussant</td>\n",
       "      <td>480</td>\n",
       "    </tr>\n",
       "    <tr>\n",
       "      <th>10</th>\n",
       "      <td>2019</td>\n",
       "      <td>proposer</td>\n",
       "      <td>152</td>\n",
       "    </tr>\n",
       "    <tr>\n",
       "      <th>11</th>\n",
       "      <td>2019</td>\n",
       "      <td>voter</td>\n",
       "      <td>1243</td>\n",
       "    </tr>\n",
       "    <tr>\n",
       "      <th>12</th>\n",
       "      <td>2020</td>\n",
       "      <td>discussant</td>\n",
       "      <td>88</td>\n",
       "    </tr>\n",
       "    <tr>\n",
       "      <th>13</th>\n",
       "      <td>2020</td>\n",
       "      <td>proposer</td>\n",
       "      <td>50</td>\n",
       "    </tr>\n",
       "    <tr>\n",
       "      <th>14</th>\n",
       "      <td>2020</td>\n",
       "      <td>voter</td>\n",
       "      <td>369</td>\n",
       "    </tr>\n",
       "    <tr>\n",
       "      <th>15</th>\n",
       "      <td>2021</td>\n",
       "      <td>discussant</td>\n",
       "      <td>543</td>\n",
       "    </tr>\n",
       "    <tr>\n",
       "      <th>16</th>\n",
       "      <td>2021</td>\n",
       "      <td>proposer</td>\n",
       "      <td>202</td>\n",
       "    </tr>\n",
       "    <tr>\n",
       "      <th>17</th>\n",
       "      <td>2021</td>\n",
       "      <td>voter</td>\n",
       "      <td>1529</td>\n",
       "    </tr>\n",
       "    <tr>\n",
       "      <th>18</th>\n",
       "      <td>2022</td>\n",
       "      <td>discussant</td>\n",
       "      <td>503</td>\n",
       "    </tr>\n",
       "    <tr>\n",
       "      <th>19</th>\n",
       "      <td>2022</td>\n",
       "      <td>proposer</td>\n",
       "      <td>207</td>\n",
       "    </tr>\n",
       "    <tr>\n",
       "      <th>20</th>\n",
       "      <td>2022</td>\n",
       "      <td>voter</td>\n",
       "      <td>1331</td>\n",
       "    </tr>\n",
       "    <tr>\n",
       "      <th>21</th>\n",
       "      <td>2023</td>\n",
       "      <td>discussant</td>\n",
       "      <td>358</td>\n",
       "    </tr>\n",
       "    <tr>\n",
       "      <th>22</th>\n",
       "      <td>2023</td>\n",
       "      <td>proposer</td>\n",
       "      <td>113</td>\n",
       "    </tr>\n",
       "    <tr>\n",
       "      <th>23</th>\n",
       "      <td>2023</td>\n",
       "      <td>voter</td>\n",
       "      <td>1261</td>\n",
       "    </tr>\n",
       "  </tbody>\n",
       "</table>\n",
       "</div>"
      ],
      "text/plain": [
       "    year        role  users\n",
       "0   2015  discussant    195\n",
       "1   2015    proposer     79\n",
       "2   2015       voter    534\n",
       "3   2016  discussant    370\n",
       "4   2016    proposer    163\n",
       "5   2016       voter    891\n",
       "6   2017  discussant    362\n",
       "7   2017    proposer    147\n",
       "8   2017       voter    975\n",
       "9   2019  discussant    480\n",
       "10  2019    proposer    152\n",
       "11  2019       voter   1243\n",
       "12  2020  discussant     88\n",
       "13  2020    proposer     50\n",
       "14  2020       voter    369\n",
       "15  2021  discussant    543\n",
       "16  2021    proposer    202\n",
       "17  2021       voter   1529\n",
       "18  2022  discussant    503\n",
       "19  2022    proposer    207\n",
       "20  2022       voter   1331\n",
       "21  2023  discussant    358\n",
       "22  2023    proposer    113\n",
       "23  2023       voter   1261"
      ]
     },
     "execution_count": 249,
     "metadata": {},
     "output_type": "execute_result"
    }
   ],
   "source": [
    "roles_by_year"
   ]
  },
  {
   "cell_type": "code",
   "execution_count": 247,
   "id": "e983519f-f565-457c-b9e7-0197c5448f33",
   "metadata": {},
   "outputs": [
    {
     "data": {
      "application/vnd.plotly.v1+json": {
       "config": {
        "plotlyServerURL": "https://plot.ly"
       },
       "data": [
        {
         "alignmentgroup": "True",
         "hovertemplate": "role=discussant<br>year=%{x}<br>users=%{y}<extra></extra>",
         "legendgroup": "discussant",
         "marker": {
          "color": "#636efa",
          "pattern": {
           "shape": ""
          }
         },
         "name": "discussant",
         "offsetgroup": "discussant",
         "orientation": "v",
         "showlegend": true,
         "textposition": "auto",
         "type": "bar",
         "x": [
          2015,
          2016,
          2017,
          2019,
          2020,
          2021,
          2022,
          2023
         ],
         "xaxis": "x",
         "y": [
          195,
          370,
          362,
          480,
          88,
          543,
          503,
          358
         ],
         "yaxis": "y"
        },
        {
         "alignmentgroup": "True",
         "hovertemplate": "role=proposer<br>year=%{x}<br>users=%{y}<extra></extra>",
         "legendgroup": "proposer",
         "marker": {
          "color": "#EF553B",
          "pattern": {
           "shape": ""
          }
         },
         "name": "proposer",
         "offsetgroup": "proposer",
         "orientation": "v",
         "showlegend": true,
         "textposition": "auto",
         "type": "bar",
         "x": [
          2015,
          2016,
          2017,
          2019,
          2020,
          2021,
          2022,
          2023
         ],
         "xaxis": "x",
         "y": [
          79,
          163,
          147,
          152,
          50,
          202,
          207,
          113
         ],
         "yaxis": "y"
        },
        {
         "alignmentgroup": "True",
         "hovertemplate": "role=voter<br>year=%{x}<br>users=%{y}<extra></extra>",
         "legendgroup": "voter",
         "marker": {
          "color": "#00cc96",
          "pattern": {
           "shape": ""
          }
         },
         "name": "voter",
         "offsetgroup": "voter",
         "orientation": "v",
         "showlegend": true,
         "textposition": "auto",
         "type": "bar",
         "x": [
          2015,
          2016,
          2017,
          2019,
          2020,
          2021,
          2022,
          2023
         ],
         "xaxis": "x",
         "y": [
          534,
          891,
          975,
          1243,
          369,
          1529,
          1331,
          1261
         ],
         "yaxis": "y"
        }
       ],
       "layout": {
        "autosize": true,
        "barmode": "relative",
        "legend": {
         "title": {
          "text": "role"
         },
         "tracegroupgap": 0
        },
        "margin": {
         "t": 60
        },
        "template": {
         "data": {
          "bar": [
           {
            "error_x": {
             "color": "#2a3f5f"
            },
            "error_y": {
             "color": "#2a3f5f"
            },
            "marker": {
             "line": {
              "color": "#E5ECF6",
              "width": 0.5
             },
             "pattern": {
              "fillmode": "overlay",
              "size": 10,
              "solidity": 0.2
             }
            },
            "type": "bar"
           }
          ],
          "barpolar": [
           {
            "marker": {
             "line": {
              "color": "#E5ECF6",
              "width": 0.5
             },
             "pattern": {
              "fillmode": "overlay",
              "size": 10,
              "solidity": 0.2
             }
            },
            "type": "barpolar"
           }
          ],
          "carpet": [
           {
            "aaxis": {
             "endlinecolor": "#2a3f5f",
             "gridcolor": "white",
             "linecolor": "white",
             "minorgridcolor": "white",
             "startlinecolor": "#2a3f5f"
            },
            "baxis": {
             "endlinecolor": "#2a3f5f",
             "gridcolor": "white",
             "linecolor": "white",
             "minorgridcolor": "white",
             "startlinecolor": "#2a3f5f"
            },
            "type": "carpet"
           }
          ],
          "choropleth": [
           {
            "colorbar": {
             "outlinewidth": 0,
             "ticks": ""
            },
            "type": "choropleth"
           }
          ],
          "contour": [
           {
            "colorbar": {
             "outlinewidth": 0,
             "ticks": ""
            },
            "colorscale": [
             [
              0,
              "#0d0887"
             ],
             [
              0.1111111111111111,
              "#46039f"
             ],
             [
              0.2222222222222222,
              "#7201a8"
             ],
             [
              0.3333333333333333,
              "#9c179e"
             ],
             [
              0.4444444444444444,
              "#bd3786"
             ],
             [
              0.5555555555555556,
              "#d8576b"
             ],
             [
              0.6666666666666666,
              "#ed7953"
             ],
             [
              0.7777777777777778,
              "#fb9f3a"
             ],
             [
              0.8888888888888888,
              "#fdca26"
             ],
             [
              1,
              "#f0f921"
             ]
            ],
            "type": "contour"
           }
          ],
          "contourcarpet": [
           {
            "colorbar": {
             "outlinewidth": 0,
             "ticks": ""
            },
            "type": "contourcarpet"
           }
          ],
          "heatmap": [
           {
            "colorbar": {
             "outlinewidth": 0,
             "ticks": ""
            },
            "colorscale": [
             [
              0,
              "#0d0887"
             ],
             [
              0.1111111111111111,
              "#46039f"
             ],
             [
              0.2222222222222222,
              "#7201a8"
             ],
             [
              0.3333333333333333,
              "#9c179e"
             ],
             [
              0.4444444444444444,
              "#bd3786"
             ],
             [
              0.5555555555555556,
              "#d8576b"
             ],
             [
              0.6666666666666666,
              "#ed7953"
             ],
             [
              0.7777777777777778,
              "#fb9f3a"
             ],
             [
              0.8888888888888888,
              "#fdca26"
             ],
             [
              1,
              "#f0f921"
             ]
            ],
            "type": "heatmap"
           }
          ],
          "heatmapgl": [
           {
            "colorbar": {
             "outlinewidth": 0,
             "ticks": ""
            },
            "colorscale": [
             [
              0,
              "#0d0887"
             ],
             [
              0.1111111111111111,
              "#46039f"
             ],
             [
              0.2222222222222222,
              "#7201a8"
             ],
             [
              0.3333333333333333,
              "#9c179e"
             ],
             [
              0.4444444444444444,
              "#bd3786"
             ],
             [
              0.5555555555555556,
              "#d8576b"
             ],
             [
              0.6666666666666666,
              "#ed7953"
             ],
             [
              0.7777777777777778,
              "#fb9f3a"
             ],
             [
              0.8888888888888888,
              "#fdca26"
             ],
             [
              1,
              "#f0f921"
             ]
            ],
            "type": "heatmapgl"
           }
          ],
          "histogram": [
           {
            "marker": {
             "pattern": {
              "fillmode": "overlay",
              "size": 10,
              "solidity": 0.2
             }
            },
            "type": "histogram"
           }
          ],
          "histogram2d": [
           {
            "colorbar": {
             "outlinewidth": 0,
             "ticks": ""
            },
            "colorscale": [
             [
              0,
              "#0d0887"
             ],
             [
              0.1111111111111111,
              "#46039f"
             ],
             [
              0.2222222222222222,
              "#7201a8"
             ],
             [
              0.3333333333333333,
              "#9c179e"
             ],
             [
              0.4444444444444444,
              "#bd3786"
             ],
             [
              0.5555555555555556,
              "#d8576b"
             ],
             [
              0.6666666666666666,
              "#ed7953"
             ],
             [
              0.7777777777777778,
              "#fb9f3a"
             ],
             [
              0.8888888888888888,
              "#fdca26"
             ],
             [
              1,
              "#f0f921"
             ]
            ],
            "type": "histogram2d"
           }
          ],
          "histogram2dcontour": [
           {
            "colorbar": {
             "outlinewidth": 0,
             "ticks": ""
            },
            "colorscale": [
             [
              0,
              "#0d0887"
             ],
             [
              0.1111111111111111,
              "#46039f"
             ],
             [
              0.2222222222222222,
              "#7201a8"
             ],
             [
              0.3333333333333333,
              "#9c179e"
             ],
             [
              0.4444444444444444,
              "#bd3786"
             ],
             [
              0.5555555555555556,
              "#d8576b"
             ],
             [
              0.6666666666666666,
              "#ed7953"
             ],
             [
              0.7777777777777778,
              "#fb9f3a"
             ],
             [
              0.8888888888888888,
              "#fdca26"
             ],
             [
              1,
              "#f0f921"
             ]
            ],
            "type": "histogram2dcontour"
           }
          ],
          "mesh3d": [
           {
            "colorbar": {
             "outlinewidth": 0,
             "ticks": ""
            },
            "type": "mesh3d"
           }
          ],
          "parcoords": [
           {
            "line": {
             "colorbar": {
              "outlinewidth": 0,
              "ticks": ""
             }
            },
            "type": "parcoords"
           }
          ],
          "pie": [
           {
            "automargin": true,
            "type": "pie"
           }
          ],
          "scatter": [
           {
            "fillpattern": {
             "fillmode": "overlay",
             "size": 10,
             "solidity": 0.2
            },
            "type": "scatter"
           }
          ],
          "scatter3d": [
           {
            "line": {
             "colorbar": {
              "outlinewidth": 0,
              "ticks": ""
             }
            },
            "marker": {
             "colorbar": {
              "outlinewidth": 0,
              "ticks": ""
             }
            },
            "type": "scatter3d"
           }
          ],
          "scattercarpet": [
           {
            "marker": {
             "colorbar": {
              "outlinewidth": 0,
              "ticks": ""
             }
            },
            "type": "scattercarpet"
           }
          ],
          "scattergeo": [
           {
            "marker": {
             "colorbar": {
              "outlinewidth": 0,
              "ticks": ""
             }
            },
            "type": "scattergeo"
           }
          ],
          "scattergl": [
           {
            "marker": {
             "colorbar": {
              "outlinewidth": 0,
              "ticks": ""
             }
            },
            "type": "scattergl"
           }
          ],
          "scattermapbox": [
           {
            "marker": {
             "colorbar": {
              "outlinewidth": 0,
              "ticks": ""
             }
            },
            "type": "scattermapbox"
           }
          ],
          "scatterpolar": [
           {
            "marker": {
             "colorbar": {
              "outlinewidth": 0,
              "ticks": ""
             }
            },
            "type": "scatterpolar"
           }
          ],
          "scatterpolargl": [
           {
            "marker": {
             "colorbar": {
              "outlinewidth": 0,
              "ticks": ""
             }
            },
            "type": "scatterpolargl"
           }
          ],
          "scatterternary": [
           {
            "marker": {
             "colorbar": {
              "outlinewidth": 0,
              "ticks": ""
             }
            },
            "type": "scatterternary"
           }
          ],
          "surface": [
           {
            "colorbar": {
             "outlinewidth": 0,
             "ticks": ""
            },
            "colorscale": [
             [
              0,
              "#0d0887"
             ],
             [
              0.1111111111111111,
              "#46039f"
             ],
             [
              0.2222222222222222,
              "#7201a8"
             ],
             [
              0.3333333333333333,
              "#9c179e"
             ],
             [
              0.4444444444444444,
              "#bd3786"
             ],
             [
              0.5555555555555556,
              "#d8576b"
             ],
             [
              0.6666666666666666,
              "#ed7953"
             ],
             [
              0.7777777777777778,
              "#fb9f3a"
             ],
             [
              0.8888888888888888,
              "#fdca26"
             ],
             [
              1,
              "#f0f921"
             ]
            ],
            "type": "surface"
           }
          ],
          "table": [
           {
            "cells": {
             "fill": {
              "color": "#EBF0F8"
             },
             "line": {
              "color": "white"
             }
            },
            "header": {
             "fill": {
              "color": "#C8D4E3"
             },
             "line": {
              "color": "white"
             }
            },
            "type": "table"
           }
          ]
         },
         "layout": {
          "annotationdefaults": {
           "arrowcolor": "#2a3f5f",
           "arrowhead": 0,
           "arrowwidth": 1
          },
          "autotypenumbers": "strict",
          "coloraxis": {
           "colorbar": {
            "outlinewidth": 0,
            "ticks": ""
           }
          },
          "colorscale": {
           "diverging": [
            [
             0,
             "#8e0152"
            ],
            [
             0.1,
             "#c51b7d"
            ],
            [
             0.2,
             "#de77ae"
            ],
            [
             0.3,
             "#f1b6da"
            ],
            [
             0.4,
             "#fde0ef"
            ],
            [
             0.5,
             "#f7f7f7"
            ],
            [
             0.6,
             "#e6f5d0"
            ],
            [
             0.7,
             "#b8e186"
            ],
            [
             0.8,
             "#7fbc41"
            ],
            [
             0.9,
             "#4d9221"
            ],
            [
             1,
             "#276419"
            ]
           ],
           "sequential": [
            [
             0,
             "#0d0887"
            ],
            [
             0.1111111111111111,
             "#46039f"
            ],
            [
             0.2222222222222222,
             "#7201a8"
            ],
            [
             0.3333333333333333,
             "#9c179e"
            ],
            [
             0.4444444444444444,
             "#bd3786"
            ],
            [
             0.5555555555555556,
             "#d8576b"
            ],
            [
             0.6666666666666666,
             "#ed7953"
            ],
            [
             0.7777777777777778,
             "#fb9f3a"
            ],
            [
             0.8888888888888888,
             "#fdca26"
            ],
            [
             1,
             "#f0f921"
            ]
           ],
           "sequentialminus": [
            [
             0,
             "#0d0887"
            ],
            [
             0.1111111111111111,
             "#46039f"
            ],
            [
             0.2222222222222222,
             "#7201a8"
            ],
            [
             0.3333333333333333,
             "#9c179e"
            ],
            [
             0.4444444444444444,
             "#bd3786"
            ],
            [
             0.5555555555555556,
             "#d8576b"
            ],
            [
             0.6666666666666666,
             "#ed7953"
            ],
            [
             0.7777777777777778,
             "#fb9f3a"
            ],
            [
             0.8888888888888888,
             "#fdca26"
            ],
            [
             1,
             "#f0f921"
            ]
           ]
          },
          "colorway": [
           "#636efa",
           "#EF553B",
           "#00cc96",
           "#ab63fa",
           "#FFA15A",
           "#19d3f3",
           "#FF6692",
           "#B6E880",
           "#FF97FF",
           "#FECB52"
          ],
          "font": {
           "color": "#2a3f5f"
          },
          "geo": {
           "bgcolor": "white",
           "lakecolor": "white",
           "landcolor": "#E5ECF6",
           "showlakes": true,
           "showland": true,
           "subunitcolor": "white"
          },
          "hoverlabel": {
           "align": "left"
          },
          "hovermode": "closest",
          "mapbox": {
           "style": "light"
          },
          "paper_bgcolor": "white",
          "plot_bgcolor": "#E5ECF6",
          "polar": {
           "angularaxis": {
            "gridcolor": "white",
            "linecolor": "white",
            "ticks": ""
           },
           "bgcolor": "#E5ECF6",
           "radialaxis": {
            "gridcolor": "white",
            "linecolor": "white",
            "ticks": ""
           }
          },
          "scene": {
           "xaxis": {
            "backgroundcolor": "#E5ECF6",
            "gridcolor": "white",
            "gridwidth": 2,
            "linecolor": "white",
            "showbackground": true,
            "ticks": "",
            "zerolinecolor": "white"
           },
           "yaxis": {
            "backgroundcolor": "#E5ECF6",
            "gridcolor": "white",
            "gridwidth": 2,
            "linecolor": "white",
            "showbackground": true,
            "ticks": "",
            "zerolinecolor": "white"
           },
           "zaxis": {
            "backgroundcolor": "#E5ECF6",
            "gridcolor": "white",
            "gridwidth": 2,
            "linecolor": "white",
            "showbackground": true,
            "ticks": "",
            "zerolinecolor": "white"
           }
          },
          "shapedefaults": {
           "line": {
            "color": "#2a3f5f"
           }
          },
          "ternary": {
           "aaxis": {
            "gridcolor": "white",
            "linecolor": "white",
            "ticks": ""
           },
           "baxis": {
            "gridcolor": "white",
            "linecolor": "white",
            "ticks": ""
           },
           "bgcolor": "#E5ECF6",
           "caxis": {
            "gridcolor": "white",
            "linecolor": "white",
            "ticks": ""
           }
          },
          "title": {
           "x": 0.05
          },
          "xaxis": {
           "automargin": true,
           "gridcolor": "white",
           "linecolor": "white",
           "ticks": "",
           "title": {
            "standoff": 15
           },
           "zerolinecolor": "white",
           "zerolinewidth": 2
          },
          "yaxis": {
           "automargin": true,
           "gridcolor": "white",
           "linecolor": "white",
           "ticks": "",
           "title": {
            "standoff": 15
           },
           "zerolinecolor": "white",
           "zerolinewidth": 2
          }
         }
        },
        "xaxis": {
         "anchor": "y",
         "autorange": true,
         "domain": [
          0,
          1
         ],
         "range": [
          2014.5,
          2023.5
         ],
         "title": {
          "text": "year"
         },
         "type": "linear"
        },
        "yaxis": {
         "anchor": "x",
         "autorange": true,
         "domain": [
          0,
          1
         ],
         "range": [
          0,
          2393.684210526316
         ],
         "title": {
          "text": "users"
         },
         "type": "linear"
        }
       }
      },
      "image/png": "[encoded data removed]",
      "text/html": [
       "<div>                            <div id=\"3317a53e-7c96-4503-b9ce-6c651fb7c977\" class=\"plotly-graph-div\" style=\"height:525px; width:100%;\"></div>            <script type=\"text/javascript\">                require([\"plotly\"], function(Plotly) {                    window.PLOTLYENV=window.PLOTLYENV || {};                                    if (document.getElementById(\"3317a53e-7c96-4503-b9ce-6c651fb7c977\")) {                    Plotly.newPlot(                        \"3317a53e-7c96-4503-b9ce-6c651fb7c977\",                        [{\"alignmentgroup\":\"True\",\"hovertemplate\":\"role=discussant<br>year=%{x}<br>users=%{y}<extra></extra>\",\"legendgroup\":\"discussant\",\"marker\":{\"color\":\"#636efa\",\"pattern\":{\"shape\":\"\"}},\"name\":\"discussant\",\"offsetgroup\":\"discussant\",\"orientation\":\"v\",\"showlegend\":true,\"textposition\":\"auto\",\"x\":[2015,2016,2017,2019,2020,2021,2022,2023],\"xaxis\":\"x\",\"y\":[195,370,362,480,88,543,503,358],\"yaxis\":\"y\",\"type\":\"bar\"},{\"alignmentgroup\":\"True\",\"hovertemplate\":\"role=proposer<br>year=%{x}<br>users=%{y}<extra></extra>\",\"legendgroup\":\"proposer\",\"marker\":{\"color\":\"#EF553B\",\"pattern\":{\"shape\":\"\"}},\"name\":\"proposer\",\"offsetgroup\":\"proposer\",\"orientation\":\"v\",\"showlegend\":true,\"textposition\":\"auto\",\"x\":[2015,2016,2017,2019,2020,2021,2022,2023],\"xaxis\":\"x\",\"y\":[79,163,147,152,50,202,207,113],\"yaxis\":\"y\",\"type\":\"bar\"},{\"alignmentgroup\":\"True\",\"hovertemplate\":\"role=voter<br>year=%{x}<br>users=%{y}<extra></extra>\",\"legendgroup\":\"voter\",\"marker\":{\"color\":\"#00cc96\",\"pattern\":{\"shape\":\"\"}},\"name\":\"voter\",\"offsetgroup\":\"voter\",\"orientation\":\"v\",\"showlegend\":true,\"textposition\":\"auto\",\"x\":[2015,2016,2017,2019,2020,2021,2022,2023],\"xaxis\":\"x\",\"y\":[534,891,975,1243,369,1529,1331,1261],\"yaxis\":\"y\",\"type\":\"bar\"}],                        {\"template\":{\"data\":{\"histogram2dcontour\":[{\"type\":\"histogram2dcontour\",\"colorbar\":{\"outlinewidth\":0,\"ticks\":\"\"},\"colorscale\":[[0.0,\"#0d0887\"],[0.1111111111111111,\"#46039f\"],[0.2222222222222222,\"#7201a8\"],[0.3333333333333333,\"#9c179e\"],[0.4444444444444444,\"#bd3786\"],[0.5555555555555556,\"#d8576b\"],[0.6666666666666666,\"#ed7953\"],[0.7777777777777778,\"#fb9f3a\"],[0.8888888888888888,\"#fdca26\"],[1.0,\"#f0f921\"]]}],\"choropleth\":[{\"type\":\"choropleth\",\"colorbar\":{\"outlinewidth\":0,\"ticks\":\"\"}}],\"histogram2d\":[{\"type\":\"histogram2d\",\"colorbar\":{\"outlinewidth\":0,\"ticks\":\"\"},\"colorscale\":[[0.0,\"#0d0887\"],[0.1111111111111111,\"#46039f\"],[0.2222222222222222,\"#7201a8\"],[0.3333333333333333,\"#9c179e\"],[0.4444444444444444,\"#bd3786\"],[0.5555555555555556,\"#d8576b\"],[0.6666666666666666,\"#ed7953\"],[0.7777777777777778,\"#fb9f3a\"],[0.8888888888888888,\"#fdca26\"],[1.0,\"#f0f921\"]]}],\"heatmap\":[{\"type\":\"heatmap\",\"colorbar\":{\"outlinewidth\":0,\"ticks\":\"\"},\"colorscale\":[[0.0,\"#0d0887\"],[0.1111111111111111,\"#46039f\"],[0.2222222222222222,\"#7201a8\"],[0.3333333333333333,\"#9c179e\"],[0.4444444444444444,\"#bd3786\"],[0.5555555555555556,\"#d8576b\"],[0.6666666666666666,\"#ed7953\"],[0.7777777777777778,\"#fb9f3a\"],[0.8888888888888888,\"#fdca26\"],[1.0,\"#f0f921\"]]}],\"heatmapgl\":[{\"type\":\"heatmapgl\",\"colorbar\":{\"outlinewidth\":0,\"ticks\":\"\"},\"colorscale\":[[0.0,\"#0d0887\"],[0.1111111111111111,\"#46039f\"],[0.2222222222222222,\"#7201a8\"],[0.3333333333333333,\"#9c179e\"],[0.4444444444444444,\"#bd3786\"],[0.5555555555555556,\"#d8576b\"],[0.6666666666666666,\"#ed7953\"],[0.7777777777777778,\"#fb9f3a\"],[0.8888888888888888,\"#fdca26\"],[1.0,\"#f0f921\"]]}],\"contourcarpet\":[{\"type\":\"contourcarpet\",\"colorbar\":{\"outlinewidth\":0,\"ticks\":\"\"}}],\"contour\":[{\"type\":\"contour\",\"colorbar\":{\"outlinewidth\":0,\"ticks\":\"\"},\"colorscale\":[[0.0,\"#0d0887\"],[0.1111111111111111,\"#46039f\"],[0.2222222222222222,\"#7201a8\"],[0.3333333333333333,\"#9c179e\"],[0.4444444444444444,\"#bd3786\"],[0.5555555555555556,\"#d8576b\"],[0.6666666666666666,\"#ed7953\"],[0.7777777777777778,\"#fb9f3a\"],[0.8888888888888888,\"#fdca26\"],[1.0,\"#f0f921\"]]}],\"surface\":[{\"type\":\"surface\",\"colorbar\":{\"outlinewidth\":0,\"ticks\":\"\"},\"colorscale\":[[0.0,\"#0d0887\"],[0.1111111111111111,\"#46039f\"],[0.2222222222222222,\"#7201a8\"],[0.3333333333333333,\"#9c179e\"],[0.4444444444444444,\"#bd3786\"],[0.5555555555555556,\"#d8576b\"],[0.6666666666666666,\"#ed7953\"],[0.7777777777777778,\"#fb9f3a\"],[0.8888888888888888,\"#fdca26\"],[1.0,\"#f0f921\"]]}],\"mesh3d\":[{\"type\":\"mesh3d\",\"colorbar\":{\"outlinewidth\":0,\"ticks\":\"\"}}],\"scatter\":[{\"fillpattern\":{\"fillmode\":\"overlay\",\"size\":10,\"solidity\":0.2},\"type\":\"scatter\"}],\"parcoords\":[{\"type\":\"parcoords\",\"line\":{\"colorbar\":{\"outlinewidth\":0,\"ticks\":\"\"}}}],\"scatterpolargl\":[{\"type\":\"scatterpolargl\",\"marker\":{\"colorbar\":{\"outlinewidth\":0,\"ticks\":\"\"}}}],\"bar\":[{\"error_x\":{\"color\":\"#2a3f5f\"},\"error_y\":{\"color\":\"#2a3f5f\"},\"marker\":{\"line\":{\"color\":\"#E5ECF6\",\"width\":0.5},\"pattern\":{\"fillmode\":\"overlay\",\"size\":10,\"solidity\":0.2}},\"type\":\"bar\"}],\"scattergeo\":[{\"type\":\"scattergeo\",\"marker\":{\"colorbar\":{\"outlinewidth\":0,\"ticks\":\"\"}}}],\"scatterpolar\":[{\"type\":\"scatterpolar\",\"marker\":{\"colorbar\":{\"outlinewidth\":0,\"ticks\":\"\"}}}],\"histogram\":[{\"marker\":{\"pattern\":{\"fillmode\":\"overlay\",\"size\":10,\"solidity\":0.2}},\"type\":\"histogram\"}],\"scattergl\":[{\"type\":\"scattergl\",\"marker\":{\"colorbar\":{\"outlinewidth\":0,\"ticks\":\"\"}}}],\"scatter3d\":[{\"type\":\"scatter3d\",\"line\":{\"colorbar\":{\"outlinewidth\":0,\"ticks\":\"\"}},\"marker\":{\"colorbar\":{\"outlinewidth\":0,\"ticks\":\"\"}}}],\"scattermapbox\":[{\"type\":\"scattermapbox\",\"marker\":{\"colorbar\":{\"outlinewidth\":0,\"ticks\":\"\"}}}],\"scatterternary\":[{\"type\":\"scatterternary\",\"marker\":{\"colorbar\":{\"outlinewidth\":0,\"ticks\":\"\"}}}],\"scattercarpet\":[{\"type\":\"scattercarpet\",\"marker\":{\"colorbar\":{\"outlinewidth\":0,\"ticks\":\"\"}}}],\"carpet\":[{\"aaxis\":{\"endlinecolor\":\"#2a3f5f\",\"gridcolor\":\"white\",\"linecolor\":\"white\",\"minorgridcolor\":\"white\",\"startlinecolor\":\"#2a3f5f\"},\"baxis\":{\"endlinecolor\":\"#2a3f5f\",\"gridcolor\":\"white\",\"linecolor\":\"white\",\"minorgridcolor\":\"white\",\"startlinecolor\":\"#2a3f5f\"},\"type\":\"carpet\"}],\"table\":[{\"cells\":{\"fill\":{\"color\":\"#EBF0F8\"},\"line\":{\"color\":\"white\"}},\"header\":{\"fill\":{\"color\":\"#C8D4E3\"},\"line\":{\"color\":\"white\"}},\"type\":\"table\"}],\"barpolar\":[{\"marker\":{\"line\":{\"color\":\"#E5ECF6\",\"width\":0.5},\"pattern\":{\"fillmode\":\"overlay\",\"size\":10,\"solidity\":0.2}},\"type\":\"barpolar\"}],\"pie\":[{\"automargin\":true,\"type\":\"pie\"}]},\"layout\":{\"autotypenumbers\":\"strict\",\"colorway\":[\"#636efa\",\"#EF553B\",\"#00cc96\",\"#ab63fa\",\"#FFA15A\",\"#19d3f3\",\"#FF6692\",\"#B6E880\",\"#FF97FF\",\"#FECB52\"],\"font\":{\"color\":\"#2a3f5f\"},\"hovermode\":\"closest\",\"hoverlabel\":{\"align\":\"left\"},\"paper_bgcolor\":\"white\",\"plot_bgcolor\":\"#E5ECF6\",\"polar\":{\"bgcolor\":\"#E5ECF6\",\"angularaxis\":{\"gridcolor\":\"white\",\"linecolor\":\"white\",\"ticks\":\"\"},\"radialaxis\":{\"gridcolor\":\"white\",\"linecolor\":\"white\",\"ticks\":\"\"}},\"ternary\":{\"bgcolor\":\"#E5ECF6\",\"aaxis\":{\"gridcolor\":\"white\",\"linecolor\":\"white\",\"ticks\":\"\"},\"baxis\":{\"gridcolor\":\"white\",\"linecolor\":\"white\",\"ticks\":\"\"},\"caxis\":{\"gridcolor\":\"white\",\"linecolor\":\"white\",\"ticks\":\"\"}},\"coloraxis\":{\"colorbar\":{\"outlinewidth\":0,\"ticks\":\"\"}},\"colorscale\":{\"sequential\":[[0.0,\"#0d0887\"],[0.1111111111111111,\"#46039f\"],[0.2222222222222222,\"#7201a8\"],[0.3333333333333333,\"#9c179e\"],[0.4444444444444444,\"#bd3786\"],[0.5555555555555556,\"#d8576b\"],[0.6666666666666666,\"#ed7953\"],[0.7777777777777778,\"#fb9f3a\"],[0.8888888888888888,\"#fdca26\"],[1.0,\"#f0f921\"]],\"sequentialminus\":[[0.0,\"#0d0887\"],[0.1111111111111111,\"#46039f\"],[0.2222222222222222,\"#7201a8\"],[0.3333333333333333,\"#9c179e\"],[0.4444444444444444,\"#bd3786\"],[0.5555555555555556,\"#d8576b\"],[0.6666666666666666,\"#ed7953\"],[0.7777777777777778,\"#fb9f3a\"],[0.8888888888888888,\"#fdca26\"],[1.0,\"#f0f921\"]],\"diverging\":[[0,\"#8e0152\"],[0.1,\"#c51b7d\"],[0.2,\"#de77ae\"],[0.3,\"#f1b6da\"],[0.4,\"#fde0ef\"],[0.5,\"#f7f7f7\"],[0.6,\"#e6f5d0\"],[0.7,\"#b8e186\"],[0.8,\"#7fbc41\"],[0.9,\"#4d9221\"],[1,\"#276419\"]]},\"xaxis\":{\"gridcolor\":\"white\",\"linecolor\":\"white\",\"ticks\":\"\",\"title\":{\"standoff\":15},\"zerolinecolor\":\"white\",\"automargin\":true,\"zerolinewidth\":2},\"yaxis\":{\"gridcolor\":\"white\",\"linecolor\":\"white\",\"ticks\":\"\",\"title\":{\"standoff\":15},\"zerolinecolor\":\"white\",\"automargin\":true,\"zerolinewidth\":2},\"scene\":{\"xaxis\":{\"backgroundcolor\":\"#E5ECF6\",\"gridcolor\":\"white\",\"linecolor\":\"white\",\"showbackground\":true,\"ticks\":\"\",\"zerolinecolor\":\"white\",\"gridwidth\":2},\"yaxis\":{\"backgroundcolor\":\"#E5ECF6\",\"gridcolor\":\"white\",\"linecolor\":\"white\",\"showbackground\":true,\"ticks\":\"\",\"zerolinecolor\":\"white\",\"gridwidth\":2},\"zaxis\":{\"backgroundcolor\":\"#E5ECF6\",\"gridcolor\":\"white\",\"linecolor\":\"white\",\"showbackground\":true,\"ticks\":\"\",\"zerolinecolor\":\"white\",\"gridwidth\":2}},\"shapedefaults\":{\"line\":{\"color\":\"#2a3f5f\"}},\"annotationdefaults\":{\"arrowcolor\":\"#2a3f5f\",\"arrowhead\":0,\"arrowwidth\":1},\"geo\":{\"bgcolor\":\"white\",\"landcolor\":\"#E5ECF6\",\"subunitcolor\":\"white\",\"showland\":true,\"showlakes\":true,\"lakecolor\":\"white\"},\"title\":{\"x\":0.05},\"mapbox\":{\"style\":\"light\"}}},\"xaxis\":{\"anchor\":\"y\",\"domain\":[0.0,1.0],\"title\":{\"text\":\"year\"}},\"yaxis\":{\"anchor\":\"x\",\"domain\":[0.0,1.0],\"title\":{\"text\":\"users\"}},\"legend\":{\"title\":{\"text\":\"role\"},\"tracegroupgap\":0},\"margin\":{\"t\":60},\"barmode\":\"relative\"},                        {\"responsive\": true}                    ).then(function(){\n",
       "                            \n",
       "var gd = document.getElementById('3317a53e-7c96-4503-b9ce-6c651fb7c977');\n",
       "var x = new MutationObserver(function (mutations, observer) {{\n",
       "        var display = window.getComputedStyle(gd).display;\n",
       "        if (!display || display === 'none') {{\n",
       "            console.log([gd, 'removed!']);\n",
       "            Plotly.purge(gd);\n",
       "            observer.disconnect();\n",
       "        }}\n",
       "}});\n",
       "\n",
       "// Listen for the removal of the full notebook cells\n",
       "var notebookContainer = gd.closest('#notebook-container');\n",
       "if (notebookContainer) {{\n",
       "    x.observe(notebookContainer, {childList: true});\n",
       "}}\n",
       "\n",
       "// Listen for the clearing of the current output cell\n",
       "var outputEl = gd.closest('.output');\n",
       "if (outputEl) {{\n",
       "    x.observe(outputEl, {childList: true});\n",
       "}}\n",
       "\n",
       "                        })                };                });            </script>        </div>"
      ]
     },
     "metadata": {},
     "output_type": "display_data"
    }
   ],
   "source": [
    "fig = px.bar(roles_by_year, x='year', y='users', color='role')\n",
    "fig.show()"
   ]
  },
  {
   "cell_type": "markdown",
   "id": "70fa0212-aed0-42f4-be1c-fcccbe3bc114",
   "metadata": {},
   "source": [
    "## patterns\n",
    "- repetition of proposers and voters\n",
    "- cross proposal engagement by year"
   ]
  },
  {
   "cell_type": "code",
   "execution_count": null,
   "id": "13ce6332-994b-460a-9e41-151c2f2ab1be",
   "metadata": {},
   "outputs": [],
   "source": []
  }
 ],
 "metadata": {
  "kernelspec": {
   "display_name": "Python 3 (ipykernel)",
   "language": "python",
   "name": "python3"
  },
  "language_info": {
   "codemirror_mode": {
    "name": "ipython",
    "version": 3
   },
   "file_extension": ".py",
   "mimetype": "text/x-python",
   "name": "python",
   "nbconvert_exporter": "python",
   "pygments_lexer": "ipython3",
   "version": "3.10.8"
  }
 },
 "nbformat": 4,
 "nbformat_minor": 5
}
