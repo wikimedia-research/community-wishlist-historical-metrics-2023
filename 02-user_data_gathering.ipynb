{
 "cells": [
  {
   "cell_type": "code",
   "execution_count": 1,
   "id": "2207e61f-16e0-4f46-8505-d132e9d1519f",
   "metadata": {},
   "outputs": [
    {
     "name": "stdout",
     "output_type": "stream",
     "text": [
      "\n"
     ]
    },
    {
     "name": "stderr",
     "output_type": "stream",
     "text": [
      "You are using Wmfdata v2.0.0, but v2.0.1 is available.\n",
      "\n",
      "To update, run `pip install --upgrade git+https://github.com/wikimedia/wmfdata-python.git@release`.\n",
      "\n",
      "To see the changes, refer to https://github.com/wikimedia/wmfdata-python/blob/release/CHANGELOG.md.\n"
     ]
    }
   ],
   "source": [
    "import numpy as np\n",
    "import pandas as pd\n",
    "import wmfdata as wmf\n",
    "\n",
    "pd.options.display.max_columns = None\n",
    "\n",
    "import warnings\n",
    "import json\n",
    "import time"
   ]
  },
  {
   "cell_type": "code",
   "execution_count": 2,
   "id": "56e69083-bc64-4f7d-8ba7-2de548ea3b26",
   "metadata": {},
   "outputs": [],
   "source": [
    "snapshot = '2023-08'"
   ]
  },
  {
   "cell_type": "markdown",
   "id": "d130b608-b5b8-409e-b3d9-086da6b88f49",
   "metadata": {
    "tags": []
   },
   "source": [
    "## spark_session"
   ]
  },
  {
   "cell_type": "code",
   "execution_count": 3,
   "id": "2e73c631-8183-4373-99fc-425f4e00c606",
   "metadata": {},
   "outputs": [
    {
     "name": "stdout",
     "output_type": "stream",
     "text": [
      "no active session\n"
     ]
    }
   ],
   "source": [
    "spark_session = wmf.spark.get_active_session()\n",
    "\n",
    "if type(spark_session) != type(None):\n",
    "    spark_session.stop()\n",
    "else:\n",
    "    print('no active session')"
   ]
  },
  {
   "cell_type": "code",
   "execution_count": 4,
   "id": "147c8140-3b07-42b9-aa28-a70fcc55a5f6",
   "metadata": {},
   "outputs": [
    {
     "name": "stdout",
     "output_type": "stream",
     "text": [
      "SPARK_HOME: /usr/lib/spark3\n",
      "Using Hadoop client lib jars at 3.2.0, provided by Spark.\n",
      "PYSPARK_PYTHON=/opt/conda-analytics/bin/python3\n"
     ]
    },
    {
     "name": "stderr",
     "output_type": "stream",
     "text": [
      "Setting default log level to \"WARN\".\n",
      "To adjust logging level use sc.setLogLevel(newLevel). For SparkR, use setLogLevel(newLevel).\n",
      "23/09/21 07:11:04 WARN SparkConf: Note that spark.local.dir will be overridden by the value set by the cluster manager (via SPARK_LOCAL_DIRS in mesos/standalone/kubernetes and LOCAL_DIRS in YARN).\n",
      "23/09/21 07:11:05 WARN Utils: Service 'sparkDriver' could not bind on port 12000. Attempting port 12001.\n",
      "23/09/21 07:11:05 WARN Utils: Service 'sparkDriver' could not bind on port 12001. Attempting port 12002.\n",
      "23/09/21 07:11:05 WARN Utils: Service 'SparkUI' could not bind on port 4040. Attempting port 4041.\n",
      "23/09/21 07:11:05 WARN Utils: Service 'SparkUI' could not bind on port 4041. Attempting port 4042.\n",
      "23/09/21 07:11:13 WARN Utils: Service 'org.apache.spark.network.netty.NettyBlockTransferService' could not bind on port 13000. Attempting port 13001.\n",
      "23/09/21 07:11:13 WARN Utils: Service 'org.apache.spark.network.netty.NettyBlockTransferService' could not bind on port 13001. Attempting port 13002.\n",
      "23/09/21 07:11:13 WARN YarnSchedulerBackend$YarnSchedulerEndpoint: Attempted to request executors before the AM has registered!\n"
     ]
    }
   ],
   "source": [
    "spark_session = wmf.spark.create_custom_session(\n",
    "    master=\"yarn\",\n",
    "    app_name='cws-user-data',\n",
    "    spark_config={\n",
    "        \"spark.driver.memory\": \"4g\",\n",
    "        \"spark.dynamicAllocation.maxExecutors\": 64,\n",
    "        \"spark.executor.memory\": \"16g\",\n",
    "        \"spark.executor.cores\": 4,\n",
    "        \"spark.sql.shuffle.partitions\": 256,\n",
    "        \"spark.driver.maxResultSize\": \"2g\"\n",
    "        \n",
    "    }\n",
    ")"
   ]
  },
  {
   "cell_type": "code",
   "execution_count": 5,
   "id": "0e891492-1a4c-4493-afb2-0083dc73d77e",
   "metadata": {},
   "outputs": [
    {
     "data": {
      "text/html": [
       "\n",
       "            <div>\n",
       "                <p><b>SparkSession - hive</b></p>\n",
       "                \n",
       "        <div>\n",
       "            <p><b>SparkContext</b></p>\n",
       "\n",
       "            <p><a href=\"http://stat1005.eqiad.wmnet:4042\">Spark UI</a></p>\n",
       "\n",
       "            <dl>\n",
       "              <dt>Version</dt>\n",
       "                <dd><code>v3.1.2</code></dd>\n",
       "              <dt>Master</dt>\n",
       "                <dd><code>yarn</code></dd>\n",
       "              <dt>AppName</dt>\n",
       "                <dd><code>cws-user-data</code></dd>\n",
       "            </dl>\n",
       "        </div>\n",
       "        \n",
       "            </div>\n",
       "        "
      ],
      "text/plain": [
       "<pyspark.sql.session.SparkSession at 0x7f41f1197670>"
      ]
     },
     "execution_count": 5,
     "metadata": {},
     "output_type": "execute_result"
    }
   ],
   "source": [
    "spark_session"
   ]
  },
  {
   "cell_type": "code",
   "execution_count": 6,
   "id": "6be21299-0aed-4a82-b19b-49c2af8b50dd",
   "metadata": {},
   "outputs": [],
   "source": [
    "spark_session.sparkContext.setLogLevel(\"ERROR\")"
   ]
  },
  {
   "cell_type": "markdown",
   "id": "32c6d3de-14f4-425b-8ba6-00cc0c57b3b2",
   "metadata": {},
   "source": [
    "## query"
   ]
  },
  {
   "cell_type": "code",
   "execution_count": 7,
   "id": "d85fba1f-e0c9-4bfa-aafe-03a33b57d4d8",
   "metadata": {},
   "outputs": [
    {
     "data": {
      "text/html": [
       "<div>\n",
       "<style scoped>\n",
       "    .dataframe tbody tr th:only-of-type {\n",
       "        vertical-align: middle;\n",
       "    }\n",
       "\n",
       "    .dataframe tbody tr th {\n",
       "        vertical-align: top;\n",
       "    }\n",
       "\n",
       "    .dataframe thead th {\n",
       "        text-align: right;\n",
       "    }\n",
       "</style>\n",
       "<table border=\"1\" class=\"dataframe\">\n",
       "  <thead>\n",
       "    <tr style=\"text-align: right;\">\n",
       "      <th></th>\n",
       "      <th>year</th>\n",
       "      <th>data_end</th>\n",
       "      <th>main_page</th>\n",
       "      <th>main_category</th>\n",
       "      <th>category_subpages</th>\n",
       "      <th>proposals_category</th>\n",
       "      <th>proposal_template</th>\n",
       "      <th>results_page</th>\n",
       "      <th>archive_page</th>\n",
       "      <th>ar_contains_reject_reason</th>\n",
       "      <th>notes</th>\n",
       "    </tr>\n",
       "  </thead>\n",
       "  <tbody>\n",
       "    <tr>\n",
       "      <th>0</th>\n",
       "      <td>2015</td>\n",
       "      <td>2015-12-31</td>\n",
       "      <td>Community Wishlist Survey 2015</td>\n",
       "      <td>Community Wishlist Survey 2015</td>\n",
       "      <td>Community Wishlist Survey 2015</td>\n",
       "      <td>None</td>\n",
       "      <td>non_standard</td>\n",
       "      <td>Community Wishlist Survey 2015/Results</td>\n",
       "      <td>Community Wishlist Survey 2015/Archive</td>\n",
       "      <td>False</td>\n",
       "      <td>proposals listed as sections;  discussions in ...</td>\n",
       "    </tr>\n",
       "    <tr>\n",
       "      <th>1</th>\n",
       "      <td>2016</td>\n",
       "      <td>2016-12-31</td>\n",
       "      <td>Community Wishlist Survey 2016</td>\n",
       "      <td>Community Wishlist Survey 2016</td>\n",
       "      <td>Community Wishlist Survey 2016/Proposals</td>\n",
       "      <td>None</td>\n",
       "      <td>non_standard</td>\n",
       "      <td>Community Wishlist Survey 2016/Results</td>\n",
       "      <td>Community Wishlist Survey 2016/Archive</td>\n",
       "      <td>False</td>\n",
       "      <td>proposals listed as sections;  sections were a...</td>\n",
       "    </tr>\n",
       "    <tr>\n",
       "      <th>2</th>\n",
       "      <td>2017</td>\n",
       "      <td>2017-12-31</td>\n",
       "      <td>Community Wishlist Survey 2017</td>\n",
       "      <td>Community Wishlist Survey 2017</td>\n",
       "      <td>Community Wishlist Survey 2017/Categories</td>\n",
       "      <td>Community Wishlist Survey 2017/Proposals</td>\n",
       "      <td>standard</td>\n",
       "      <td>Community Wishlist Survey 2017/Results</td>\n",
       "      <td>Community Wishlist Survey 2017/Archive</td>\n",
       "      <td>True</td>\n",
       "      <td>proposals as subpages of categories; standard ...</td>\n",
       "    </tr>\n",
       "    <tr>\n",
       "      <th>3</th>\n",
       "      <td>2018</td>\n",
       "      <td>None</td>\n",
       "      <td>None</td>\n",
       "      <td>None</td>\n",
       "      <td>None</td>\n",
       "      <td>None</td>\n",
       "      <td>None</td>\n",
       "      <td>None</td>\n",
       "      <td>None</td>\n",
       "      <td>None</td>\n",
       "      <td>None</td>\n",
       "    </tr>\n",
       "    <tr>\n",
       "      <th>4</th>\n",
       "      <td>2019</td>\n",
       "      <td>2018-11-30</td>\n",
       "      <td>Community Wishlist Survey 2019</td>\n",
       "      <td>Community Wishlist Survey 2019</td>\n",
       "      <td>Community Wishlist Survey 2019/Categories</td>\n",
       "      <td>Community Wishlist Survey 2019/Proposals</td>\n",
       "      <td>standard</td>\n",
       "      <td>Community Wishlist Survey 2019/Results</td>\n",
       "      <td>Community Wishlist Survey 2019/Archive</td>\n",
       "      <td>True</td>\n",
       "      <td>proposals as subpages of categories; standard ...</td>\n",
       "    </tr>\n",
       "  </tbody>\n",
       "</table>\n",
       "</div>"
      ],
      "text/plain": [
       "   year    data_end                       main_page  \\\n",
       "0  2015  2015-12-31  Community Wishlist Survey 2015   \n",
       "1  2016  2016-12-31  Community Wishlist Survey 2016   \n",
       "2  2017  2017-12-31  Community Wishlist Survey 2017   \n",
       "3  2018        None                            None   \n",
       "4  2019  2018-11-30  Community Wishlist Survey 2019   \n",
       "\n",
       "                    main_category                          category_subpages  \\\n",
       "0  Community Wishlist Survey 2015             Community Wishlist Survey 2015   \n",
       "1  Community Wishlist Survey 2016   Community Wishlist Survey 2016/Proposals   \n",
       "2  Community Wishlist Survey 2017  Community Wishlist Survey 2017/Categories   \n",
       "3                            None                                       None   \n",
       "4  Community Wishlist Survey 2019  Community Wishlist Survey 2019/Categories   \n",
       "\n",
       "                         proposals_category proposal_template  \\\n",
       "0                                      None      non_standard   \n",
       "1                                      None      non_standard   \n",
       "2  Community Wishlist Survey 2017/Proposals          standard   \n",
       "3                                      None              None   \n",
       "4  Community Wishlist Survey 2019/Proposals          standard   \n",
       "\n",
       "                             results_page  \\\n",
       "0  Community Wishlist Survey 2015/Results   \n",
       "1  Community Wishlist Survey 2016/Results   \n",
       "2  Community Wishlist Survey 2017/Results   \n",
       "3                                    None   \n",
       "4  Community Wishlist Survey 2019/Results   \n",
       "\n",
       "                             archive_page ar_contains_reject_reason  \\\n",
       "0  Community Wishlist Survey 2015/Archive                     False   \n",
       "1  Community Wishlist Survey 2016/Archive                     False   \n",
       "2  Community Wishlist Survey 2017/Archive                      True   \n",
       "3                                    None                      None   \n",
       "4  Community Wishlist Survey 2019/Archive                      True   \n",
       "\n",
       "                                               notes  \n",
       "0  proposals listed as sections;  discussions in ...  \n",
       "1  proposals listed as sections;  sections were a...  \n",
       "2  proposals as subpages of categories; standard ...  \n",
       "3                                               None  \n",
       "4  proposals as subpages of categories; standard ...  "
      ]
     },
     "execution_count": 7,
     "metadata": {},
     "output_type": "execute_result"
    }
   ],
   "source": [
    "cws_links = pd.read_csv('data/cws_page_links.tsv', sep='\\t')\n",
    "cws_links.head()"
   ]
  },
  {
   "cell_type": "code",
   "execution_count": 8,
   "id": "6bf722dc-d2ff-48be-974d-dca77fef9270",
   "metadata": {},
   "outputs": [],
   "source": [
    "with open('data/01-cws_proposals_data.json') as file:\n",
    "    cws_data = json.load(file)"
   ]
  },
  {
   "cell_type": "code",
   "execution_count": 9,
   "id": "ceb37304-571f-41e4-9215-c4f277dba7c1",
   "metadata": {},
   "outputs": [],
   "source": [
    "user_data_query = \"\"\"\n",
    "WITH\n",
    "    yearly_edits AS (\n",
    "        SELECT\n",
    "            event_user_text AS username,\n",
    "            wiki_db,\n",
    "            SUM(IF(wiki_db = 'wikidatawiki', 0.1, 1)) AS edit_count,\n",
    "            MAX(event_timestamp) AS last_edit\n",
    "        FROM \n",
    "            wmf.mediawiki_history\n",
    "        WHERE \n",
    "            snapshot='{HIVE_SNAPSHOT}' \n",
    "            AND NOT event_user_is_anonymous\n",
    "            AND event_type = 'create'\n",
    "            AND event_entity = 'revision'\n",
    "            AND event_user_text IN {USERS_LIST}\n",
    "            AND DATE(event_timestamp) BETWEEN DATE_SUB('{END_OF_DATA}', 365*2) AND DATE('{END_OF_DATA}')\n",
    "        GROUP BY \n",
    "            event_user_text, \n",
    "            wiki_db\n",
    "    ),\n",
    "\n",
    "    home_wiki_ranked AS (\n",
    "        SELECT \n",
    "            *,\n",
    "            ROW_NUMBER() OVER (\n",
    "                PARTITION BY username \n",
    "                ORDER BY edit_count DESC, last_edit DESC) AS rank\n",
    "        FROM yearly_edits\n",
    "    ),\n",
    "\n",
    "    home_wiki AS (\n",
    "        SELECT username, wiki_db AS home_wiki\n",
    "        FROM home_wiki_ranked\n",
    "        WHERE rank = 1\n",
    "    ),\n",
    "\n",
    "    edit_bucket_data AS (\n",
    "        SELECT\n",
    "            mwh.revision_id,\n",
    "            mwh.event_user_text,\n",
    "            mwh.event_user_revision_count AS edit_count,\n",
    "            CASE\n",
    "                WHEN mwh.event_user_revision_count < 100 THEN '0-99'\n",
    "                WHEN mwh.event_user_revision_count BETWEEN 100 AND 499 THEN '100-499'\n",
    "                WHEN mwh.event_user_revision_count BETWEEN 1000 AND 4999 THEN '1000-4999'\n",
    "                ELSE '5000+'\n",
    "            END AS edit_bucket,\n",
    "            mwh.event_timestamp,\n",
    "            ROW_NUMBER() OVER (\n",
    "                PARTITION BY mwh.event_user_text, mwh.wiki_db \n",
    "                ORDER BY mwh.event_timestamp DESC) AS rank,\n",
    "            CASE \n",
    "                WHEN mwh.wiki_db = 'metawiki' THEN NULL \n",
    "                ELSE ARRAY_DISTINCT(ARRAY_UNION(mwh.event_user_groups, mwh.event_user_groups_historical)) \n",
    "            END AS user_groups,\n",
    "            mwh.wiki_db,\n",
    "            hw.home_wiki\n",
    "        FROM \n",
    "            wmf.mediawiki_history mwh\n",
    "        JOIN \n",
    "            home_wiki hw \n",
    "            ON mwh.event_user_text = hw.username\n",
    "        WHERE \n",
    "            mwh.snapshot = '2023-08'\n",
    "            AND mwh.event_user_text IN {USERS_LIST}\n",
    "            AND DATE(mwh.event_timestamp) <= DATE('{END_OF_DATA}')\n",
    "            AND (mwh.wiki_db = hw.home_wiki \n",
    "                OR mwh.wiki_db = 'metawiki')\n",
    "    ),\n",
    "\n",
    "    home_wiki_activity AS (\n",
    "        SELECT \n",
    "            * \n",
    "        FROM \n",
    "            edit_bucket_data\n",
    "        WHERE \n",
    "            wiki_db = home_wiki \n",
    "            AND rank = 1\n",
    "    ),\n",
    "    \n",
    "    meta_wiki_activity AS (\n",
    "        SELECT \n",
    "            * \n",
    "        FROM \n",
    "            edit_bucket_data\n",
    "        WHERE \n",
    "            wiki_db = 'metawiki' \n",
    "            AND rank = 1\n",
    "    )\n",
    "\n",
    "SELECT\n",
    "    hw.event_user_text AS username,\n",
    "    hw.home_wiki,\n",
    "    hw.edit_count AS hw_edit_count,\n",
    "    hw.edit_bucket AS hw_edit_bucket,\n",
    "    hw.user_groups AS hw_user_groups,\n",
    "    mw.edit_count AS mw_edit_count,\n",
    "    mw.edit_bucket AS mw_bucket\n",
    "FROM \n",
    "    home_wiki_activity hw\n",
    "JOIN \n",
    "    meta_wiki_activity mw \n",
    "    ON hw.event_user_text = mw.event_user_text\n",
    "\"\"\"\n",
    "\n",
    "guc_query = \"\"\"\n",
    "SELECT\n",
    "    gu_name AS username,\n",
    "    TIMESTAMPDIFF(MONTH, gu_registration, NOW()) AS account_age_months\n",
    "FROM\n",
    "    globaluser\n",
    "WHERE\n",
    "    gu_name IN {USERS_LIST}\n",
    "\"\"\""
   ]
  },
  {
   "cell_type": "code",
   "execution_count": 10,
   "id": "528d892b-b211-41c0-80d0-fe3ff1f3e7f2",
   "metadata": {},
   "outputs": [],
   "source": [
    "def users_by_year(data):\n",
    "    \n",
    "    users_by_year = {}\n",
    "    \n",
    "    for year, categories in data.items():\n",
    "        \n",
    "        users = set()\n",
    "        \n",
    "        for category in categories.values():\n",
    "            for proposal in category.values():\n",
    "                for key in ['proposer', 'discussion_participants', 'voters']:\n",
    "                    participants = proposal.get(key, [])\n",
    "                    if participants != None:\n",
    "                        users.update(participants)\n",
    "        \n",
    "        users_by_year[year] = list(users)\n",
    "        \n",
    "    return users_by_year\n",
    "\n",
    "cws_users_by_year = users_by_year(cws_data)"
   ]
  },
  {
   "cell_type": "code",
   "execution_count": 14,
   "id": "51a2803f-a51e-487d-ad12-e1b8b3526823",
   "metadata": {},
   "outputs": [],
   "source": [
    "def get_user_data(survey_year, cws_info=cws_links, usernames=cws_users_by_year, user_data_query=user_data_query, guc_query=guc_query):\n",
    "    \n",
    "    data_end = cws_info.query(\"\"\"year == @survey_year\"\"\")['data_end'].values[0]\n",
    "    participants = wmf.utils.sql_tuple(usernames[str(survey_year)])\n",
    "\n",
    "    users_data = wmf.spark.run(user_data_query.format(HIVE_SNAPSHOT=snapshot, END_OF_DATA=data_end, USERS_LIST=participants))\n",
    "    guc_data = wmf.mariadb.run(guc_query.format(USERS_LIST=participants), dbs='centralauth', use_x1=True)\n",
    "    \n",
    "    users_data = pd.merge(users_data, guc_data, how='left', on='username')\n",
    "    \n",
    "    users_data['account_age_years'] = round(users_data['account_age_months'] / 12, 2)    \n",
    "    users_data['survey_year'] = survey_year\n",
    "    \n",
    "    return users_data"
   ]
  },
  {
   "cell_type": "code",
   "execution_count": 15,
   "id": "81656bc7-6f09-4d98-b34d-827c4b10a504",
   "metadata": {},
   "outputs": [
    {
     "name": "stderr",
     "output_type": "stream",
     "text": [
      "                                                                                ]]\r"
     ]
    },
    {
     "name": "stdout",
     "output_type": "stream",
     "text": [
      "2015 data was extracted in 2.68 minutes.\n"
     ]
    },
    {
     "name": "stderr",
     "output_type": "stream",
     "text": [
      "                                                                                ]]\r"
     ]
    },
    {
     "name": "stdout",
     "output_type": "stream",
     "text": [
      "2016 data was extracted in 2.5 minutes.\n"
     ]
    },
    {
     "name": "stderr",
     "output_type": "stream",
     "text": [
      "                                                                                6]]]]\r"
     ]
    },
    {
     "name": "stdout",
     "output_type": "stream",
     "text": [
      "2017 data was extracted in 2.12 minutes.\n"
     ]
    },
    {
     "name": "stderr",
     "output_type": "stream",
     "text": [
      "                                                                                92]]]\r"
     ]
    },
    {
     "name": "stdout",
     "output_type": "stream",
     "text": [
      "2019 data was extracted in 4.16 minutes.\n"
     ]
    },
    {
     "name": "stderr",
     "output_type": "stream",
     "text": [
      "                                                                                ]]]]]\r"
     ]
    },
    {
     "name": "stdout",
     "output_type": "stream",
     "text": [
      "2020 data was extracted in 4.28 minutes.\n"
     ]
    },
    {
     "name": "stderr",
     "output_type": "stream",
     "text": [
      "                                                                                56]]]\r"
     ]
    },
    {
     "name": "stdout",
     "output_type": "stream",
     "text": [
      "2021 data was extracted in 5.93 minutes.\n"
     ]
    },
    {
     "name": "stderr",
     "output_type": "stream",
     "text": [
      "                                                                                ]]]]\r"
     ]
    },
    {
     "name": "stdout",
     "output_type": "stream",
     "text": [
      "2022 data was extracted in 6.73 minutes.\n"
     ]
    },
    {
     "name": "stderr",
     "output_type": "stream",
     "text": [
      "                                                                                2]]]]\r"
     ]
    },
    {
     "name": "stdout",
     "output_type": "stream",
     "text": [
      "2023 data was extracted in 4.82 minutes.\n",
      "CPU times: user 5.98 s, sys: 1.35 s, total: 7.33 s\n",
      "Wall time: 33min 13s\n"
     ]
    }
   ],
   "source": [
    "%%time\n",
    "warnings.filterwarnings('ignore')\n",
    "users_data = pd.DataFrame()\n",
    "\n",
    "for year in range(2015, 2023+1):\n",
    "    if year != 2018:\n",
    "        \n",
    "        start_time = time.time()\n",
    "        \n",
    "        user_data_yearly = get_user_data(year)\n",
    "        user_data_yearly.to_csv(f'secrets/cws_user_data_{year}.tsv', sep='\\t')\n",
    "        \n",
    "        users_data = pd.concat([users_data, user_data_yearly], ignore_index=True)\n",
    "        users_data.to_csv(f'secrets/cws_user_data_merged.tsv', sep='\\t')\n",
    "        \n",
    "        end_time = time.time()\n",
    "        elapsed_time = round((end_time - start_time)/60, 2)\n",
    "        print(f\"{year} data was extracted in {elapsed_time} minutes.\")"
   ]
  },
  {
   "cell_type": "code",
   "execution_count": null,
   "id": "f232c072-b5ad-46de-995f-50092e029860",
   "metadata": {},
   "outputs": [],
   "source": []
  }
 ],
 "metadata": {
  "kernelspec": {
   "display_name": "Python 3 (ipykernel)",
   "language": "python",
   "name": "python3"
  },
  "language_info": {
   "codemirror_mode": {
    "name": "ipython",
    "version": 3
   },
   "file_extension": ".py",
   "mimetype": "text/x-python",
   "name": "python",
   "nbconvert_exporter": "python",
   "pygments_lexer": "ipython3",
   "version": "3.10.8"
  }
 },
 "nbformat": 4,
 "nbformat_minor": 5
}
